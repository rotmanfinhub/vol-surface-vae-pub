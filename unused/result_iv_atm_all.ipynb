{
 "cells": [
  {
   "cell_type": "code",
   "execution_count": 1,
   "metadata": {},
   "outputs": [],
   "source": [
    "import numpy as np\n",
    "import pandas as pd\n",
    "import yfinance\n",
    "import statsmodels.formula.api as smf\n",
    "import statsmodels.api as smi\n",
    "from table_making import summary_col\n",
    "import matplotlib.pyplot as plt\n",
    "import re\n",
    "import os"
   ]
  },
  {
   "cell_type": "code",
   "execution_count": 2,
   "metadata": {},
   "outputs": [],
   "source": [
    "if not os.path.exists(\"tables/iv\"):\n",
    "    os.makedirs(\"tables/iv\")"
   ]
  },
  {
   "cell_type": "code",
   "execution_count": 3,
   "metadata": {},
   "outputs": [],
   "source": [
    "def latex_format(sm):\n",
    "    ltx = sm.as_latex()\n",
    "    ltx = re.sub(r\" +\", \" \", ltx)\n",
    "    ltx = ltx.replace(\" & iv\\\\_onem & delta\\\\_iv \\\\\\\\\\n\\\\hline\", \"\"\" & $x_t[1/12, 1]$ & $|x_t[1/12, 1] - x_{t-1}[1/12, 1]|$ \\\\\\\\\n",
    " & (1) & (2) \\\\\\\\\n",
    "\\cmidrule(lr){2-2} \\cmidrule(lr){3-3}\"\"\")\n",
    "    ltx = ltx.replace(\"iv\\_atm\\_std\", \"$\\sigma(\\\\text{iv}_{\\\\text{ATM}})$\")\n",
    "    ltx = ltx.replace(\"iv\\_atm\\_mean\", \"$\\mu(\\\\text{iv}_{\\\\text{ATM}})$\")\n",
    "    ltx = ltx.replace(\"R-squared Adj.\", \"\\\\hline\\n$R^2$\")\n",
    "    ltx = ltx.replace(\"\\\\$N\\\\$\", \"$N$\")\n",
    "    ltx = ltx.replace(\"\"\"lll\"\"\", \"\"\"lcc\"\"\")\n",
    "    ltx = ltx.replace(\"cc}\\n\\\\hline\", \"cc}\\n\\\\hline\\\\hline\")\n",
    "    ltx = ltx.replace(\"\\\\begin{table}\\n\\\\caption{}\\n\\\\label{}\\n\\\\begin{center}\\n\", \"\")\n",
    "    ltx = ltx.replace(\"\\\\end{center}\\n\\\\end{table}\", \"\")\n",
    "    return ltx"
   ]
  },
  {
   "cell_type": "markdown",
   "metadata": {},
   "source": [
    "# Regression - no ex feats"
   ]
  },
  {
   "cell_type": "markdown",
   "metadata": {},
   "source": [
    "## std"
   ]
  },
  {
   "cell_type": "code",
   "execution_count": 4,
   "metadata": {},
   "outputs": [],
   "source": [
    "spx_df = pd.read_parquet(\"data/spx_with_vix.parquet\")\n",
    "spx_df[\"iv_onem\"] = spx_df[\"ttm_one_month_moneyness_pt_one\"]\n",
    "spx_df[\"delta_iv\"] = np.abs(spx_df[\"iv_onem\"] - spx_df[\"iv_onem\"].shift(1))\n",
    "simulated_surfaces = np.load(\"test_spx/2023_08_27_simple/model_0_gen3.npy\")\n",
    "simulated_atm = simulated_surfaces[:, :, 3, 2]\n",
    "simulated_atm_std = np.std(simulated_atm, axis=1)\n",
    "\n",
    "regression_df = spx_df.loc[3:5303-1, [\"date\", \"iv_onem\", \"delta_iv\"]]\n",
    "regression_df1 = regression_df.copy()\n",
    "regression_df1[\"iv_atm_std\"] = simulated_atm_std\n",
    "\n",
    "models = []\n",
    "for y in [\"iv_onem\", \"delta_iv\"]:\n",
    "    model = smf.ols(f\"{y}~1+iv_atm_std\", data=regression_df1).fit(cov_type=\"HC3\")\n",
    "    models.append(model)\n",
    "\n",
    "sm = summary_col(models, model_names=[\"iv_onem\", \"delta_iv\"], stars=True,\n",
    "                 regressor_order=[\"iv_atm_std\", \"Intercept\"],\n",
    "                 info_dict={'$N$':lambda x: \"{0:d}\".format(int(x.nobs))})\n",
    "with open(\"tables/iv/reg_overall_no_ex_std.tex\", \"w\") as f:\n",
    "    f.write(latex_format(sm))"
   ]
  },
  {
   "cell_type": "markdown",
   "metadata": {},
   "source": [
    "## mean"
   ]
  },
  {
   "cell_type": "code",
   "execution_count": 5,
   "metadata": {},
   "outputs": [],
   "source": [
    "spx_df = pd.read_parquet(\"data/spx_with_vix.parquet\")\n",
    "spx_df[\"iv_onem\"] = spx_df[\"ttm_one_month_moneyness_pt_one\"]\n",
    "spx_df[\"delta_iv\"] = np.abs(spx_df[\"iv_onem\"] - spx_df[\"iv_onem\"].shift(1))\n",
    "simulated_surfaces = np.load(\"test_spx/2023_08_27_simple/model_0_gen3.npy\")\n",
    "simulated_atm = simulated_surfaces[:, :, 3, 2]\n",
    "simulated_atm_mean = np.mean(simulated_atm, axis=1)\n",
    "\n",
    "regression_df = spx_df.loc[3:5303-1, [\"date\", \"iv_onem\", \"delta_iv\"]]\n",
    "regression_df1 = regression_df.copy()\n",
    "regression_df1[\"iv_atm_mean\"] = simulated_atm_mean\n",
    "\n",
    "models = []\n",
    "for y in [\"iv_onem\", \"delta_iv\"]:\n",
    "    model = smf.ols(f\"{y}~1+iv_atm_mean\", data=regression_df1).fit(cov_type=\"HC3\")\n",
    "    models.append(model)\n",
    "\n",
    "sm = summary_col(models, model_names=[\"iv_onem\", \"delta_iv\"], stars=True,\n",
    "                 regressor_order=[\"iv_atm_mean\", \"Intercept\"],\n",
    "                 info_dict={'$N$':lambda x: \"{0:d}\".format(int(x.nobs))})\n",
    "with open(\"tables/iv/reg_overall_no_ex_mean.tex\", \"w\") as f:\n",
    "    f.write(latex_format(sm))"
   ]
  },
  {
   "cell_type": "markdown",
   "metadata": {},
   "source": [
    "## Regression - no loss"
   ]
  },
  {
   "cell_type": "markdown",
   "metadata": {},
   "source": [
    "## std"
   ]
  },
  {
   "cell_type": "code",
   "execution_count": 6,
   "metadata": {},
   "outputs": [],
   "source": [
    "spx_df = pd.read_parquet(\"data/spx_with_vix.parquet\")\n",
    "spx_df[\"iv_onem\"] = spx_df[\"ttm_one_month_moneyness_pt_one\"]\n",
    "spx_df[\"delta_iv\"] = np.abs(spx_df[\"iv_onem\"] - spx_df[\"iv_onem\"].shift(1))\n",
    "simulated_surfaces = np.load(\"test_spx/2023_08_27/model_0_gen3.npy\")\n",
    "simulated_atm = simulated_surfaces[:, :, 3, 2]\n",
    "simulated_atm_std = np.std(simulated_atm, axis=1)\n",
    "\n",
    "regression_df = spx_df.loc[3:5303-1, [\"date\", \"iv_onem\", \"delta_iv\"]]\n",
    "regression_df1 = regression_df.copy()\n",
    "regression_df1[\"iv_atm_std\"] = simulated_atm_std\n",
    "\n",
    "models = []\n",
    "for y in [\"iv_onem\", \"delta_iv\"]:\n",
    "    model = smf.ols(f\"{y}~1+iv_atm_std\", data=regression_df1).fit(cov_type=\"HC3\")\n",
    "    models.append(model)\n",
    "\n",
    "sm = summary_col(models, model_names=[\"iv_onem\", \"delta_iv\"], stars=True,\n",
    "                 regressor_order=[\"iv_atm_std\", \"Intercept\"],\n",
    "                 info_dict={'$N$':lambda x: \"{0:d}\".format(int(x.nobs))})\n",
    "with open(\"tables/iv/reg_overall_no_loss_std.tex\", \"w\") as f:\n",
    "    f.write(latex_format(sm))"
   ]
  },
  {
   "cell_type": "markdown",
   "metadata": {},
   "source": [
    "## mean"
   ]
  },
  {
   "cell_type": "code",
   "execution_count": 7,
   "metadata": {},
   "outputs": [],
   "source": [
    "spx_df = pd.read_parquet(\"data/spx_with_vix.parquet\")\n",
    "spx_df[\"iv_onem\"] = spx_df[\"ttm_one_month_moneyness_pt_one\"]\n",
    "spx_df[\"delta_iv\"] = np.abs(spx_df[\"iv_onem\"] - spx_df[\"iv_onem\"].shift(1))\n",
    "simulated_surfaces = np.load(\"test_spx/2023_08_27/model_0_gen3.npy\")\n",
    "simulated_atm = simulated_surfaces[:, :, 3, 2]\n",
    "simulated_atm_mean = np.mean(simulated_atm, axis=1)\n",
    "\n",
    "regression_df = spx_df.loc[3:5303-1, [\"date\", \"iv_onem\", \"delta_iv\"]]\n",
    "regression_df1 = regression_df.copy()\n",
    "regression_df1[\"iv_atm_mean\"] = simulated_atm_mean\n",
    "\n",
    "models = []\n",
    "for y in [\"iv_onem\", \"delta_iv\"]:\n",
    "    model = smf.ols(f\"{y}~1+iv_atm_mean\", data=regression_df1).fit(cov_type=\"HC3\")\n",
    "    models.append(model)\n",
    "\n",
    "sm = summary_col(models, model_names=[\"iv_onem\", \"delta_iv\"], stars=True,\n",
    "                 regressor_order=[\"iv_atm_mean\", \"Intercept\"],\n",
    "                 info_dict={'$N$':lambda x: \"{0:d}\".format(int(x.nobs))})\n",
    "with open(\"tables/iv/reg_overall_no_loss_mean.tex\", \"w\") as f:\n",
    "    f.write(latex_format(sm))"
   ]
  },
  {
   "cell_type": "markdown",
   "metadata": {},
   "source": [
    "# Regression - loss"
   ]
  },
  {
   "cell_type": "markdown",
   "metadata": {},
   "source": [
    "## std"
   ]
  },
  {
   "cell_type": "code",
   "execution_count": 8,
   "metadata": {},
   "outputs": [],
   "source": [
    "spx_df = pd.read_parquet(\"data/spx_with_vix.parquet\")\n",
    "spx_df[\"iv_onem\"] = spx_df[\"ttm_one_month_moneyness_pt_one\"]\n",
    "spx_df[\"delta_iv\"] = np.abs(spx_df[\"iv_onem\"] - spx_df[\"iv_onem\"].shift(1))\n",
    "simulated_surfaces = np.load(\"test_spx/2023_08_27/model_1_gen3.npz\")[\"surfaces\"]\n",
    "simulated_atm = simulated_surfaces[:, :, 3, 2]\n",
    "simulated_atm_std = np.std(simulated_atm, axis=1)\n",
    "\n",
    "regression_df = spx_df.loc[3:5303-1, [\"date\", \"iv_onem\", \"delta_iv\"]]\n",
    "regression_df1 = regression_df.copy()\n",
    "regression_df1[\"iv_atm_std\"] = simulated_atm_std\n",
    "\n",
    "models = []\n",
    "for y in [\"iv_onem\", \"delta_iv\"]:\n",
    "    model = smf.ols(f\"{y}~1+iv_atm_std\", data=regression_df1).fit(cov_type=\"HC3\")\n",
    "    models.append(model)\n",
    "\n",
    "sm = summary_col(models, model_names=[\"iv_onem\", \"delta_iv\"], stars=True,\n",
    "                 regressor_order=[\"iv_atm_std\", \"Intercept\"],\n",
    "                 info_dict={'$N$':lambda x: \"{0:d}\".format(int(x.nobs))})\n",
    "with open(\"tables/iv/reg_overall_loss_std.tex\", \"w\") as f:\n",
    "    f.write(latex_format(sm))"
   ]
  },
  {
   "cell_type": "markdown",
   "metadata": {},
   "source": [
    "## mean"
   ]
  },
  {
   "cell_type": "code",
   "execution_count": 9,
   "metadata": {},
   "outputs": [],
   "source": [
    "spx_df = pd.read_parquet(\"data/spx_with_vix.parquet\")\n",
    "spx_df[\"iv_onem\"] = spx_df[\"ttm_one_month_moneyness_pt_one\"]\n",
    "spx_df[\"delta_iv\"] = np.abs(spx_df[\"iv_onem\"] - spx_df[\"iv_onem\"].shift(1))\n",
    "simulated_surfaces = np.load(\"test_spx/2023_08_27/model_1_gen3.npz\")[\"surfaces\"]\n",
    "simulated_atm = simulated_surfaces[:, :, 3, 2]\n",
    "simulated_atm_mean = np.mean(simulated_atm, axis=1)\n",
    "\n",
    "regression_df = spx_df.loc[3:5303-1, [\"date\", \"iv_onem\", \"delta_iv\"]]\n",
    "regression_df1 = regression_df.copy()\n",
    "regression_df1[\"iv_atm_mean\"] = simulated_atm_mean\n",
    "\n",
    "models = []\n",
    "for y in [\"iv_onem\", \"delta_iv\"]:\n",
    "    model = smf.ols(f\"{y}~1+iv_atm_mean\", data=regression_df1).fit(cov_type=\"HC3\")\n",
    "    models.append(model)\n",
    "\n",
    "sm = summary_col(models, model_names=[\"iv_onem\", \"delta_iv\"], stars=True,\n",
    "                 regressor_order=[\"iv_atm_mean\", \"Intercept\"],\n",
    "                 info_dict={'$N$':lambda x: \"{0:d}\".format(int(x.nobs))})\n",
    "with open(\"tables/iv/reg_overall_loss_mean.tex\", \"w\") as f:\n",
    "    f.write(latex_format(sm))"
   ]
  }
 ],
 "metadata": {
  "kernelspec": {
   "display_name": "Python 3",
   "language": "python",
   "name": "python3"
  },
  "language_info": {
   "codemirror_mode": {
    "name": "ipython",
    "version": 3
   },
   "file_extension": ".py",
   "mimetype": "text/x-python",
   "name": "python",
   "nbconvert_exporter": "python",
   "pygments_lexer": "ipython3",
   "version": "3.10.8"
  },
  "orig_nbformat": 4
 },
 "nbformat": 4,
 "nbformat_minor": 2
}
