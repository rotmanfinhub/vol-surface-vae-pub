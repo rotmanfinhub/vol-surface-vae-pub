{
 "cells": [
  {
   "cell_type": "code",
   "execution_count": null,
   "metadata": {},
   "outputs": [],
   "source": [
    "import torch\n",
    "import numpy as np\n",
    "from torch.utils.data import DataLoader\n",
    "from vae.datasets import VolSurfaceDataSetDict, VolSurfaceExFeatsDataSet\n",
    "from vae.cvae import CVAE\n",
    "from vae.utils import *"
   ]
  },
  {
   "cell_type": "code",
   "execution_count": null,
   "metadata": {},
   "outputs": [],
   "source": [
    "set_seeds(0)\n",
    "torch.set_default_dtype(torch.float64)"
   ]
  },
  {
   "cell_type": "code",
   "execution_count": null,
   "metadata": {},
   "outputs": [],
   "source": [
    "seq_len = 5\n",
    "ctx_len = seq_len - 1\n",
    "num_epochs = 100"
   ]
  },
  {
   "cell_type": "code",
   "execution_count": null,
   "metadata": {},
   "outputs": [],
   "source": [
    "data = np.load(\"data/vol_surface_with_ret.npz\")\n",
    "vol_surf_data = data[\"surface\"]\n",
    "train_simple = DataLoader(VolSurfaceDataSetDict(vol_surf_data[:4000], seq_len), shuffle=True, batch_size=64)\n",
    "valid_simple = DataLoader(VolSurfaceDataSetDict(vol_surf_data[4000:5000], seq_len), shuffle=True, batch_size=16)\n",
    "test_simple = DataLoader(VolSurfaceDataSetDict(vol_surf_data[5000:], seq_len), shuffle=True, batch_size=16)"
   ]
  },
  {
   "attachments": {},
   "cell_type": "markdown",
   "metadata": {},
   "source": [
    "# Conv version"
   ]
  },
  {
   "cell_type": "code",
   "execution_count": null,
   "metadata": {},
   "outputs": [],
   "source": [
    "config = {\n",
    "    \"seq_len\": seq_len, \n",
    "    \"feat_dim\": (5, 5),\n",
    "    \"latent_dim\": 25,\n",
    "    \"device\": \"cuda\",\n",
    "    \"kl_weight\": 1,\n",
    "    \"surface_hidden\": [5, 5, 5],\n",
    "    \"ctx_len\": ctx_len, \n",
    "    \"ctx_surface_hidden\": [5, 5, 5], \n",
    "    \"ctx_embedding\": 100,\n",
    "    \"use_dense_surface\": False,\n",
    "}\n",
    "model = CVAE(config)\n",
    "print(model)"
   ]
  },
  {
   "cell_type": "code",
   "execution_count": null,
   "metadata": {},
   "outputs": [],
   "source": [
    "train(model, train_simple, valid_simple, epochs=num_epochs, lr=1e-05, model_dir=\"test_spx/no_mem\", file_name=\"conv2d_spx.pt\")"
   ]
  },
  {
   "cell_type": "code",
   "execution_count": null,
   "metadata": {},
   "outputs": [],
   "source": [
    "test(model, train_simple, valid_simple, \"test_spx/no_mem/conv2d_spx.pt\")"
   ]
  },
  {
   "cell_type": "code",
   "execution_count": null,
   "metadata": {},
   "outputs": [],
   "source": [
    "surf = model.get_surface_given_conditions({\"surface\": torch.from_numpy(vol_surf_data[5000:5000+ctx_len])})\n",
    "surf = surf.detach().cpu().numpy().reshape((5,5))\n",
    "plot_surface_separate(vol_surf_data[5000+ctx_len], surf)"
   ]
  },
  {
   "cell_type": "code",
   "execution_count": null,
   "metadata": {},
   "outputs": [],
   "source": [
    "model_data = torch.load(\"test_spx/no_mem/conv2d_spx.pt\")\n",
    "sim = generate_surface_spx(vol_surf_data, None, model_data, start_time=5000, steps_to_sim=30, model_type=CVAE)\n",
    "plot_surface_time_series(sim)"
   ]
  },
  {
   "attachments": {},
   "cell_type": "markdown",
   "metadata": {},
   "source": [
    "# Dense version"
   ]
  },
  {
   "cell_type": "code",
   "execution_count": null,
   "metadata": {},
   "outputs": [],
   "source": [
    "config = {\n",
    "    \"seq_len\": seq_len, \n",
    "    \"feat_dim\": (5, 5),\n",
    "    \"latent_dim\": 100,\n",
    "    \"device\": \"cuda\",\n",
    "    \"kl_weight\": 1,\n",
    "    \"surface_hidden\": [100, 200, 200],\n",
    "    \"ctx_len\": ctx_len, \n",
    "    \"ctx_surface_hidden\": [100, 200, 200], \n",
    "    \"ctx_embedding\": 100,\n",
    "    \"use_dense_surface\": True,\n",
    "}\n",
    "model2 = CVAE(config)\n",
    "print(model2)"
   ]
  },
  {
   "cell_type": "code",
   "execution_count": null,
   "metadata": {},
   "outputs": [],
   "source": [
    "train(model2, train_simple, valid_simple, epochs=num_epochs, lr=1e-05, model_dir=\"test_spx/no_mem\", file_name=\"dense_spx.pt\")"
   ]
  },
  {
   "cell_type": "code",
   "execution_count": null,
   "metadata": {},
   "outputs": [],
   "source": [
    "test(model2, train_simple, valid_simple, \"test_spx/no_mem/dense_spx.pt\")"
   ]
  },
  {
   "cell_type": "code",
   "execution_count": null,
   "metadata": {},
   "outputs": [],
   "source": [
    "surf = model.get_surface_given_conditions({\"surface\": torch.from_numpy(vol_surf_data[5000:5000+ctx_len])})\n",
    "surf = surf.detach().cpu().numpy().reshape((5,5))\n",
    "plot_surface_separate(vol_surf_data[5000+ctx_len], surf)"
   ]
  },
  {
   "cell_type": "code",
   "execution_count": null,
   "metadata": {},
   "outputs": [],
   "source": [
    "model_data = torch.load(\"test_spx/no_mem/dense_spx.pt\")\n",
    "sim = generate_surface_spx(vol_surf_data, None, model_data, start_time=5000, steps_to_sim=30, model_type=CVAE)\n",
    "plot_surface_time_series(sim)"
   ]
  },
  {
   "cell_type": "code",
   "execution_count": null,
   "metadata": {},
   "outputs": [],
   "source": []
  }
 ],
 "metadata": {
  "kernelspec": {
   "display_name": "Python 3",
   "language": "python",
   "name": "python3"
  },
  "language_info": {
   "codemirror_mode": {
    "name": "ipython",
    "version": 3
   },
   "file_extension": ".py",
   "mimetype": "text/x-python",
   "name": "python",
   "nbconvert_exporter": "python",
   "pygments_lexer": "ipython3",
   "version": "3.10.8"
  },
  "orig_nbformat": 4
 },
 "nbformat": 4,
 "nbformat_minor": 2
}
