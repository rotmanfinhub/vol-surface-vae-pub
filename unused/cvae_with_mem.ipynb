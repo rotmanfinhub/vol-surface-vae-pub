{
 "cells": [
  {
   "cell_type": "code",
   "execution_count": null,
   "metadata": {},
   "outputs": [],
   "source": [
    "try:\n",
    "    from google.colab import drive\n",
    "    drive.mount('/content/gdrive')\n",
    "    %cd gdrive/MyDrive/Colab\\ Notebooks/RL/vol-surface-vae\n",
    "except:\n",
    "    pass"
   ]
  },
  {
   "cell_type": "code",
   "execution_count": null,
   "metadata": {},
   "outputs": [],
   "source": [
    "import torch\n",
    "import numpy as np\n",
    "from torch.utils.data import DataLoader\n",
    "from vae.datasets import SABRDataset, SABRExFeatsDataset\n",
    "from vae.cvae_with_mem import CVAEMem\n",
    "from vae.utils import *"
   ]
  },
  {
   "cell_type": "code",
   "execution_count": null,
   "metadata": {},
   "outputs": [],
   "source": [
    "set_seeds(0)\n",
    "torch.set_default_dtype(torch.float64)"
   ]
  },
  {
   "cell_type": "code",
   "execution_count": null,
   "metadata": {},
   "outputs": [],
   "source": [
    "seq_len = 5\n",
    "ctx_len = seq_len - 1\n",
    "num_epochs = 50"
   ]
  },
  {
   "cell_type": "code",
   "execution_count": null,
   "metadata": {},
   "outputs": [],
   "source": [
    "data = np.load(\"data/sabr_surface_with_ret.npz\")\n",
    "vol_surf_data = data[\"surface\"]\n",
    "ret_data = data[\"ret\"]\n",
    "price_data = data[\"price\"]\n",
    "train_ret = DataLoader(SABRExFeatsDataset(vol_surf_data[:5000], ret_data[:5000], seq_len), shuffle=True, batch_size=64)\n",
    "valid_ret = DataLoader(SABRExFeatsDataset(vol_surf_data[5000:6000], ret_data[5000:6000], seq_len), shuffle=True, batch_size=16)\n",
    "test_ret = DataLoader(SABRExFeatsDataset(vol_surf_data[6000:7000], ret_data[6000:7000], seq_len), shuffle=True, batch_size=16)\n",
    "\n",
    "train_price = DataLoader(SABRExFeatsDataset(vol_surf_data[:5000], price_data[:5000], seq_len), shuffle=True, batch_size=64)\n",
    "valid_price = DataLoader(SABRExFeatsDataset(vol_surf_data[5000:6000], price_data[5000:6000], seq_len), shuffle=True, batch_size=16)\n",
    "test_price = DataLoader(SABRExFeatsDataset(vol_surf_data[6000:7000], price_data[6000:7000], seq_len), shuffle=True, batch_size=16)\n",
    "\n",
    "train_simple = DataLoader(SABRDataset(vol_surf_data[:5000], seq_len), shuffle=True, batch_size=64)\n",
    "valid_simple = DataLoader(SABRDataset(vol_surf_data[5000:6000], seq_len), shuffle=True, batch_size=16)\n",
    "test_simple = DataLoader(SABRDataset(vol_surf_data[6000:7000], seq_len), shuffle=True, batch_size=16)"
   ]
  },
  {
   "attachments": {},
   "cell_type": "markdown",
   "metadata": {},
   "source": [
    "# Conv version"
   ]
  },
  {
   "attachments": {},
   "cell_type": "markdown",
   "metadata": {},
   "source": [
    "## ret as ex feat"
   ]
  },
  {
   "cell_type": "code",
   "execution_count": null,
   "metadata": {},
   "outputs": [],
   "source": [
    "config = {\n",
    "    \"seq_len\": seq_len, \n",
    "    \"feat_dim\": (5, 5),\n",
    "    \"latent_dim\": 25,\n",
    "    \"device\": \"cuda\",\n",
    "    \"kl_weight\": 1,\n",
    "    \"re_feat_weight\": 1,\n",
    "    \"surface_hidden\": [2, 4, 5],\n",
    "    \"ex_feats_dim\": 1,\n",
    "    \"ex_feats_hidden\": None,\n",
    "    \"mem_type\": \"lstm\",\n",
    "    \"mem_hidden\": 75,\n",
    "    \"mem_layers\": 2,\n",
    "    \"mem_dropout\": 0.2,\n",
    "    \"ctx_len\": ctx_len, \n",
    "    \"ctx_surface_hidden\": [2, 4, 5], \n",
    "    \"ctx_ex_feats_hidden\": None,\n",
    "    \"interaction_layers\": None,\n",
    "    \"use_dense_surface\": False,\n",
    "}\n",
    "model = CVAEMem(config)\n",
    "print(model)"
   ]
  },
  {
   "cell_type": "code",
   "execution_count": null,
   "metadata": {},
   "outputs": [],
   "source": [
    "train(model, train_ret, valid_ret, epochs=num_epochs, lr=1e-05, model_dir=\"test/ret\", file_name=\"conv2d_mem_sabr_ret.pt\")"
   ]
  },
  {
   "cell_type": "code",
   "execution_count": null,
   "metadata": {},
   "outputs": [],
   "source": [
    "test(model, valid_ret, test_ret, \"test/ret/conv2d_mem_sabr_ret.pt\")"
   ]
  },
  {
   "cell_type": "code",
   "execution_count": null,
   "metadata": {},
   "outputs": [],
   "source": [
    "surf, ex_feat = model.get_surface_given_conditions({\"surface\": torch.from_numpy(vol_surf_data[8000][0:ctx_len]), \n",
    "                                    \"ex_feats\": torch.from_numpy(ret_data[8000][0:ctx_len]).unsqueeze(-1)})\n",
    "surf = surf.detach().cpu().numpy().reshape((5,5))\n",
    "ex_feat = ex_feat.detach().cpu().numpy().reshape((1,))[0]\n",
    "print(f\"Real return: {ret_data[8000][ctx_len]}, predicted: {ex_feat}\")\n",
    "plot_surface_separate(vol_surf_data[8000][ctx_len], surf)"
   ]
  },
  {
   "cell_type": "code",
   "execution_count": null,
   "metadata": {},
   "outputs": [],
   "source": [
    "model_data = torch.load(\"test/ret/conv2d_mem_sabr_ret.pt\")\n",
    "sim = generate_surface_path(vol_surf_data, ret_data, model_data, 8000)\n",
    "plot_surface_time_series(sim)"
   ]
  },
  {
   "attachments": {},
   "cell_type": "markdown",
   "metadata": {},
   "source": [
    "## price as ex feats"
   ]
  },
  {
   "cell_type": "code",
   "execution_count": null,
   "metadata": {},
   "outputs": [],
   "source": [
    "config = {\n",
    "    \"seq_len\": seq_len, \n",
    "    \"feat_dim\": (5, 5),\n",
    "    \"latent_dim\": 25,\n",
    "    \"device\": \"cuda\",\n",
    "    \"kl_weight\": 1,\n",
    "    \"re_feat_weight\": 1,\n",
    "    \"surface_hidden\": [2, 4, 5],\n",
    "    \"ex_feats_dim\": 1,\n",
    "    \"ex_feats_hidden\": None,\n",
    "    \"mem_type\": \"lstm\",\n",
    "    \"mem_hidden\": 75,\n",
    "    \"mem_layers\": 2,\n",
    "    \"mem_dropout\": 0.2,\n",
    "    \"ctx_len\": ctx_len, \n",
    "    \"ctx_surface_hidden\": [2, 4, 5], \n",
    "    \"ctx_ex_feats_hidden\": None,\n",
    "    \"interaction_layers\": None,\n",
    "    \"use_dense_surface\": False,\n",
    "}\n",
    "model_price = CVAEMem(config)\n",
    "print(model_price)"
   ]
  },
  {
   "cell_type": "code",
   "execution_count": null,
   "metadata": {},
   "outputs": [],
   "source": [
    "train(model_price, train_price, valid_price, epochs=num_epochs, lr=1e-05, model_dir=\"test/price\", file_name=\"conv2d_mem_sabr_price.pt\")"
   ]
  },
  {
   "cell_type": "code",
   "execution_count": null,
   "metadata": {},
   "outputs": [],
   "source": [
    "test(model_price, valid_price, valid_price, \"test/price/conv2d_mem_sabr_price.pt\")"
   ]
  },
  {
   "cell_type": "code",
   "execution_count": null,
   "metadata": {},
   "outputs": [],
   "source": [
    "surf, ex_feat = model_price.get_surface_given_conditions({\"surface\": torch.from_numpy(vol_surf_data[8000][0:ctx_len]), \n",
    "                                    \"ex_feats\": torch.from_numpy(price_data[8000][0:ctx_len]).unsqueeze(-1)})\n",
    "surf = surf.detach().cpu().numpy().reshape((5,5))\n",
    "ex_feat = ex_feat.detach().cpu().numpy().reshape((1,))[0]\n",
    "print(f\"Real price: {price_data[8000][ctx_len]}, predicted: {ex_feat}\")\n",
    "plot_surface_separate(vol_surf_data[8000][ctx_len], surf)"
   ]
  },
  {
   "cell_type": "code",
   "execution_count": null,
   "metadata": {},
   "outputs": [],
   "source": [
    "model_data = torch.load(\"test/price/conv2d_mem_sabr_price.pt\")\n",
    "sim = generate_surface_path(vol_surf_data, price_data, model_data, 8000)\n",
    "plot_surface_time_series(sim)"
   ]
  },
  {
   "attachments": {},
   "cell_type": "markdown",
   "metadata": {},
   "source": [
    "## No extra features"
   ]
  },
  {
   "cell_type": "code",
   "execution_count": null,
   "metadata": {},
   "outputs": [],
   "source": [
    "config = {\n",
    "    \"seq_len\": seq_len, \n",
    "    \"feat_dim\": (5, 5),\n",
    "    \"latent_dim\": 25,\n",
    "    \"device\": \"cuda\",\n",
    "    \"kl_weight\": 1.0,\n",
    "    \"re_feat_weight\": 1,\n",
    "    \"surface_hidden\": [2, 4, 5],\n",
    "    \"ex_feats_dim\": 0,\n",
    "    \"ex_feats_hidden\": None,\n",
    "    \"mem_type\": \"lstm\",\n",
    "    \"mem_hidden\": 75,\n",
    "    \"mem_layers\": 2,\n",
    "    \"mem_dropout\": 0.2,\n",
    "    \"ctx_len\": ctx_len, \n",
    "    \"ctx_surface_hidden\": [2, 4, 5], \n",
    "    \"ctx_ex_feats_hidden\": None,\n",
    "    \"interaction_layers\": None,\n",
    "    \"use_dense_surface\": False,\n",
    "}\n",
    "model_simple = CVAEMem(config)\n",
    "print(model_simple)"
   ]
  },
  {
   "cell_type": "code",
   "execution_count": null,
   "metadata": {},
   "outputs": [],
   "source": [
    "train(model_simple, train_simple, valid_simple, epochs=num_epochs, lr=1e-05, model_dir=\"test/simple\", file_name=\"conv2d_mem_sabr_no_ex_feats.pt\")"
   ]
  },
  {
   "cell_type": "code",
   "execution_count": null,
   "metadata": {},
   "outputs": [],
   "source": [
    "test(model_simple, valid_simple, test_simple, \"test/simple/conv2d_mem_sabr_no_ex_feats.pt\")"
   ]
  },
  {
   "cell_type": "code",
   "execution_count": null,
   "metadata": {},
   "outputs": [],
   "source": [
    "surf = model_simple.get_surface_given_conditions({\"surface\": torch.from_numpy(vol_surf_data[8000][0:ctx_len])})\n",
    "surf = surf.detach().cpu().numpy().reshape((5,5))\n",
    "plot_surface_separate(vol_surf_data[8000][ctx_len], surf)"
   ]
  },
  {
   "cell_type": "code",
   "execution_count": null,
   "metadata": {},
   "outputs": [],
   "source": [
    "model_data = torch.load(\"test/simple/conv2d_mem_sabr_no_ex_feats.pt\")\n",
    "sim = generate_surface_path(vol_surf_data, price_data, model_data, 8000)\n",
    "plot_surface_time_series(sim)"
   ]
  },
  {
   "attachments": {},
   "cell_type": "markdown",
   "metadata": {},
   "source": [
    "# Dense"
   ]
  },
  {
   "attachments": {},
   "cell_type": "markdown",
   "metadata": {},
   "source": [
    "## ret as ex feats"
   ]
  },
  {
   "cell_type": "code",
   "execution_count": null,
   "metadata": {},
   "outputs": [],
   "source": [
    "config = {\n",
    "    \"seq_len\": seq_len, \n",
    "    \"feat_dim\": (5, 5),\n",
    "    \"latent_dim\": 25,\n",
    "    \"device\": \"cuda\",\n",
    "    \"kl_weight\": 0.8,\n",
    "    \"re_feat_weight\": 1,\n",
    "    \"surface_hidden\": [25, 50, 50],\n",
    "    \"ex_feats_dim\": 1,\n",
    "    \"ex_feats_hidden\": None,\n",
    "    \"mem_type\": \"lstm\",\n",
    "    \"mem_hidden\": 75,\n",
    "    \"mem_layers\": 2,\n",
    "    \"mem_dropout\": 0.2,\n",
    "    \"ctx_len\": ctx_len, \n",
    "    \"ctx_surface_hidden\": [25, 50, 50], \n",
    "    \"ctx_ex_feats_hidden\": None,\n",
    "    \"interaction_layers\": None,\n",
    "    \"use_dense_surface\": True,\n",
    "}\n",
    "model2 = CVAEMem(config)\n",
    "print(model2)"
   ]
  },
  {
   "cell_type": "code",
   "execution_count": null,
   "metadata": {},
   "outputs": [],
   "source": [
    "train(model2, train_ret, valid_ret, epochs=num_epochs, lr=1e-05, model_dir=\"test/ret\", file_name=\"dense_mem_sabr_ret.pt\")"
   ]
  },
  {
   "cell_type": "code",
   "execution_count": null,
   "metadata": {},
   "outputs": [],
   "source": [
    "test(model2, valid_ret, test_ret, \"test/ret/dense_mem_sabr_ret.pt\")"
   ]
  },
  {
   "cell_type": "code",
   "execution_count": null,
   "metadata": {},
   "outputs": [],
   "source": [
    "surf, ex_feat = model2.get_surface_given_conditions({\"surface\": torch.from_numpy(vol_surf_data[8000][0:ctx_len]), \n",
    "                                    \"ex_feats\": torch.from_numpy(ret_data[8000][0:ctx_len]).unsqueeze(-1)})\n",
    "surf = surf.detach().cpu().numpy().reshape((5,5))\n",
    "ex_feat = ex_feat.detach().cpu().numpy().reshape((1,))[0]\n",
    "print(f\"Real return: {ret_data[8000][ctx_len]}, predicted: {ex_feat}\")\n",
    "plot_surface_separate(vol_surf_data[8000][ctx_len], surf)"
   ]
  },
  {
   "cell_type": "code",
   "execution_count": null,
   "metadata": {},
   "outputs": [],
   "source": [
    "model_data = torch.load(\"test/ret/dense_mem_sabr_ret.pt\")\n",
    "sim = generate_surface_path(vol_surf_data, ret_data, model_data, 8000)\n",
    "plot_surface_time_series(sim)"
   ]
  },
  {
   "attachments": {},
   "cell_type": "markdown",
   "metadata": {},
   "source": [
    "## price as ex feats"
   ]
  },
  {
   "cell_type": "code",
   "execution_count": null,
   "metadata": {},
   "outputs": [],
   "source": [
    "config = {\n",
    "    \"seq_len\": seq_len, \n",
    "    \"feat_dim\": (5, 5),\n",
    "    \"latent_dim\": 25,\n",
    "    \"device\": \"cuda\",\n",
    "    \"kl_weight\": 1,\n",
    "    \"re_feat_weight\": 1,\n",
    "    \"surface_hidden\": [25, 50, 50],\n",
    "    \"ex_feats_dim\": 1,\n",
    "    \"ex_feats_hidden\": None,\n",
    "    \"mem_type\": \"lstm\",\n",
    "    \"mem_hidden\": 75,\n",
    "    \"mem_layers\": 2,\n",
    "    \"mem_dropout\": 0.2,\n",
    "    \"ctx_len\": ctx_len, \n",
    "    \"ctx_surface_hidden\": [25, 50, 50], \n",
    "    \"ctx_ex_feats_hidden\": None,\n",
    "    \"interaction_layers\": None,\n",
    "    \"use_dense_surface\": True,\n",
    "}\n",
    "model_price2 = CVAEMem(config)\n",
    "print(model_price2)"
   ]
  },
  {
   "cell_type": "code",
   "execution_count": null,
   "metadata": {},
   "outputs": [],
   "source": [
    "train(model_price2, train_price, valid_price, epochs=num_epochs, lr=1e-05, model_dir=\"test/price\", file_name=\"dense_mem_sabr_price.pt\")"
   ]
  },
  {
   "cell_type": "code",
   "execution_count": null,
   "metadata": {},
   "outputs": [],
   "source": [
    "test(model_price2, valid_price, test_price, \"test/price/dense_mem_sabr_price.pt\")"
   ]
  },
  {
   "cell_type": "code",
   "execution_count": null,
   "metadata": {},
   "outputs": [],
   "source": [
    "surf, ex_feat = model_price2.get_surface_given_conditions({\"surface\": torch.from_numpy(vol_surf_data[8000][0:ctx_len]), \n",
    "                                    \"ex_feats\": torch.from_numpy(price_data[8000][0:ctx_len]).unsqueeze(-1)})\n",
    "surf = surf.detach().cpu().numpy().reshape((5,5))\n",
    "ex_feat = ex_feat.detach().cpu().numpy().reshape((1,))[0]\n",
    "print(f\"Real price: {price_data[8000][ctx_len]}, predicted: {ex_feat}\")\n",
    "plot_surface_separate(vol_surf_data[8000][ctx_len], surf)"
   ]
  },
  {
   "cell_type": "code",
   "execution_count": null,
   "metadata": {},
   "outputs": [],
   "source": [
    "model_data = torch.load(\"test/price/dense_mem_sabr_price.pt\")\n",
    "sim = generate_surface_path(vol_surf_data, price_data, model_data, 8000)\n",
    "plot_surface_time_series(sim)"
   ]
  },
  {
   "attachments": {},
   "cell_type": "markdown",
   "metadata": {},
   "source": [
    "## No ex feats"
   ]
  },
  {
   "cell_type": "code",
   "execution_count": null,
   "metadata": {},
   "outputs": [],
   "source": [
    "config = {\n",
    "    \"seq_len\": seq_len, \n",
    "    \"feat_dim\": (5, 5),\n",
    "    \"latent_dim\": 25,\n",
    "    \"device\": \"cuda\",\n",
    "    \"kl_weight\": 1,\n",
    "    \"re_feat_weight\": 1,\n",
    "    \"surface_hidden\": [25, 50, 50],\n",
    "    \"ex_feats_dim\": 0,\n",
    "    \"ex_feats_hidden\": None,\n",
    "    \"mem_type\": \"lstm\",\n",
    "    \"mem_hidden\": 75,\n",
    "    \"mem_layers\": 2,\n",
    "    \"mem_dropout\": 0.2,\n",
    "    \"ctx_len\": ctx_len, \n",
    "    \"ctx_surface_hidden\": [25, 50, 50], \n",
    "    \"ctx_ex_feats_hidden\": None,\n",
    "    \"interaction_layers\": None,\n",
    "    \"use_dense_surface\": True,\n",
    "}\n",
    "model_simple2 = CVAEMem(config)\n",
    "print(model_simple2)"
   ]
  },
  {
   "cell_type": "code",
   "execution_count": null,
   "metadata": {},
   "outputs": [],
   "source": [
    "train(model_simple2, train_simple, valid_simple, epochs=num_epochs, lr=1e-05, model_dir=\"test/simple\", file_name=\"dense_mem_sabr_no_ex_feats.pt\")"
   ]
  },
  {
   "cell_type": "code",
   "execution_count": null,
   "metadata": {},
   "outputs": [],
   "source": [
    "test(model_simple2, valid_simple, test_simple, \"test/simple/dense_mem_sabr_no_ex_feats.pt\")"
   ]
  },
  {
   "cell_type": "code",
   "execution_count": null,
   "metadata": {},
   "outputs": [],
   "source": [
    "surf = model_simple2.get_surface_given_conditions({\"surface\": torch.from_numpy(vol_surf_data[8000][0:ctx_len])})\n",
    "surf = surf.detach().cpu().numpy().reshape((5,5))\n",
    "plot_surface_separate(vol_surf_data[8000][ctx_len], surf)"
   ]
  },
  {
   "cell_type": "code",
   "execution_count": null,
   "metadata": {},
   "outputs": [],
   "source": [
    "model_data = torch.load(\"test/simple/dense_mem_sabr_no_ex_feats.pt\")\n",
    "sim = generate_surface_path(vol_surf_data, price_data, model_data, 8000)\n",
    "plot_surface_time_series(sim)"
   ]
  }
 ],
 "metadata": {
  "kernelspec": {
   "display_name": "Python 3",
   "language": "python",
   "name": "python3"
  },
  "language_info": {
   "codemirror_mode": {
    "name": "ipython",
    "version": 3
   },
   "file_extension": ".py",
   "mimetype": "text/x-python",
   "name": "python",
   "nbconvert_exporter": "python",
   "pygments_lexer": "ipython3",
   "version": "3.10.8"
  },
  "orig_nbformat": 4
 },
 "nbformat": 4,
 "nbformat_minor": 2
}
