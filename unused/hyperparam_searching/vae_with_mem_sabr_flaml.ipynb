{
 "cells": [
  {
   "cell_type": "code",
   "execution_count": 1,
   "metadata": {},
   "outputs": [],
   "source": [
    "import torch\n",
    "import torch.optim as opt\n",
    "import numpy as np\n",
    "from torch.utils.data import DataLoader\n",
    "from vae.base import BaseVAE\n",
    "from vae.datasets import SABRExFeatsDataset\n",
    "from vae.cvae_with_mem import CVAEMem\n",
    "from vae.utils import *\n",
    "from ray import tune\n",
    "from ray.tune.schedulers import ASHAScheduler\n",
    "import flaml\n",
    "import json, time, os"
   ]
  },
  {
   "cell_type": "code",
   "execution_count": 2,
   "metadata": {},
   "outputs": [],
   "source": [
    "data = np.load(\"data/sabr_surface_with_ret.npz\")\n",
    "vol_surf_data = data[\"surface\"]\n",
    "ret_data = data[\"ret\"]"
   ]
  },
  {
   "cell_type": "code",
   "execution_count": 3,
   "metadata": {},
   "outputs": [],
   "source": [
    "# perform model evaluation in terms of the accuracy and f1 score.\n",
    "def model_eval_new(model: BaseVAE, dataloader):\n",
    "    model.eval() # switch to eval model, will turn off randomness like dropout\n",
    "    eval_loss = 0\n",
    "    num_batches = 0\n",
    "    for step, batch in enumerate(dataloader):\n",
    "        try:\n",
    "            batch.to(model.device)\n",
    "        except:\n",
    "            pass\n",
    "\n",
    "        losses = model.test_step(batch)\n",
    "\n",
    "        eval_loss += losses[\"loss\"].item()\n",
    "        num_batches += 1\n",
    "\n",
    "    return eval_loss / num_batches\n",
    "\n",
    "def train_new(model: BaseVAE, train_dataloader: DataLoader, valid_dataloader: DataLoader, \n",
    "          lr=1e-5, epochs=100, \n",
    "          model_dir=\"./\", file_name=\"vanilla.pt\"):\n",
    "    model.train()\n",
    "    optimizer = opt.AdamW(model.parameters(), lr)\n",
    "    best_dev_loss = np.inf\n",
    "\n",
    "    ## run for the specified number of epochs\n",
    "    if not os.path.exists(model_dir):\n",
    "        os.makedirs(model_dir)\n",
    "    if \".\" in file_name:\n",
    "        file_prefix = file_name.split(\".\")[0]\n",
    "    else:\n",
    "        file_prefix = file_name\n",
    "    log_file = open(f\"{model_dir}/{file_prefix}-{epochs}-log.txt\", \"w\", encoding=\"utf-8\")\n",
    "\n",
    "    print(\"Model config: \", file=log_file)\n",
    "    print(json.dumps(model.config, indent=True), file=log_file)\n",
    "    print(f\"LR: {lr}\", file=log_file)\n",
    "    print(f\"Epochs: {epochs}\", file=log_file)\n",
    "    print(\"\", file=log_file)\n",
    "    start_time = time.time()\n",
    "    for epoch in range(epochs):\n",
    "        epoch_start_time = time.time()\n",
    "        model.train()\n",
    "        train_loss = 0\n",
    "        num_batches = 0\n",
    "        for step, batch in enumerate(train_dataloader):\n",
    "            try:\n",
    "                batch.to(model.device)\n",
    "            except:\n",
    "                pass\n",
    "\n",
    "            losses = model.train_step(batch, optimizer)\n",
    "\n",
    "            train_loss += losses[\"loss\"].item()\n",
    "            num_batches += 1\n",
    "\n",
    "        train_loss = train_loss / (num_batches)\n",
    "        \n",
    "        dev_loss = model_eval_new(model, valid_dataloader)\n",
    "\n",
    "        if dev_loss < best_dev_loss:\n",
    "            best_dev_loss = dev_loss\n",
    "            model.save_weights(optimizer, model_dir, file_prefix)\n",
    "\n",
    "        # print(f\"epoch {epoch}: train loss :: {train_loss :.3f}, dev loss :: {dev_loss :.3f}, time elapsed :: {time.time() - epoch_start_time}\")\n",
    "        print(f\"epoch {epoch}: train loss :: {train_loss :.3f}, dev loss :: {dev_loss :.3f}, time elapsed :: {time.time() - epoch_start_time}\", file=log_file)\n",
    "        yield train_loss, dev_loss\n",
    "    # print(f\"training finished, total time :: {time.time() - start_time}\")\n",
    "    print(f\"training finished, total time :: {time.time() - start_time}\", file=log_file)\n",
    "    return train_loss, dev_loss"
   ]
  },
  {
   "cell_type": "code",
   "execution_count": 4,
   "metadata": {},
   "outputs": [],
   "source": [
    "def train_wrapper(config):\n",
    "    model_config = {\n",
    "        \"seq_len\": config[\"seq_len\"], \n",
    "        \"feat_dim\": (5, 5),\n",
    "        \"latent_dim\": config[\"latent_dim\"],\n",
    "        \"device\": \"cuda\",\n",
    "        \"kl_weight\": config[\"kl_weight\"],\n",
    "        \"re_feat_weight\": config[\"re_feat_weight\"],\n",
    "        \"surface_hidden\": [int(v) for v in config[\"surface_hidden\"]],\n",
    "        \"ex_feats_dim\": 1,\n",
    "        \"ex_feats_hidden\": None,\n",
    "        \"mem_type\": \"lstm\",\n",
    "        \"mem_hidden\": config[\"mem_hidden\"],\n",
    "        \"mem_layers\": config[\"mem_layers\"],\n",
    "        \"mem_dropout\": config[\"mem_dropout\"],\n",
    "        \"ctx_len\": config[\"ctx_len\"], \n",
    "        \"ctx_surface_hidden\": [int(v) for v in config[\"ctx_surface_hidden\"]], \n",
    "        \"ctx_ex_feats_hidden\": None,\n",
    "    }\n",
    "    train_dataset = SABRExFeatsDataset(vol_surf_data[:5000], ret_data[:5000], config[\"seq_len\"], dtype=torch.float32)\n",
    "    train_dataloader = DataLoader(train_dataset, shuffle=True, batch_size=config[\"batch_size\"])\n",
    "    valid_dataset = SABRExFeatsDataset(vol_surf_data[5000:6000], ret_data[5000:6000], config[\"seq_len\"], dtype=torch.float32)\n",
    "    valid_dataloader = DataLoader(valid_dataset, shuffle=True, batch_size=config[\"batch_size\"])\n",
    "    test_dataset = SABRExFeatsDataset(vol_surf_data[6000:7000], ret_data[6000:7000], config[\"seq_len\"], dtype=torch.float32)\n",
    "    test_dataloader = DataLoader(test_dataset, shuffle=True, batch_size=config[\"batch_size\"])\n",
    "\n",
    "    model = CVAEMem(model_config)\n",
    "    for train_loss, dev_loss in train_new(model, train_dataloader, valid_dataloader, \n",
    "                                 config[\"lr\"], int(round(config[\"num_epochs\"])), \n",
    "                                 \"models\", \"cond_conv2d_lstm.pt\"):\n",
    "        tune.report(train_loss=train_loss, dev_loss=dev_loss)"
   ]
  },
  {
   "cell_type": "code",
   "execution_count": 7,
   "metadata": {},
   "outputs": [],
   "source": [
    "def surface_hidden_size_sampler(config):\n",
    "    layers = []\n",
    "    for _ in range(np.random.randint(1, 6)):\n",
    "        layers.append(np.random.randint(1, 11))\n",
    "    return tuple(layers)\n",
    "\n",
    "\n",
    "def seq_len_sampler(config):\n",
    "    # modify this for different choices\n",
    "    return tune.randint(1, config[\"config\"][\"seq_len\"])\n",
    "\n",
    "config = {\n",
    "    \"lr\": tune.loguniform(1e-5, 1e-3),\n",
    "    \"num_epochs\": tune.choice([10, 25, 50, 100]),\n",
    "    \"batch_size\": tune.choice([16, 32, 64]),\n",
    "    \"seq_len\": tune.choice([2, 5, 7, 10, 30]),\n",
    "    \"ctx_len\": tune.sample_from(seq_len_sampler),\n",
    "    \"latent_dim\": tune.randint(1, 101),\n",
    "    \"re_feat_weight\": tune.loguniform(1, 1000),\n",
    "    \"kl_weight\": tune.uniform(0, 1),\n",
    "    \"surface_hidden\": tune.sample_from(surface_hidden_size_sampler),\n",
    "    \"mem_hidden\": tune.randint(25, 101),\n",
    "    \"mem_layers\": tune.randint(1, 11),\n",
    "    \"mem_dropout\": tune.uniform(0, 1),\n",
    "    \"ctx_surface_hidden\": tune.sample_from(surface_hidden_size_sampler),\n",
    "}"
   ]
  },
  {
   "cell_type": "code",
   "execution_count": 6,
   "metadata": {},
   "outputs": [
    {
     "name": "stderr",
     "output_type": "stream",
     "text": [
      "Using CFO for search. To use BlendSearch, run: pip install flaml[blendsearch]\n",
      "2023-05-08 23:17:20,130\tERROR services.py:1197 -- Failed to start the dashboard \n",
      "2023-05-08 23:17:20,131\tERROR services.py:1222 -- Error should be written to 'dashboard.log' or 'dashboard.err'. We are printing the last 20 lines for you. See 'https://docs.ray.io/en/master/ray-observability/ray-logging.html#logging-directory-structure' to find where the log file is.\n",
      "2023-05-08 23:17:20,132\tERROR services.py:1232 -- Couldn't read dashboard.log file. Error: [Errno 2] No such file or directory: 'C:\\\\Users\\\\yunta\\\\AppData\\\\Local\\\\Temp\\\\ray\\\\session_2023-05-08_23-16-57_429752_15356\\\\logs\\\\dashboard.log'. It means the dashboard is broken even before it initializes the logger (mostly dependency issues). Reading the dashboard.err file which contains stdout/stderr.\n",
      "2023-05-08 23:17:20,133\tERROR services.py:1266 -- Failed to read dashboard.err file: cannot mmap an empty file. It is unexpected. Please report an issue to Ray github. https://github.com/ray-project/ray/issues\n",
      "2023-05-08 23:17:21,856\tINFO worker.py:1625 -- Started a local Ray instance.\n",
      "2023-05-08 23:17:24,626\tINFO tune.py:218 -- Initializing Ray automatically. For cluster usage or custom Ray initialization, call `ray.init(...)` before `tune.run(...)`.\n",
      "c:\\Users\\yunta\\AppData\\Local\\Programs\\Python\\Python310\\lib\\site-packages\\ray\\tune\\experiment\\experiment.py:170: UserWarning: The `local_dir` argument of `Experiment is deprecated. Use `storage_path` or set the `TUNE_RESULT_DIR` environment variable instead.\n",
      "  warnings.warn(\n"
     ]
    },
    {
     "data": {
      "text/html": [],
      "text/plain": [
       "<IPython.core.display.HTML object>"
      ]
     },
     "metadata": {},
     "output_type": "display_data"
    },
    {
     "ename": "ValueError",
     "evalue": "Failed to evaluate expression: ('config', 'ctx_len'): <ray.tune.search.sample.Function object at 0x00000203004EA080>",
     "output_type": "error",
     "traceback": [
      "\u001b[1;31m---------------------------------------------------------------------------\u001b[0m",
      "\u001b[1;31mKeyError\u001b[0m                                  Traceback (most recent call last)",
      "File \u001b[1;32mc:\\Users\\yunta\\AppData\\Local\\Programs\\Python\\Python310\\lib\\site-packages\\ray\\tune\\search\\sample.py:464\u001b[0m, in \u001b[0;36mFunction._CallSampler.__try_fn\u001b[1;34m(self, domain, config)\u001b[0m\n\u001b[0;32m    463\u001b[0m \u001b[39mtry\u001b[39;00m:\n\u001b[1;32m--> 464\u001b[0m     \u001b[39mreturn\u001b[39;00m domain\u001b[39m.\u001b[39;49mfunc(config)\n\u001b[0;32m    465\u001b[0m \u001b[39mexcept\u001b[39;00m (\u001b[39mAttributeError\u001b[39;00m, \u001b[39mKeyError\u001b[39;00m):\n",
      "\u001b[1;32md:\\Research\\RL\\vol-surface-vae\\vae_with_mem_sabr.ipynb Cell 6\u001b[0m in \u001b[0;36m1\n\u001b[0;32m     <a href='vscode-notebook-cell:/d%3A/Research/RL/vol-surface-vae/vae_with_mem_sabr.ipynb#W6sZmlsZQ%3D%3D?line=9'>10</a>\u001b[0m     \u001b[39mreturn\u001b[39;00m tune\u001b[39m.\u001b[39mrandint(\u001b[39m1\u001b[39m, config\u001b[39m.\u001b[39mseq_len)\n\u001b[0;32m     <a href='vscode-notebook-cell:/d%3A/Research/RL/vol-surface-vae/vae_with_mem_sabr.ipynb#W6sZmlsZQ%3D%3D?line=11'>12</a>\u001b[0m config \u001b[39m=\u001b[39m {\n\u001b[0;32m     <a href='vscode-notebook-cell:/d%3A/Research/RL/vol-surface-vae/vae_with_mem_sabr.ipynb#W6sZmlsZQ%3D%3D?line=12'>13</a>\u001b[0m     \u001b[39m\"\u001b[39m\u001b[39mlr\u001b[39m\u001b[39m\"\u001b[39m: tune\u001b[39m.\u001b[39mloguniform(\u001b[39m1e-5\u001b[39m, \u001b[39m1e-3\u001b[39m),\n\u001b[0;32m     <a href='vscode-notebook-cell:/d%3A/Research/RL/vol-surface-vae/vae_with_mem_sabr.ipynb#W6sZmlsZQ%3D%3D?line=13'>14</a>\u001b[0m     \u001b[39m\"\u001b[39m\u001b[39mnum_epochs\u001b[39m\u001b[39m\"\u001b[39m: tune\u001b[39m.\u001b[39mchoice([\u001b[39m10\u001b[39m, \u001b[39m25\u001b[39m, \u001b[39m50\u001b[39m, \u001b[39m100\u001b[39m]),\n\u001b[0;32m     <a href='vscode-notebook-cell:/d%3A/Research/RL/vol-surface-vae/vae_with_mem_sabr.ipynb#W6sZmlsZQ%3D%3D?line=14'>15</a>\u001b[0m     \u001b[39m\"\u001b[39m\u001b[39mbatch_size\u001b[39m\u001b[39m\"\u001b[39m: tune\u001b[39m.\u001b[39mchoice([\u001b[39m16\u001b[39m, \u001b[39m32\u001b[39m, \u001b[39m64\u001b[39m]),\n\u001b[0;32m     <a href='vscode-notebook-cell:/d%3A/Research/RL/vol-surface-vae/vae_with_mem_sabr.ipynb#W6sZmlsZQ%3D%3D?line=15'>16</a>\u001b[0m     \u001b[39m\"\u001b[39m\u001b[39mseq_len\u001b[39m\u001b[39m\"\u001b[39m: tune\u001b[39m.\u001b[39mchoice([\u001b[39m2\u001b[39m, \u001b[39m5\u001b[39m, \u001b[39m7\u001b[39m, \u001b[39m10\u001b[39m, \u001b[39m30\u001b[39m]),\n\u001b[1;32m---> <a href='vscode-notebook-cell:/d%3A/Research/RL/vol-surface-vae/vae_with_mem_sabr.ipynb#W6sZmlsZQ%3D%3D?line=16'>17</a>\u001b[0m     \u001b[39m\"\u001b[39m\u001b[39mctx_len\u001b[39m\u001b[39m\"\u001b[39m: tune\u001b[39m.\u001b[39msample_from(\u001b[39mlambda\u001b[39;00m config: np\u001b[39m.\u001b[39mrandom\u001b[39m.\u001b[39mrandint(\u001b[39m1\u001b[39m, config[\u001b[39m\"\u001b[39;49m\u001b[39mseq_len\u001b[39;49m\u001b[39m\"\u001b[39;49m])),\n\u001b[0;32m     <a href='vscode-notebook-cell:/d%3A/Research/RL/vol-surface-vae/vae_with_mem_sabr.ipynb#W6sZmlsZQ%3D%3D?line=17'>18</a>\u001b[0m     \u001b[39m\"\u001b[39m\u001b[39mlatent_dim\u001b[39m\u001b[39m\"\u001b[39m: tune\u001b[39m.\u001b[39mrandint(\u001b[39m1\u001b[39m, \u001b[39m101\u001b[39m),\n\u001b[0;32m     <a href='vscode-notebook-cell:/d%3A/Research/RL/vol-surface-vae/vae_with_mem_sabr.ipynb#W6sZmlsZQ%3D%3D?line=18'>19</a>\u001b[0m     \u001b[39m\"\u001b[39m\u001b[39mre_feat_weight\u001b[39m\u001b[39m\"\u001b[39m: tune\u001b[39m.\u001b[39mloguniform(\u001b[39m1\u001b[39m, \u001b[39m1000\u001b[39m),\n\u001b[0;32m     <a href='vscode-notebook-cell:/d%3A/Research/RL/vol-surface-vae/vae_with_mem_sabr.ipynb#W6sZmlsZQ%3D%3D?line=19'>20</a>\u001b[0m     \u001b[39m\"\u001b[39m\u001b[39mkl_weight\u001b[39m\u001b[39m\"\u001b[39m: tune\u001b[39m.\u001b[39muniform(\u001b[39m0\u001b[39m, \u001b[39m1\u001b[39m),\n\u001b[0;32m     <a href='vscode-notebook-cell:/d%3A/Research/RL/vol-surface-vae/vae_with_mem_sabr.ipynb#W6sZmlsZQ%3D%3D?line=20'>21</a>\u001b[0m     \u001b[39m\"\u001b[39m\u001b[39msurface_hidden\u001b[39m\u001b[39m\"\u001b[39m: tune\u001b[39m.\u001b[39msample_from(surface_hidden_size_sampler),\n\u001b[0;32m     <a href='vscode-notebook-cell:/d%3A/Research/RL/vol-surface-vae/vae_with_mem_sabr.ipynb#W6sZmlsZQ%3D%3D?line=21'>22</a>\u001b[0m     \u001b[39m\"\u001b[39m\u001b[39mmem_hidden\u001b[39m\u001b[39m\"\u001b[39m: tune\u001b[39m.\u001b[39mrandint(\u001b[39m25\u001b[39m, \u001b[39m101\u001b[39m),\n\u001b[0;32m     <a href='vscode-notebook-cell:/d%3A/Research/RL/vol-surface-vae/vae_with_mem_sabr.ipynb#W6sZmlsZQ%3D%3D?line=22'>23</a>\u001b[0m     \u001b[39m\"\u001b[39m\u001b[39mmem_layers\u001b[39m\u001b[39m\"\u001b[39m: tune\u001b[39m.\u001b[39mrandint(\u001b[39m1\u001b[39m, \u001b[39m11\u001b[39m),\n\u001b[0;32m     <a href='vscode-notebook-cell:/d%3A/Research/RL/vol-surface-vae/vae_with_mem_sabr.ipynb#W6sZmlsZQ%3D%3D?line=23'>24</a>\u001b[0m     \u001b[39m\"\u001b[39m\u001b[39mmem_dropout\u001b[39m\u001b[39m\"\u001b[39m: tune\u001b[39m.\u001b[39muniform(\u001b[39m0\u001b[39m, \u001b[39m1\u001b[39m),\n\u001b[0;32m     <a href='vscode-notebook-cell:/d%3A/Research/RL/vol-surface-vae/vae_with_mem_sabr.ipynb#W6sZmlsZQ%3D%3D?line=24'>25</a>\u001b[0m     \u001b[39m\"\u001b[39m\u001b[39mctx_surface_hidden\u001b[39m\u001b[39m\"\u001b[39m: tune\u001b[39m.\u001b[39msample_from(surface_hidden_size_sampler),\n\u001b[0;32m     <a href='vscode-notebook-cell:/d%3A/Research/RL/vol-surface-vae/vae_with_mem_sabr.ipynb#W6sZmlsZQ%3D%3D?line=25'>26</a>\u001b[0m }\n",
      "\u001b[1;31mKeyError\u001b[0m: 'seq_len'",
      "\nDuring handling of the above exception, another exception occurred:\n",
      "\u001b[1;31mKeyError\u001b[0m                                  Traceback (most recent call last)",
      "File \u001b[1;32mc:\\Users\\yunta\\AppData\\Local\\Programs\\Python\\Python310\\lib\\site-packages\\ray\\tune\\search\\variant_generator.py:389\u001b[0m, in \u001b[0;36m_resolve_domain_vars\u001b[1;34m(spec, domain_vars, allow_fail, random_state)\u001b[0m\n\u001b[0;32m    388\u001b[0m \u001b[39mtry\u001b[39;00m:\n\u001b[1;32m--> 389\u001b[0m     value \u001b[39m=\u001b[39m domain\u001b[39m.\u001b[39;49msample(\n\u001b[0;32m    390\u001b[0m         _UnresolvedAccessGuard(spec), random_state\u001b[39m=\u001b[39;49mrandom_state\n\u001b[0;32m    391\u001b[0m     )\n\u001b[0;32m    392\u001b[0m \u001b[39mexcept\u001b[39;00m RecursiveDependencyError \u001b[39mas\u001b[39;00m e:\n",
      "File \u001b[1;32mc:\\Users\\yunta\\AppData\\Local\\Programs\\Python\\Python310\\lib\\site-packages\\ray\\tune\\search\\sample.py:118\u001b[0m, in \u001b[0;36mDomain.sample\u001b[1;34m(self, config, size, random_state)\u001b[0m\n\u001b[0;32m    117\u001b[0m sampler \u001b[39m=\u001b[39m \u001b[39mself\u001b[39m\u001b[39m.\u001b[39mget_sampler()\n\u001b[1;32m--> 118\u001b[0m \u001b[39mreturn\u001b[39;00m sampler\u001b[39m.\u001b[39;49msample(\u001b[39mself\u001b[39;49m, config\u001b[39m=\u001b[39;49mconfig, size\u001b[39m=\u001b[39;49msize, random_state\u001b[39m=\u001b[39;49mrandom_state)\n",
      "File \u001b[1;32mc:\\Users\\yunta\\AppData\\Local\\Programs\\Python\\Python310\\lib\\site-packages\\ray\\tune\\search\\sample.py:486\u001b[0m, in \u001b[0;36mFunction._CallSampler.sample\u001b[1;34m(self, domain, config, size, random_state)\u001b[0m\n\u001b[0;32m    485\u001b[0m \u001b[39mif\u001b[39;00m domain\u001b[39m.\u001b[39mpass_config:\n\u001b[1;32m--> 486\u001b[0m     items \u001b[39m=\u001b[39m [\n\u001b[0;32m    487\u001b[0m         \u001b[39mself\u001b[39m\u001b[39m.\u001b[39m__try_fn(domain, config[i])\n\u001b[0;32m    488\u001b[0m         \u001b[39mif\u001b[39;00m \u001b[39misinstance\u001b[39m(config, \u001b[39mlist\u001b[39m)\n\u001b[0;32m    489\u001b[0m         \u001b[39melse\u001b[39;00m \u001b[39mself\u001b[39m\u001b[39m.\u001b[39m__try_fn(domain, config)\n\u001b[0;32m    490\u001b[0m         \u001b[39mfor\u001b[39;00m i \u001b[39min\u001b[39;00m \u001b[39mrange\u001b[39m(size)\n\u001b[0;32m    491\u001b[0m     ]\n\u001b[0;32m    492\u001b[0m \u001b[39melse\u001b[39;00m:\n",
      "File \u001b[1;32mc:\\Users\\yunta\\AppData\\Local\\Programs\\Python\\Python310\\lib\\site-packages\\ray\\tune\\search\\sample.py:489\u001b[0m, in \u001b[0;36m<listcomp>\u001b[1;34m(.0)\u001b[0m\n\u001b[0;32m    485\u001b[0m \u001b[39mif\u001b[39;00m domain\u001b[39m.\u001b[39mpass_config:\n\u001b[0;32m    486\u001b[0m     items \u001b[39m=\u001b[39m [\n\u001b[0;32m    487\u001b[0m         \u001b[39mself\u001b[39m\u001b[39m.\u001b[39m__try_fn(domain, config[i])\n\u001b[0;32m    488\u001b[0m         \u001b[39mif\u001b[39;00m \u001b[39misinstance\u001b[39m(config, \u001b[39mlist\u001b[39m)\n\u001b[1;32m--> 489\u001b[0m         \u001b[39melse\u001b[39;00m \u001b[39mself\u001b[39;49m\u001b[39m.\u001b[39;49m__try_fn(domain, config)\n\u001b[0;32m    490\u001b[0m         \u001b[39mfor\u001b[39;00m i \u001b[39min\u001b[39;00m \u001b[39mrange\u001b[39m(size)\n\u001b[0;32m    491\u001b[0m     ]\n\u001b[0;32m    492\u001b[0m \u001b[39melse\u001b[39;00m:\n",
      "File \u001b[1;32mc:\\Users\\yunta\\AppData\\Local\\Programs\\Python\\Python310\\lib\\site-packages\\ray\\tune\\search\\sample.py:468\u001b[0m, in \u001b[0;36mFunction._CallSampler.__try_fn\u001b[1;34m(self, domain, config)\u001b[0m\n\u001b[0;32m    466\u001b[0m \u001b[39mfrom\u001b[39;00m \u001b[39mray\u001b[39;00m\u001b[39m.\u001b[39;00m\u001b[39mtune\u001b[39;00m\u001b[39m.\u001b[39;00m\u001b[39msearch\u001b[39;00m\u001b[39m.\u001b[39;00m\u001b[39mvariant_generator\u001b[39;00m \u001b[39mimport\u001b[39;00m _UnresolvedAccessGuard\n\u001b[1;32m--> 468\u001b[0m r \u001b[39m=\u001b[39m domain\u001b[39m.\u001b[39;49mfunc(_UnresolvedAccessGuard({\u001b[39m\"\u001b[39;49m\u001b[39mconfig\u001b[39;49m\u001b[39m\"\u001b[39;49m: config}))\n\u001b[0;32m    469\u001b[0m logger\u001b[39m.\u001b[39mwarning(\n\u001b[0;32m    470\u001b[0m     \u001b[39m\"\u001b[39m\u001b[39msample_from functions that take a spec dict are \u001b[39m\u001b[39m\"\u001b[39m\n\u001b[0;32m    471\u001b[0m     \u001b[39m\"\u001b[39m\u001b[39mdeprecated. Please update your function to work with \u001b[39m\u001b[39m\"\u001b[39m\n\u001b[0;32m    472\u001b[0m     \u001b[39m\"\u001b[39m\u001b[39mthe config dict directly.\u001b[39m\u001b[39m\"\u001b[39m\n\u001b[0;32m    473\u001b[0m )\n",
      "\u001b[1;32md:\\Research\\RL\\vol-surface-vae\\vae_with_mem_sabr.ipynb Cell 6\u001b[0m in \u001b[0;36m1\n\u001b[0;32m     <a href='vscode-notebook-cell:/d%3A/Research/RL/vol-surface-vae/vae_with_mem_sabr.ipynb#W6sZmlsZQ%3D%3D?line=9'>10</a>\u001b[0m     \u001b[39mreturn\u001b[39;00m tune\u001b[39m.\u001b[39mrandint(\u001b[39m1\u001b[39m, config\u001b[39m.\u001b[39mseq_len)\n\u001b[0;32m     <a href='vscode-notebook-cell:/d%3A/Research/RL/vol-surface-vae/vae_with_mem_sabr.ipynb#W6sZmlsZQ%3D%3D?line=11'>12</a>\u001b[0m config \u001b[39m=\u001b[39m {\n\u001b[0;32m     <a href='vscode-notebook-cell:/d%3A/Research/RL/vol-surface-vae/vae_with_mem_sabr.ipynb#W6sZmlsZQ%3D%3D?line=12'>13</a>\u001b[0m     \u001b[39m\"\u001b[39m\u001b[39mlr\u001b[39m\u001b[39m\"\u001b[39m: tune\u001b[39m.\u001b[39mloguniform(\u001b[39m1e-5\u001b[39m, \u001b[39m1e-3\u001b[39m),\n\u001b[0;32m     <a href='vscode-notebook-cell:/d%3A/Research/RL/vol-surface-vae/vae_with_mem_sabr.ipynb#W6sZmlsZQ%3D%3D?line=13'>14</a>\u001b[0m     \u001b[39m\"\u001b[39m\u001b[39mnum_epochs\u001b[39m\u001b[39m\"\u001b[39m: tune\u001b[39m.\u001b[39mchoice([\u001b[39m10\u001b[39m, \u001b[39m25\u001b[39m, \u001b[39m50\u001b[39m, \u001b[39m100\u001b[39m]),\n\u001b[0;32m     <a href='vscode-notebook-cell:/d%3A/Research/RL/vol-surface-vae/vae_with_mem_sabr.ipynb#W6sZmlsZQ%3D%3D?line=14'>15</a>\u001b[0m     \u001b[39m\"\u001b[39m\u001b[39mbatch_size\u001b[39m\u001b[39m\"\u001b[39m: tune\u001b[39m.\u001b[39mchoice([\u001b[39m16\u001b[39m, \u001b[39m32\u001b[39m, \u001b[39m64\u001b[39m]),\n\u001b[0;32m     <a href='vscode-notebook-cell:/d%3A/Research/RL/vol-surface-vae/vae_with_mem_sabr.ipynb#W6sZmlsZQ%3D%3D?line=15'>16</a>\u001b[0m     \u001b[39m\"\u001b[39m\u001b[39mseq_len\u001b[39m\u001b[39m\"\u001b[39m: tune\u001b[39m.\u001b[39mchoice([\u001b[39m2\u001b[39m, \u001b[39m5\u001b[39m, \u001b[39m7\u001b[39m, \u001b[39m10\u001b[39m, \u001b[39m30\u001b[39m]),\n\u001b[1;32m---> <a href='vscode-notebook-cell:/d%3A/Research/RL/vol-surface-vae/vae_with_mem_sabr.ipynb#W6sZmlsZQ%3D%3D?line=16'>17</a>\u001b[0m     \u001b[39m\"\u001b[39m\u001b[39mctx_len\u001b[39m\u001b[39m\"\u001b[39m: tune\u001b[39m.\u001b[39msample_from(\u001b[39mlambda\u001b[39;00m config: np\u001b[39m.\u001b[39mrandom\u001b[39m.\u001b[39mrandint(\u001b[39m1\u001b[39m, config[\u001b[39m\"\u001b[39;49m\u001b[39mseq_len\u001b[39;49m\u001b[39m\"\u001b[39;49m])),\n\u001b[0;32m     <a href='vscode-notebook-cell:/d%3A/Research/RL/vol-surface-vae/vae_with_mem_sabr.ipynb#W6sZmlsZQ%3D%3D?line=17'>18</a>\u001b[0m     \u001b[39m\"\u001b[39m\u001b[39mlatent_dim\u001b[39m\u001b[39m\"\u001b[39m: tune\u001b[39m.\u001b[39mrandint(\u001b[39m1\u001b[39m, \u001b[39m101\u001b[39m),\n\u001b[0;32m     <a href='vscode-notebook-cell:/d%3A/Research/RL/vol-surface-vae/vae_with_mem_sabr.ipynb#W6sZmlsZQ%3D%3D?line=18'>19</a>\u001b[0m     \u001b[39m\"\u001b[39m\u001b[39mre_feat_weight\u001b[39m\u001b[39m\"\u001b[39m: tune\u001b[39m.\u001b[39mloguniform(\u001b[39m1\u001b[39m, \u001b[39m1000\u001b[39m),\n\u001b[0;32m     <a href='vscode-notebook-cell:/d%3A/Research/RL/vol-surface-vae/vae_with_mem_sabr.ipynb#W6sZmlsZQ%3D%3D?line=19'>20</a>\u001b[0m     \u001b[39m\"\u001b[39m\u001b[39mkl_weight\u001b[39m\u001b[39m\"\u001b[39m: tune\u001b[39m.\u001b[39muniform(\u001b[39m0\u001b[39m, \u001b[39m1\u001b[39m),\n\u001b[0;32m     <a href='vscode-notebook-cell:/d%3A/Research/RL/vol-surface-vae/vae_with_mem_sabr.ipynb#W6sZmlsZQ%3D%3D?line=20'>21</a>\u001b[0m     \u001b[39m\"\u001b[39m\u001b[39msurface_hidden\u001b[39m\u001b[39m\"\u001b[39m: tune\u001b[39m.\u001b[39msample_from(surface_hidden_size_sampler),\n\u001b[0;32m     <a href='vscode-notebook-cell:/d%3A/Research/RL/vol-surface-vae/vae_with_mem_sabr.ipynb#W6sZmlsZQ%3D%3D?line=21'>22</a>\u001b[0m     \u001b[39m\"\u001b[39m\u001b[39mmem_hidden\u001b[39m\u001b[39m\"\u001b[39m: tune\u001b[39m.\u001b[39mrandint(\u001b[39m25\u001b[39m, \u001b[39m101\u001b[39m),\n\u001b[0;32m     <a href='vscode-notebook-cell:/d%3A/Research/RL/vol-surface-vae/vae_with_mem_sabr.ipynb#W6sZmlsZQ%3D%3D?line=22'>23</a>\u001b[0m     \u001b[39m\"\u001b[39m\u001b[39mmem_layers\u001b[39m\u001b[39m\"\u001b[39m: tune\u001b[39m.\u001b[39mrandint(\u001b[39m1\u001b[39m, \u001b[39m11\u001b[39m),\n\u001b[0;32m     <a href='vscode-notebook-cell:/d%3A/Research/RL/vol-surface-vae/vae_with_mem_sabr.ipynb#W6sZmlsZQ%3D%3D?line=23'>24</a>\u001b[0m     \u001b[39m\"\u001b[39m\u001b[39mmem_dropout\u001b[39m\u001b[39m\"\u001b[39m: tune\u001b[39m.\u001b[39muniform(\u001b[39m0\u001b[39m, \u001b[39m1\u001b[39m),\n\u001b[0;32m     <a href='vscode-notebook-cell:/d%3A/Research/RL/vol-surface-vae/vae_with_mem_sabr.ipynb#W6sZmlsZQ%3D%3D?line=24'>25</a>\u001b[0m     \u001b[39m\"\u001b[39m\u001b[39mctx_surface_hidden\u001b[39m\u001b[39m\"\u001b[39m: tune\u001b[39m.\u001b[39msample_from(surface_hidden_size_sampler),\n\u001b[0;32m     <a href='vscode-notebook-cell:/d%3A/Research/RL/vol-surface-vae/vae_with_mem_sabr.ipynb#W6sZmlsZQ%3D%3D?line=25'>26</a>\u001b[0m }\n",
      "\u001b[1;31mKeyError\u001b[0m: 'seq_len'",
      "\nDuring handling of the above exception, another exception occurred:\n",
      "\u001b[1;31mValueError\u001b[0m                                Traceback (most recent call last)",
      "\u001b[1;32md:\\Research\\RL\\vol-surface-vae\\vae_with_mem_sabr.ipynb Cell 6\u001b[0m in \u001b[0;36m1\n\u001b[1;32m----> <a href='vscode-notebook-cell:/d%3A/Research/RL/vol-surface-vae/vae_with_mem_sabr.ipynb#W6sZmlsZQ%3D%3D?line=0'>1</a>\u001b[0m result \u001b[39m=\u001b[39m flaml\u001b[39m.\u001b[39;49mtune\u001b[39m.\u001b[39;49mrun(\n\u001b[0;32m      <a href='vscode-notebook-cell:/d%3A/Research/RL/vol-surface-vae/vae_with_mem_sabr.ipynb#W6sZmlsZQ%3D%3D?line=1'>2</a>\u001b[0m     tune\u001b[39m.\u001b[39;49mwith_parameters(train_wrapper),\n\u001b[0;32m      <a href='vscode-notebook-cell:/d%3A/Research/RL/vol-surface-vae/vae_with_mem_sabr.ipynb#W6sZmlsZQ%3D%3D?line=2'>3</a>\u001b[0m     config\u001b[39m=\u001b[39;49mconfig,\n\u001b[0;32m      <a href='vscode-notebook-cell:/d%3A/Research/RL/vol-surface-vae/vae_with_mem_sabr.ipynb#W6sZmlsZQ%3D%3D?line=3'>4</a>\u001b[0m     metric\u001b[39m=\u001b[39;49m\u001b[39m\"\u001b[39;49m\u001b[39mdev_loss\u001b[39;49m\u001b[39m\"\u001b[39;49m,\n\u001b[0;32m      <a href='vscode-notebook-cell:/d%3A/Research/RL/vol-surface-vae/vae_with_mem_sabr.ipynb#W6sZmlsZQ%3D%3D?line=4'>5</a>\u001b[0m     mode\u001b[39m=\u001b[39;49m\u001b[39m\"\u001b[39;49m\u001b[39mmin\u001b[39;49m\u001b[39m\"\u001b[39;49m,\n\u001b[0;32m      <a href='vscode-notebook-cell:/d%3A/Research/RL/vol-surface-vae/vae_with_mem_sabr.ipynb#W6sZmlsZQ%3D%3D?line=5'>6</a>\u001b[0m     low_cost_partial_config\u001b[39m=\u001b[39;49m{\u001b[39m\"\u001b[39;49m\u001b[39mnum_epochs\u001b[39;49m\u001b[39m\"\u001b[39;49m: \u001b[39m10\u001b[39;49m},\n\u001b[0;32m      <a href='vscode-notebook-cell:/d%3A/Research/RL/vol-surface-vae/vae_with_mem_sabr.ipynb#W6sZmlsZQ%3D%3D?line=6'>7</a>\u001b[0m     scheduler\u001b[39m=\u001b[39;49m\u001b[39m\"\u001b[39;49m\u001b[39masha\u001b[39;49m\u001b[39m\"\u001b[39;49m,  \u001b[39m# Use asha scheduler to perform early stopping based on intermediate results reported\u001b[39;49;00m\n\u001b[0;32m      <a href='vscode-notebook-cell:/d%3A/Research/RL/vol-surface-vae/vae_with_mem_sabr.ipynb#W6sZmlsZQ%3D%3D?line=7'>8</a>\u001b[0m     resources_per_trial\u001b[39m=\u001b[39;49m{\u001b[39m\"\u001b[39;49m\u001b[39mcpu\u001b[39;49m\u001b[39m\"\u001b[39;49m: \u001b[39m1\u001b[39;49m, \u001b[39m\"\u001b[39;49m\u001b[39mgpu\u001b[39;49m\u001b[39m\"\u001b[39;49m: \u001b[39m1\u001b[39;49m},\n\u001b[0;32m      <a href='vscode-notebook-cell:/d%3A/Research/RL/vol-surface-vae/vae_with_mem_sabr.ipynb#W6sZmlsZQ%3D%3D?line=8'>9</a>\u001b[0m     local_dir\u001b[39m=\u001b[39;49m\u001b[39m'\u001b[39;49m\u001b[39mlogs/\u001b[39;49m\u001b[39m'\u001b[39;49m,\n\u001b[0;32m     <a href='vscode-notebook-cell:/d%3A/Research/RL/vol-surface-vae/vae_with_mem_sabr.ipynb#W6sZmlsZQ%3D%3D?line=9'>10</a>\u001b[0m     num_samples\u001b[39m=\u001b[39;49m\u001b[39m15\u001b[39;49m,\n\u001b[0;32m     <a href='vscode-notebook-cell:/d%3A/Research/RL/vol-surface-vae/vae_with_mem_sabr.ipynb#W6sZmlsZQ%3D%3D?line=10'>11</a>\u001b[0m     use_ray\u001b[39m=\u001b[39;49m\u001b[39mTrue\u001b[39;49;00m)\n",
      "File \u001b[1;32mc:\\Users\\yunta\\AppData\\Local\\Programs\\Python\\Python310\\lib\\site-packages\\flaml\\tune\\tune.py:589\u001b[0m, in \u001b[0;36mrun\u001b[1;34m(evaluation_function, config, low_cost_partial_config, cat_hp_cost, metric, mode, time_budget_s, points_to_evaluate, evaluated_rewards, resource_attr, min_resource, max_resource, reduction_factor, scheduler, search_alg, verbose, local_dir, num_samples, resources_per_trial, config_constraints, metric_constraints, max_failure, use_ray, use_spark, use_incumbent_result_in_evaluation, log_file_name, lexico_objectives, force_cancel, n_concurrent_trials, **ray_args)\u001b[0m\n\u001b[0;32m    587\u001b[0m _use_ray \u001b[39m=\u001b[39m \u001b[39mTrue\u001b[39;00m\n\u001b[0;32m    588\u001b[0m \u001b[39mtry\u001b[39;00m:\n\u001b[1;32m--> 589\u001b[0m     analysis \u001b[39m=\u001b[39m tune\u001b[39m.\u001b[39mrun(\n\u001b[0;32m    590\u001b[0m         evaluation_function,\n\u001b[0;32m    591\u001b[0m         metric\u001b[39m=\u001b[39mmetric,\n\u001b[0;32m    592\u001b[0m         mode\u001b[39m=\u001b[39mmode,\n\u001b[0;32m    593\u001b[0m         search_alg\u001b[39m=\u001b[39msearch_alg,\n\u001b[0;32m    594\u001b[0m         scheduler\u001b[39m=\u001b[39mscheduler,\n\u001b[0;32m    595\u001b[0m         time_budget_s\u001b[39m=\u001b[39mtime_budget_s,\n\u001b[0;32m    596\u001b[0m         verbose\u001b[39m=\u001b[39mverbose,\n\u001b[0;32m    597\u001b[0m         local_dir\u001b[39m=\u001b[39mlocal_dir,\n\u001b[0;32m    598\u001b[0m         num_samples\u001b[39m=\u001b[39mnum_samples,\n\u001b[0;32m    599\u001b[0m         resources_per_trial\u001b[39m=\u001b[39mresources_per_trial,\n\u001b[0;32m    600\u001b[0m         \u001b[39m*\u001b[39m\u001b[39m*\u001b[39mray_args,\n\u001b[0;32m    601\u001b[0m     )\n\u001b[0;32m    602\u001b[0m     \u001b[39mif\u001b[39;00m log_file_name:\n\u001b[0;32m    603\u001b[0m         \u001b[39mwith\u001b[39;00m \u001b[39mopen\u001b[39m(log_file_name, \u001b[39m\"\u001b[39m\u001b[39mw\u001b[39m\u001b[39m\"\u001b[39m) \u001b[39mas\u001b[39;00m f:\n",
      "File \u001b[1;32mc:\\Users\\yunta\\AppData\\Local\\Programs\\Python\\Python310\\lib\\site-packages\\ray\\tune\\tune.py:904\u001b[0m, in \u001b[0;36mrun\u001b[1;34m(run_or_experiment, name, metric, mode, stop, time_budget_s, config, resources_per_trial, num_samples, local_dir, search_alg, scheduler, keep_checkpoints_num, checkpoint_score_attr, checkpoint_freq, checkpoint_at_end, verbose, progress_reporter, log_to_file, trial_name_creator, trial_dirname_creator, chdir_to_trial_dir, sync_config, export_formats, max_failures, fail_fast, restore, server_port, resume, reuse_actors, raise_on_failed_trial, callbacks, max_concurrent_trials, trial_executor, _experiment_checkpoint_dir, _remote, _remote_string_queue, _tuner_api)\u001b[0m\n\u001b[0;32m    900\u001b[0m \u001b[39mtry\u001b[39;00m:\n\u001b[0;32m    901\u001b[0m     \u001b[39mwhile\u001b[39;00m (\n\u001b[0;32m    902\u001b[0m         \u001b[39mnot\u001b[39;00m runner\u001b[39m.\u001b[39mis_finished() \u001b[39mand\u001b[39;00m \u001b[39mnot\u001b[39;00m experiment_interrupted_event\u001b[39m.\u001b[39mis_set()\n\u001b[0;32m    903\u001b[0m     ):\n\u001b[1;32m--> 904\u001b[0m         runner\u001b[39m.\u001b[39;49mstep()\n\u001b[0;32m    905\u001b[0m         \u001b[39mif\u001b[39;00m has_verbosity(Verbosity\u001b[39m.\u001b[39mV1_EXPERIMENT):\n\u001b[0;32m    906\u001b[0m             _report_progress(runner, progress_reporter)\n",
      "File \u001b[1;32mc:\\Users\\yunta\\AppData\\Local\\Programs\\Python\\Python310\\lib\\site-packages\\ray\\tune\\execution\\trial_runner.py:1338\u001b[0m, in \u001b[0;36mTrialRunner.step\u001b[1;34m(self)\u001b[0m\n\u001b[0;32m   1333\u001b[0m \u001b[39mwith\u001b[39;00m warn_if_slow(\u001b[39m\"\u001b[39m\u001b[39mcallbacks.on_step_begin\u001b[39m\u001b[39m\"\u001b[39m):\n\u001b[0;32m   1334\u001b[0m     \u001b[39mself\u001b[39m\u001b[39m.\u001b[39m_callbacks\u001b[39m.\u001b[39mon_step_begin(\n\u001b[0;32m   1335\u001b[0m         iteration\u001b[39m=\u001b[39m\u001b[39mself\u001b[39m\u001b[39m.\u001b[39m_iteration, trials\u001b[39m=\u001b[39m\u001b[39mself\u001b[39m\u001b[39m.\u001b[39m_trials\n\u001b[0;32m   1336\u001b[0m     )\n\u001b[1;32m-> 1338\u001b[0m next_trial \u001b[39m=\u001b[39m \u001b[39mself\u001b[39;49m\u001b[39m.\u001b[39;49m_update_trial_queue_and_get_next_trial()\n\u001b[0;32m   1339\u001b[0m \u001b[39mif\u001b[39;00m next_trial:\n\u001b[0;32m   1340\u001b[0m     logger\u001b[39m.\u001b[39mdebug(\u001b[39mf\u001b[39m\u001b[39m\"\u001b[39m\u001b[39mGot new trial to run: \u001b[39m\u001b[39m{\u001b[39;00mnext_trial\u001b[39m}\u001b[39;00m\u001b[39m\"\u001b[39m)\n",
      "File \u001b[1;32mc:\\Users\\yunta\\AppData\\Local\\Programs\\Python\\Python310\\lib\\site-packages\\ray\\tune\\execution\\trial_runner.py:1315\u001b[0m, in \u001b[0;36mTrialRunner._update_trial_queue_and_get_next_trial\u001b[1;34m(self)\u001b[0m\n\u001b[0;32m   1312\u001b[0m \u001b[39mif\u001b[39;00m \u001b[39mnot\u001b[39;00m \u001b[39mself\u001b[39m\u001b[39m.\u001b[39m_search_alg\u001b[39m.\u001b[39mis_finished():\n\u001b[0;32m   1313\u001b[0m     \u001b[39m# Create pending trials until it fails.\u001b[39;00m\n\u001b[0;32m   1314\u001b[0m     \u001b[39mwhile\u001b[39;00m num_pending_trials \u001b[39m<\u001b[39m \u001b[39mself\u001b[39m\u001b[39m.\u001b[39m_max_pending_trials:\n\u001b[1;32m-> 1315\u001b[0m         \u001b[39mif\u001b[39;00m \u001b[39mnot\u001b[39;00m \u001b[39mself\u001b[39;49m\u001b[39m.\u001b[39;49m_update_trial_queue(blocking\u001b[39m=\u001b[39;49mwait_for_trial):\n\u001b[0;32m   1316\u001b[0m             \u001b[39mbreak\u001b[39;00m\n\u001b[0;32m   1317\u001b[0m         wait_for_trial \u001b[39m=\u001b[39m \u001b[39mFalse\u001b[39;00m  \u001b[39m# wait at most one trial\u001b[39;00m\n",
      "File \u001b[1;32mc:\\Users\\yunta\\AppData\\Local\\Programs\\Python\\Python310\\lib\\site-packages\\ray\\tune\\execution\\trial_runner.py:1054\u001b[0m, in \u001b[0;36m_TuneControllerBase._update_trial_queue\u001b[1;34m(self, blocking, timeout)\u001b[0m\n\u001b[0;32m   1041\u001b[0m \u001b[39mdef\u001b[39;00m \u001b[39m_update_trial_queue\u001b[39m(\u001b[39mself\u001b[39m, blocking: \u001b[39mbool\u001b[39m \u001b[39m=\u001b[39m \u001b[39mFalse\u001b[39;00m, timeout: \u001b[39mint\u001b[39m \u001b[39m=\u001b[39m \u001b[39m600\u001b[39m) \u001b[39m-\u001b[39m\u001b[39m>\u001b[39m \u001b[39mbool\u001b[39m:\n\u001b[0;32m   1042\u001b[0m     \u001b[39m\"\"\"Adds next trials to queue if possible.\u001b[39;00m\n\u001b[0;32m   1043\u001b[0m \n\u001b[0;32m   1044\u001b[0m \u001b[39m    Note that the timeout is currently unexposed to the user.\u001b[39;00m\n\u001b[1;32m   (...)\u001b[0m\n\u001b[0;32m   1052\u001b[0m \u001b[39m        Boolean indicating if a new trial was created or not.\u001b[39;00m\n\u001b[0;32m   1053\u001b[0m \u001b[39m    \"\"\"\u001b[39;00m\n\u001b[1;32m-> 1054\u001b[0m     trial \u001b[39m=\u001b[39m \u001b[39mself\u001b[39;49m\u001b[39m.\u001b[39;49m_search_alg\u001b[39m.\u001b[39;49mnext_trial()\n\u001b[0;32m   1055\u001b[0m     \u001b[39mif\u001b[39;00m blocking \u001b[39mand\u001b[39;00m \u001b[39mnot\u001b[39;00m trial:\n\u001b[0;32m   1056\u001b[0m         start \u001b[39m=\u001b[39m time\u001b[39m.\u001b[39mtime()\n",
      "File \u001b[1;32mc:\\Users\\yunta\\AppData\\Local\\Programs\\Python\\Python310\\lib\\site-packages\\ray\\tune\\search\\search_generator.py:100\u001b[0m, in \u001b[0;36mSearchGenerator.next_trial\u001b[1;34m(self)\u001b[0m\n\u001b[0;32m     94\u001b[0m \u001b[39m\"\"\"Provides one Trial object to be queued into the TrialRunner.\u001b[39;00m\n\u001b[0;32m     95\u001b[0m \n\u001b[0;32m     96\u001b[0m \u001b[39mReturns:\u001b[39;00m\n\u001b[0;32m     97\u001b[0m \u001b[39m    Trial: Returns a single trial.\u001b[39;00m\n\u001b[0;32m     98\u001b[0m \u001b[39m\"\"\"\u001b[39;00m\n\u001b[0;32m     99\u001b[0m \u001b[39mif\u001b[39;00m \u001b[39mnot\u001b[39;00m \u001b[39mself\u001b[39m\u001b[39m.\u001b[39mis_finished():\n\u001b[1;32m--> 100\u001b[0m     \u001b[39mreturn\u001b[39;00m \u001b[39mself\u001b[39;49m\u001b[39m.\u001b[39;49mcreate_trial_if_possible(\n\u001b[0;32m    101\u001b[0m         \u001b[39mself\u001b[39;49m\u001b[39m.\u001b[39;49m_experiment\u001b[39m.\u001b[39;49mspec, \u001b[39mself\u001b[39;49m\u001b[39m.\u001b[39;49m_experiment\u001b[39m.\u001b[39;49mdir_name\n\u001b[0;32m    102\u001b[0m     )\n\u001b[0;32m    103\u001b[0m \u001b[39mreturn\u001b[39;00m \u001b[39mNone\u001b[39;00m\n",
      "File \u001b[1;32mc:\\Users\\yunta\\AppData\\Local\\Programs\\Python\\Python310\\lib\\site-packages\\ray\\tune\\search\\search_generator.py:110\u001b[0m, in \u001b[0;36mSearchGenerator.create_trial_if_possible\u001b[1;34m(self, experiment_spec, output_path)\u001b[0m\n\u001b[0;32m    108\u001b[0m logger\u001b[39m.\u001b[39mdebug(\u001b[39m\"\u001b[39m\u001b[39mcreating trial\u001b[39m\u001b[39m\"\u001b[39m)\n\u001b[0;32m    109\u001b[0m trial_id \u001b[39m=\u001b[39m Trial\u001b[39m.\u001b[39mgenerate_id()\n\u001b[1;32m--> 110\u001b[0m suggested_config \u001b[39m=\u001b[39m \u001b[39mself\u001b[39;49m\u001b[39m.\u001b[39;49msearcher\u001b[39m.\u001b[39;49msuggest(trial_id)\n\u001b[0;32m    111\u001b[0m \u001b[39mif\u001b[39;00m suggested_config \u001b[39m==\u001b[39m Searcher\u001b[39m.\u001b[39mFINISHED:\n\u001b[0;32m    112\u001b[0m     \u001b[39mself\u001b[39m\u001b[39m.\u001b[39m_finished \u001b[39m=\u001b[39m \u001b[39mTrue\u001b[39;00m\n",
      "File \u001b[1;32mc:\\Users\\yunta\\AppData\\Local\\Programs\\Python\\Python310\\lib\\site-packages\\flaml\\tune\\searcher\\blendsearch.py:1074\u001b[0m, in \u001b[0;36mCFO.suggest\u001b[1;34m(self, trial_id)\u001b[0m\n\u001b[0;32m   1070\u001b[0m \u001b[39mif\u001b[39;00m \u001b[39mlen\u001b[39m(\u001b[39mself\u001b[39m\u001b[39m.\u001b[39m_search_thread_pool) \u001b[39m<\u001b[39m \u001b[39m2\u001b[39m:\n\u001b[0;32m   1071\u001b[0m     \u001b[39m# When a local thread converges, the number of threads is 1\u001b[39;00m\n\u001b[0;32m   1072\u001b[0m     \u001b[39m# Need to restart\u001b[39;00m\n\u001b[0;32m   1073\u001b[0m     \u001b[39mself\u001b[39m\u001b[39m.\u001b[39m_init_used \u001b[39m=\u001b[39m \u001b[39mFalse\u001b[39;00m\n\u001b[1;32m-> 1074\u001b[0m \u001b[39mreturn\u001b[39;00m \u001b[39msuper\u001b[39;49m()\u001b[39m.\u001b[39;49msuggest(trial_id)\n",
      "File \u001b[1;32mc:\\Users\\yunta\\AppData\\Local\\Programs\\Python\\Python310\\lib\\site-packages\\flaml\\tune\\searcher\\blendsearch.py:762\u001b[0m, in \u001b[0;36mBlendSearch.suggest\u001b[1;34m(self, trial_id)\u001b[0m\n\u001b[0;32m    760\u001b[0m     \u001b[39massert\u001b[39;00m reward \u001b[39mis\u001b[39;00m \u001b[39mNone\u001b[39;00m, \u001b[39m\"\u001b[39m\u001b[39mEmpty config can\u001b[39m\u001b[39m'\u001b[39m\u001b[39mt have reward.\u001b[39m\u001b[39m\"\u001b[39m\n\u001b[0;32m    761\u001b[0m     \u001b[39mreturn\u001b[39;00m init_config\n\u001b[1;32m--> 762\u001b[0m config, space \u001b[39m=\u001b[39m \u001b[39mself\u001b[39;49m\u001b[39m.\u001b[39;49m_ls\u001b[39m.\u001b[39;49mcomplete_config(init_config, \u001b[39mself\u001b[39;49m\u001b[39m.\u001b[39;49m_ls_bound_min, \u001b[39mself\u001b[39;49m\u001b[39m.\u001b[39;49m_ls_bound_max)\n\u001b[0;32m    763\u001b[0m config_signature \u001b[39m=\u001b[39m \u001b[39mself\u001b[39m\u001b[39m.\u001b[39m_ls\u001b[39m.\u001b[39mconfig_signature(config, space)\n\u001b[0;32m    764\u001b[0m \u001b[39mif\u001b[39;00m reward \u001b[39mis\u001b[39;00m \u001b[39mNone\u001b[39;00m:\n",
      "File \u001b[1;32mc:\\Users\\yunta\\AppData\\Local\\Programs\\Python\\Python310\\lib\\site-packages\\flaml\\tune\\searcher\\flow2.py:273\u001b[0m, in \u001b[0;36mFLOW2.complete_config\u001b[1;34m(self, partial_config, lower, upper)\u001b[0m\n\u001b[0;32m    271\u001b[0m disturb \u001b[39m=\u001b[39m \u001b[39mself\u001b[39m\u001b[39m.\u001b[39m_reset_times \u001b[39mand\u001b[39;00m partial_config \u001b[39m==\u001b[39m \u001b[39mself\u001b[39m\u001b[39m.\u001b[39minit_config\n\u001b[0;32m    272\u001b[0m \u001b[39m# if not the first time to complete init_config, use random gaussian\u001b[39;00m\n\u001b[1;32m--> 273\u001b[0m config, space \u001b[39m=\u001b[39m complete_config(partial_config, \u001b[39mself\u001b[39;49m\u001b[39m.\u001b[39;49mspace, \u001b[39mself\u001b[39;49m, disturb, lower, upper)\n\u001b[0;32m    274\u001b[0m \u001b[39mif\u001b[39;00m partial_config \u001b[39m==\u001b[39m \u001b[39mself\u001b[39m\u001b[39m.\u001b[39minit_config:\n\u001b[0;32m    275\u001b[0m     \u001b[39mself\u001b[39m\u001b[39m.\u001b[39m_reset_times \u001b[39m+\u001b[39m\u001b[39m=\u001b[39m \u001b[39m1\u001b[39m\n",
      "File \u001b[1;32mc:\\Users\\yunta\\AppData\\Local\\Programs\\Python\\Python310\\lib\\site-packages\\flaml\\tune\\space.py:488\u001b[0m, in \u001b[0;36mcomplete_config\u001b[1;34m(partial_config, space, flow2, disturb, lower, upper)\u001b[0m\n\u001b[0;32m    486\u001b[0m     \u001b[39mif\u001b[39;00m key \u001b[39mnot\u001b[39;00m \u001b[39min\u001b[39;00m config:\n\u001b[0;32m    487\u001b[0m         config[key] \u001b[39m=\u001b[39m value\n\u001b[1;32m--> 488\u001b[0m \u001b[39mfor\u001b[39;00m _, generated \u001b[39min\u001b[39;00m generate_variants_compatible({\u001b[39m\"\u001b[39m\u001b[39mconfig\u001b[39m\u001b[39m\"\u001b[39m: config}, random_state\u001b[39m=\u001b[39mflow2\u001b[39m.\u001b[39mrs_random):\n\u001b[0;32m    489\u001b[0m     config \u001b[39m=\u001b[39m generated[\u001b[39m\"\u001b[39m\u001b[39mconfig\u001b[39m\u001b[39m\"\u001b[39m]\n\u001b[0;32m    490\u001b[0m     \u001b[39mbreak\u001b[39;00m\n",
      "File \u001b[1;32mc:\\Users\\yunta\\AppData\\Local\\Programs\\Python\\Python310\\lib\\site-packages\\ray\\tune\\search\\variant_generator.py:52\u001b[0m, in \u001b[0;36mgenerate_variants\u001b[1;34m(unresolved_spec, constant_grid_search, random_state)\u001b[0m\n\u001b[0;32m     16\u001b[0m \u001b[39m@DeveloperAPI\u001b[39m\n\u001b[0;32m     17\u001b[0m \u001b[39mdef\u001b[39;00m \u001b[39mgenerate_variants\u001b[39m(\n\u001b[0;32m     18\u001b[0m     unresolved_spec: Dict,\n\u001b[0;32m     19\u001b[0m     constant_grid_search: \u001b[39mbool\u001b[39m \u001b[39m=\u001b[39m \u001b[39mFalse\u001b[39;00m,\n\u001b[0;32m     20\u001b[0m     random_state: \u001b[39m\"\u001b[39m\u001b[39mRandomState\u001b[39m\u001b[39m\"\u001b[39m \u001b[39m=\u001b[39m \u001b[39mNone\u001b[39;00m,\n\u001b[0;32m     21\u001b[0m ) \u001b[39m-\u001b[39m\u001b[39m>\u001b[39m Generator[Tuple[Dict, Dict], \u001b[39mNone\u001b[39;00m, \u001b[39mNone\u001b[39;00m]:\n\u001b[0;32m     22\u001b[0m     \u001b[39m\"\"\"Generates variants from a spec (dict) with unresolved values.\u001b[39;00m\n\u001b[0;32m     23\u001b[0m \n\u001b[0;32m     24\u001b[0m \u001b[39m    There are two types of unresolved values:\u001b[39;00m\n\u001b[1;32m   (...)\u001b[0m\n\u001b[0;32m     50\u001b[0m \u001b[39m        (Dict of resolved variables, Spec object)\u001b[39;00m\n\u001b[0;32m     51\u001b[0m \u001b[39m    \"\"\"\u001b[39;00m\n\u001b[1;32m---> 52\u001b[0m     \u001b[39mfor\u001b[39;00m resolved_vars, spec \u001b[39min\u001b[39;00m _generate_variants_internal(\n\u001b[0;32m     53\u001b[0m         unresolved_spec,\n\u001b[0;32m     54\u001b[0m         constant_grid_search\u001b[39m=\u001b[39mconstant_grid_search,\n\u001b[0;32m     55\u001b[0m         random_state\u001b[39m=\u001b[39mrandom_state,\n\u001b[0;32m     56\u001b[0m     ):\n\u001b[0;32m     57\u001b[0m         \u001b[39massert\u001b[39;00m \u001b[39mnot\u001b[39;00m _unresolved_values(spec)\n\u001b[0;32m     58\u001b[0m         \u001b[39myield\u001b[39;00m resolved_vars, spec\n",
      "File \u001b[1;32mc:\\Users\\yunta\\AppData\\Local\\Programs\\Python\\Python310\\lib\\site-packages\\ray\\tune\\search\\variant_generator.py:260\u001b[0m, in \u001b[0;36m_generate_variants_internal\u001b[1;34m(spec, constant_grid_search, random_state)\u001b[0m\n\u001b[0;32m    257\u001b[0m \u001b[39mfor\u001b[39;00m resolved_spec \u001b[39min\u001b[39;00m grid_search:\n\u001b[0;32m    258\u001b[0m     \u001b[39mif\u001b[39;00m \u001b[39mnot\u001b[39;00m constant_grid_search \u001b[39mor\u001b[39;00m \u001b[39mnot\u001b[39;00m all_resolved:\n\u001b[0;32m    259\u001b[0m         \u001b[39m# In this path, we sample the remaining random variables\u001b[39;00m\n\u001b[1;32m--> 260\u001b[0m         _, resolved_vars \u001b[39m=\u001b[39m _resolve_domain_vars(\n\u001b[0;32m    261\u001b[0m             resolved_spec, to_resolve, random_state\u001b[39m=\u001b[39;49mrandom_state\n\u001b[0;32m    262\u001b[0m         )\n\u001b[0;32m    264\u001b[0m     \u001b[39mfor\u001b[39;00m resolved, spec \u001b[39min\u001b[39;00m _generate_variants_internal(\n\u001b[0;32m    265\u001b[0m         resolved_spec,\n\u001b[0;32m    266\u001b[0m         constant_grid_search\u001b[39m=\u001b[39mconstant_grid_search,\n\u001b[0;32m    267\u001b[0m         random_state\u001b[39m=\u001b[39mrandom_state,\n\u001b[0;32m    268\u001b[0m     ):\n\u001b[0;32m    269\u001b[0m         \u001b[39mfor\u001b[39;00m path, value \u001b[39min\u001b[39;00m grid_vars:\n",
      "File \u001b[1;32mc:\\Users\\yunta\\AppData\\Local\\Programs\\Python\\Python310\\lib\\site-packages\\ray\\tune\\search\\variant_generator.py:395\u001b[0m, in \u001b[0;36m_resolve_domain_vars\u001b[1;34m(spec, domain_vars, allow_fail, random_state)\u001b[0m\n\u001b[0;32m    393\u001b[0m     error \u001b[39m=\u001b[39m e\n\u001b[0;32m    394\u001b[0m \u001b[39mexcept\u001b[39;00m \u001b[39mException\u001b[39;00m:\n\u001b[1;32m--> 395\u001b[0m     \u001b[39mraise\u001b[39;00m \u001b[39mValueError\u001b[39;00m(\n\u001b[0;32m    396\u001b[0m         \u001b[39m\"\u001b[39m\u001b[39mFailed to evaluate expression: \u001b[39m\u001b[39m{}\u001b[39;00m\u001b[39m: \u001b[39m\u001b[39m{}\u001b[39;00m\u001b[39m\"\u001b[39m\u001b[39m.\u001b[39mformat(path, domain)\n\u001b[0;32m    397\u001b[0m     )\n\u001b[0;32m    398\u001b[0m \u001b[39melse\u001b[39;00m:\n\u001b[0;32m    399\u001b[0m     assign_value(spec, path, value)\n",
      "\u001b[1;31mValueError\u001b[0m: Failed to evaluate expression: ('config', 'ctx_len'): <ray.tune.search.sample.Function object at 0x00000203004EA080>"
     ]
    }
   ],
   "source": [
    "result = flaml.tune.run(\n",
    "    tune.with_parameters(train_wrapper),\n",
    "    config=config,\n",
    "    metric=\"dev_loss\",\n",
    "    mode=\"min\",\n",
    "    low_cost_partial_config={\"num_epochs\": 10},\n",
    "    scheduler=\"asha\",  # Use asha scheduler to perform early stopping based on intermediate results reported\n",
    "    resources_per_trial={\"cpu\": 1, \"gpu\": 1},\n",
    "    local_dir='logs/',\n",
    "    num_samples=15,\n",
    "    use_ray=True)"
   ]
  },
  {
   "cell_type": "code",
   "execution_count": 6,
   "metadata": {},
   "outputs": [
    {
     "name": "stderr",
     "output_type": "stream",
     "text": [
      "2023-05-08 22:42:23,944\tERROR services.py:1197 -- Failed to start the dashboard \n",
      "2023-05-08 22:42:23,947\tERROR services.py:1222 -- Error should be written to 'dashboard.log' or 'dashboard.err'. We are printing the last 20 lines for you. See 'https://docs.ray.io/en/master/ray-observability/ray-logging.html#logging-directory-structure' to find where the log file is.\n",
      "2023-05-08 22:42:23,949\tERROR services.py:1232 -- Couldn't read dashboard.log file. Error: [Errno 2] No such file or directory: 'C:\\\\Users\\\\yunta\\\\AppData\\\\Local\\\\Temp\\\\ray\\\\session_2023-05-08_22-42-01_358295_17328\\\\logs\\\\dashboard.log'. It means the dashboard is broken even before it initializes the logger (mostly dependency issues). Reading the dashboard.err file which contains stdout/stderr.\n",
      "2023-05-08 22:42:23,952\tERROR services.py:1266 -- Failed to read dashboard.err file: cannot mmap an empty file. It is unexpected. Please report an issue to Ray github. https://github.com/ray-project/ray/issues\n",
      "2023-05-08 22:42:25,683\tINFO worker.py:1625 -- Started a local Ray instance.\n",
      "2023-05-08 22:42:28,408\tINFO tune.py:218 -- Initializing Ray automatically. For cluster usage or custom Ray initialization, call `ray.init(...)` before `Tuner(...)`.\n"
     ]
    },
    {
     "data": {
      "text/html": [],
      "text/plain": [
       "<IPython.core.display.HTML object>"
      ]
     },
     "metadata": {},
     "output_type": "display_data"
    },
    {
     "name": "stderr",
     "output_type": "stream",
     "text": [
      "2023-05-08 22:43:03,954\tWARNING tune.py:184 -- Stop signal received (e.g. via SIGINT/Ctrl+C), ending Ray Tune run. This will try to checkpoint the experiment state one last time. Press CTRL+C (or send SIGINT/SIGKILL/SIGTERM) to skip. \n",
      "2023-05-08 22:43:22,468\tWARNING worker.py:1986 -- Warning: The actor ImplicitFunc is very large (61 MiB). Check that its definition is not implicitly capturing a large array or other object in scope. Tip: use ray.put() to put large objects in the Ray object store.\n",
      "2023-05-08 22:43:22,585\tWARNING util.py:244 -- The `start_trial` operation took 1.689 s, which may be a performance bottleneck.\n",
      "2023-05-08 22:43:25,717\tERROR tune.py:941 -- Trials did not complete: [train_wrapper_23d90_00000, train_wrapper_23d90_00001, train_wrapper_23d90_00002, train_wrapper_23d90_00003, train_wrapper_23d90_00004, train_wrapper_23d90_00005, train_wrapper_23d90_00006, train_wrapper_23d90_00007, train_wrapper_23d90_00008, train_wrapper_23d90_00009, train_wrapper_23d90_00010, train_wrapper_23d90_00011, train_wrapper_23d90_00012, train_wrapper_23d90_00013, train_wrapper_23d90_00014]\n",
      "2023-05-08 22:43:25,718\tINFO tune.py:945 -- Total run time: 57.31 seconds (55.65 seconds for the tuning loop).\n",
      "2023-05-08 22:43:25,718\tWARNING tune.py:954 -- Experiment has been interrupted, but the most recent state was saved.\n",
      "Continue running this experiment with: Tuner.restore(path=\"C:\\Users\\yunta\\ray_results\\train_wrapper_2023-05-08_22-41-57\", trainable=...)\n"
     ]
    }
   ],
   "source": [
    "scheduler = ASHAScheduler(\n",
    "        max_t=100,\n",
    "        grace_period=1,\n",
    "        reduction_factor=2)\n",
    "tuner = tune.Tuner(\n",
    "        tune.with_resources(\n",
    "            tune.with_parameters(train_wrapper),\n",
    "            resources={\"cpu\": 2, \"gpu\": 1.0}\n",
    "        ),\n",
    "        tune_config=tune.TuneConfig(\n",
    "            metric=\"dev_loss\",\n",
    "            mode=\"min\",\n",
    "            scheduler=scheduler,\n",
    "            num_samples=15,\n",
    "        ),\n",
    "        param_space=config,\n",
    "    )\n",
    "results = tuner.fit()"
   ]
  }
 ],
 "metadata": {
  "kernelspec": {
   "display_name": "Python 3",
   "language": "python",
   "name": "python3"
  },
  "language_info": {
   "codemirror_mode": {
    "name": "ipython",
    "version": 3
   },
   "file_extension": ".py",
   "mimetype": "text/x-python",
   "name": "python",
   "nbconvert_exporter": "python",
   "pygments_lexer": "ipython3",
   "version": "3.10.8"
  },
  "orig_nbformat": 4
 },
 "nbformat": 4,
 "nbformat_minor": 2
}
