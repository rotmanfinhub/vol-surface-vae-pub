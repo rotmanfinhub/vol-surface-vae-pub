{
 "cells": [
  {
   "cell_type": "code",
   "execution_count": null,
   "metadata": {},
   "outputs": [],
   "source": [
    "import torch\n",
    "import numpy as np\n",
    "from torch.utils.data import DataLoader\n",
    "from vae.datasets import VolSurfaceDataSetDict, VolSurfaceExFeatsDataSet\n",
    "from vae.cvae_with_mem import CVAEMem\n",
    "from vae.utils import *"
   ]
  },
  {
   "cell_type": "code",
   "execution_count": null,
   "metadata": {},
   "outputs": [],
   "source": [
    "set_seeds(0)\n",
    "torch.set_default_dtype(torch.float64)"
   ]
  },
  {
   "cell_type": "code",
   "execution_count": null,
   "metadata": {},
   "outputs": [],
   "source": [
    "seq_len = 5\n",
    "ctx_len = seq_len - 1\n",
    "num_epochs = 1"
   ]
  },
  {
   "cell_type": "code",
   "execution_count": null,
   "metadata": {},
   "outputs": [],
   "source": [
    "data = np.load(\"data/vol_surface_with_ret.npz\")\n",
    "vol_surf_data = data[\"surface\"]\n",
    "ret_data = data[\"ret\"]\n",
    "skew_data = data[\"skews\"]\n",
    "slope_data = data[\"slopes\"]\n",
    "ex_data = np.concatenate([ret_data[...,np.newaxis], skew_data[...,np.newaxis], slope_data[...,np.newaxis]], axis=-1)\n",
    "train_simple = DataLoader(VolSurfaceDataSetDict(vol_surf_data[:4000], seq_len), shuffle=True, batch_size=64)\n",
    "valid_simple = DataLoader(VolSurfaceDataSetDict(vol_surf_data[4000:5000], seq_len), shuffle=True, batch_size=16)\n",
    "test_simple = DataLoader(VolSurfaceDataSetDict(vol_surf_data[5000:], seq_len), shuffle=True, batch_size=16)\n",
    "\n",
    "train_ex = DataLoader(VolSurfaceExFeatsDataSet(vol_surf_data[:4000], ex_data[:4000], seq_len), shuffle=True, batch_size=64)\n",
    "valid_ex = DataLoader(VolSurfaceExFeatsDataSet(vol_surf_data[4000:5000], ex_data[4000:5000], seq_len), shuffle=True, batch_size=16)\n",
    "test_ex = DataLoader(VolSurfaceExFeatsDataSet(vol_surf_data[5000:], ex_data[5000:], seq_len), shuffle=True, batch_size=16)"
   ]
  },
  {
   "attachments": {},
   "cell_type": "markdown",
   "metadata": {},
   "source": [
    "# Conv version"
   ]
  },
  {
   "attachments": {},
   "cell_type": "markdown",
   "metadata": {},
   "source": [
    "## with ex feat"
   ]
  },
  {
   "cell_type": "code",
   "execution_count": null,
   "metadata": {},
   "outputs": [],
   "source": [
    "config = {\n",
    "    \"seq_len\": seq_len, \n",
    "    \"feat_dim\": (5, 5),\n",
    "    \"latent_dim\": 5,\n",
    "    \"device\": \"cuda\",\n",
    "    \"kl_weight\": 1,\n",
    "    \"re_feat_weight\": 0,\n",
    "    \"surface_hidden\": [2, 4, 5],\n",
    "    \"ex_feats_dim\": 3,\n",
    "    \"ex_feats_hidden\": None,\n",
    "    \"mem_type\": \"lstm\",\n",
    "    \"mem_hidden\": 75,\n",
    "    \"mem_layers\": 2,\n",
    "    \"mem_dropout\": 0.2,\n",
    "    \"ctx_len\": ctx_len, \n",
    "    \"ctx_surface_hidden\": [2, 4, 5], \n",
    "    \"ctx_ex_feats_hidden\": None,\n",
    "    \"interaction_layers\": None,\n",
    "    \"use_dense_surface\": False,\n",
    "}\n",
    "model = CVAEMem(config)\n",
    "print(model)"
   ]
  },
  {
   "cell_type": "code",
   "execution_count": null,
   "metadata": {},
   "outputs": [],
   "source": [
    "train(model, train_ex, valid_ex, epochs=num_epochs, lr=1e-05, model_dir=\"test_spx/ex\", file_name=\"conv2d_mem_spx_ex.pt\")"
   ]
  },
  {
   "cell_type": "code",
   "execution_count": null,
   "metadata": {},
   "outputs": [],
   "source": [
    "test(model, valid_ex, test_ex, \"test_spx/ex/conv2d_mem_spx_ex.pt\")"
   ]
  },
  {
   "cell_type": "code",
   "execution_count": null,
   "metadata": {},
   "outputs": [],
   "source": [
    "surf, ex_feat = model.get_surface_given_conditions({\"surface\": torch.from_numpy(vol_surf_data[5000:5000+ctx_len]), \n",
    "                                    \"ex_feats\": torch.from_numpy(ex_data[5000:5000+ctx_len])})\n",
    "surf = surf.detach().cpu().numpy().reshape((5,5))\n",
    "ex_feat = ex_feat.detach().cpu().numpy()\n",
    "print(f\"Real ex: {ex_data[5000+ctx_len]}, predicted ex: {ex_feat}\")\n",
    "plot_surface_separate(vol_surf_data[5000+ctx_len], surf)"
   ]
  },
  {
   "cell_type": "code",
   "execution_count": null,
   "metadata": {},
   "outputs": [],
   "source": [
    "model_data = torch.load(\"test_spx/ret/conv2d_mem_spx_ret.pt\")\n",
    "sim = generate_surface_spx(vol_surf_data, ret_data, model_data, start_time=5000, steps_to_sim=30, model_type=CVAEMem)\n",
    "plot_surface_time_series(sim)"
   ]
  },
  {
   "attachments": {},
   "cell_type": "markdown",
   "metadata": {},
   "source": [
    "## no ex feats"
   ]
  },
  {
   "cell_type": "code",
   "execution_count": null,
   "metadata": {},
   "outputs": [],
   "source": [
    "config = {\n",
    "    \"seq_len\": seq_len, \n",
    "    \"feat_dim\": (5, 5),\n",
    "    \"latent_dim\": 5,\n",
    "    \"device\": \"cuda\",\n",
    "    \"kl_weight\": 1,\n",
    "    \"re_feat_weight\": 0,\n",
    "    \"surface_hidden\": [2, 4, 5],\n",
    "    \"ex_feats_dim\": 0,\n",
    "    \"ex_feats_hidden\": None,\n",
    "    \"mem_type\": \"lstm\",\n",
    "    \"mem_hidden\": 75,\n",
    "    \"mem_layers\": 2,\n",
    "    \"mem_dropout\": 0.2,\n",
    "    \"ctx_len\": ctx_len, \n",
    "    \"ctx_surface_hidden\": [2, 4, 5], \n",
    "    \"ctx_ex_feats_hidden\": None,\n",
    "    \"interaction_layers\": None,\n",
    "    \"use_dense_surface\": False,\n",
    "}\n",
    "model = CVAEMem(config)\n",
    "print(model)"
   ]
  },
  {
   "cell_type": "code",
   "execution_count": null,
   "metadata": {},
   "outputs": [],
   "source": [
    "train(model, train_simple, valid_simple, epochs=num_epochs, lr=1e-05, model_dir=\"test_spx/simple\", file_name=\"conv2d_mem_spx.pt\")"
   ]
  },
  {
   "cell_type": "code",
   "execution_count": null,
   "metadata": {},
   "outputs": [],
   "source": [
    "test(model, valid_simple, test_simple, \"test_spx/simple/conv2d_mem_spx.pt\")"
   ]
  },
  {
   "cell_type": "code",
   "execution_count": null,
   "metadata": {},
   "outputs": [],
   "source": [
    "surf = model.get_surface_given_conditions({\"surface\": torch.from_numpy(vol_surf_data[5000:5000+ctx_len])})\n",
    "surf = surf.detach().cpu().numpy().reshape((5,5))\n",
    "plot_surface_separate(vol_surf_data[5000+ctx_len], surf)"
   ]
  },
  {
   "cell_type": "code",
   "execution_count": null,
   "metadata": {},
   "outputs": [],
   "source": [
    "model_data = torch.load(\"test_spx/simple/conv2d_mem_spx.pt\")\n",
    "sim = generate_surface_spx(vol_surf_data, None, model_data, start_time=5000, steps_to_sim=30, model_type=CVAEMem)\n",
    "plot_surface_time_series(sim)"
   ]
  },
  {
   "attachments": {},
   "cell_type": "markdown",
   "metadata": {},
   "source": [
    "# Dense version"
   ]
  },
  {
   "attachments": {},
   "cell_type": "markdown",
   "metadata": {},
   "source": [
    "## ret as ex feat"
   ]
  },
  {
   "cell_type": "code",
   "execution_count": null,
   "metadata": {},
   "outputs": [],
   "source": [
    "config = {\n",
    "    \"seq_len\": seq_len, \n",
    "    \"feat_dim\": (5, 5),\n",
    "    \"latent_dim\": 25,\n",
    "    \"device\": \"cuda\",\n",
    "    \"kl_weight\": 1,\n",
    "    \"re_feat_weight\": 0,\n",
    "    \"surface_hidden\": [25, 50, 50],\n",
    "    \"ex_feats_dim\": 1,\n",
    "    \"ex_feats_hidden\": None,\n",
    "    \"mem_type\": \"lstm\",\n",
    "    \"mem_hidden\": 75,\n",
    "    \"mem_layers\": 2,\n",
    "    \"mem_dropout\": 0.2,\n",
    "    \"ctx_len\": ctx_len, \n",
    "    \"ctx_surface_hidden\": [25, 50, 50], \n",
    "    \"ctx_ex_feats_hidden\": None,\n",
    "    \"interaction_layers\": None,\n",
    "    \"use_dense_surface\": True,\n",
    "}\n",
    "model = CVAEMem(config)\n",
    "print(model)"
   ]
  },
  {
   "cell_type": "code",
   "execution_count": null,
   "metadata": {},
   "outputs": [],
   "source": [
    "train(model, train_ex, valid_ex, epochs=num_epochs, lr=1e-05, model_dir=\"test_spx/ret\", file_name=\"dense_mem_spx_ret.pt\")"
   ]
  },
  {
   "cell_type": "code",
   "execution_count": null,
   "metadata": {},
   "outputs": [],
   "source": [
    "test(model, valid_ex, test_ex, \"test_spx/ret/dense_mem_spx_ret.pt\")"
   ]
  },
  {
   "cell_type": "code",
   "execution_count": null,
   "metadata": {},
   "outputs": [],
   "source": [
    "surf, ex_feat = model.get_surface_given_conditions({\"surface\": torch.from_numpy(vol_surf_data[5000:5000+ctx_len]), \n",
    "                                    \"ex_feats\": torch.from_numpy(ret_data[5000:5000+ctx_len]).unsqueeze(-1)})\n",
    "surf = surf.detach().cpu().numpy().reshape((5,5))\n",
    "ex_feat = ex_feat.detach().cpu().numpy().reshape((1,))[0]\n",
    "print(f\"Real return: {ret_data[5000+ctx_len]}, predicted: {ex_feat}\")\n",
    "plot_surface_separate(vol_surf_data[5000+ctx_len], surf)"
   ]
  },
  {
   "cell_type": "code",
   "execution_count": null,
   "metadata": {},
   "outputs": [],
   "source": [
    "model_data = torch.load(\"test_spx/ret/dense_mem_spx_ret.pt\")\n",
    "sim = generate_surface_spx(vol_surf_data, ret_data, model_data, start_time=5000, steps_to_sim=30, model_type=CVAEMem)\n",
    "plot_surface_time_series(sim)"
   ]
  },
  {
   "attachments": {},
   "cell_type": "markdown",
   "metadata": {},
   "source": [
    "## no ex feats"
   ]
  },
  {
   "cell_type": "code",
   "execution_count": null,
   "metadata": {},
   "outputs": [],
   "source": [
    "config = {\n",
    "    \"seq_len\": seq_len, \n",
    "    \"feat_dim\": (5, 5),\n",
    "    \"latent_dim\": 25,\n",
    "    \"device\": \"cuda\",\n",
    "    \"kl_weight\": 1,\n",
    "    \"re_feat_weight\": 0,\n",
    "    \"surface_hidden\": [25, 50, 50],\n",
    "    \"ex_feats_dim\": 0,\n",
    "    \"ex_feats_hidden\": None,\n",
    "    \"mem_type\": \"lstm\",\n",
    "    \"mem_hidden\": 75,\n",
    "    \"mem_layers\": 2,\n",
    "    \"mem_dropout\": 0.2,\n",
    "    \"ctx_len\": ctx_len, \n",
    "    \"ctx_surface_hidden\": [25, 50, 50], \n",
    "    \"ctx_ex_feats_hidden\": None,\n",
    "    \"interaction_layers\": None,\n",
    "    \"use_dense_surface\": True,\n",
    "}\n",
    "model = CVAEMem(config)\n",
    "print(model)"
   ]
  },
  {
   "cell_type": "code",
   "execution_count": null,
   "metadata": {},
   "outputs": [],
   "source": [
    "train(model, train_simple, valid_simple, epochs=num_epochs, lr=1e-05, model_dir=\"test_spx/simple\", file_name=\"dense_mem_spx.pt\")"
   ]
  },
  {
   "cell_type": "code",
   "execution_count": null,
   "metadata": {},
   "outputs": [],
   "source": [
    "test(model, valid_simple, test_simple, \"test_spx/simple/dense_mem_spx.pt\")"
   ]
  },
  {
   "cell_type": "code",
   "execution_count": null,
   "metadata": {},
   "outputs": [],
   "source": [
    "surf = model.get_surface_given_conditions({\"surface\": torch.from_numpy(vol_surf_data[5000:5000+ctx_len])})\n",
    "surf = surf.detach().cpu().numpy().reshape((5,5))\n",
    "plot_surface_separate(vol_surf_data[5000+ctx_len], surf)"
   ]
  },
  {
   "cell_type": "code",
   "execution_count": null,
   "metadata": {},
   "outputs": [],
   "source": [
    "model_data = torch.load(\"test_spx/simple/dense_mem_spx.pt\")\n",
    "sim = generate_surface_spx(vol_surf_data, None, model_data, start_time=5000, steps_to_sim=30, model_type=CVAEMem)\n",
    "plot_surface_time_series(sim)"
   ]
  },
  {
   "cell_type": "code",
   "execution_count": null,
   "metadata": {},
   "outputs": [],
   "source": []
  }
 ],
 "metadata": {
  "kernelspec": {
   "display_name": "Python 3",
   "language": "python",
   "name": "python3"
  },
  "language_info": {
   "codemirror_mode": {
    "name": "ipython",
    "version": 3
   },
   "file_extension": ".py",
   "mimetype": "text/x-python",
   "name": "python",
   "nbconvert_exporter": "python",
   "pygments_lexer": "ipython3",
   "version": "3.10.8"
  },
  "orig_nbformat": 4
 },
 "nbformat": 4,
 "nbformat_minor": 2
}
