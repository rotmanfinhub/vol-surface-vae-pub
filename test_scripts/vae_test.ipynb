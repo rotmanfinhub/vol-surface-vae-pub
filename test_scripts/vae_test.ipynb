{
 "cells": [
  {
   "cell_type": "code",
   "execution_count": 1,
   "metadata": {},
   "outputs": [],
   "source": [
    "import numpy as np\n",
    "from torch.utils.data import DataLoader\n",
    "from vae.datasets import VolSurfaceDataSet\n",
    "from vae.dense_vae import VAEDense\n",
    "from vae.conv_vae import VAEConv2D\n",
    "from vae.cvae import CVAE\n",
    "from vae.utils import *"
   ]
  },
  {
   "cell_type": "code",
   "execution_count": 2,
   "metadata": {},
   "outputs": [],
   "source": [
    "set_seeds(0)"
   ]
  },
  {
   "attachments": {},
   "cell_type": "markdown",
   "metadata": {},
   "source": [
    "# Load Data"
   ]
  },
  {
   "cell_type": "code",
   "execution_count": 3,
   "metadata": {},
   "outputs": [
    {
     "name": "stdout",
     "output_type": "stream",
     "text": [
      "(5532, 5, 5)\n"
     ]
    }
   ],
   "source": [
    "data = np.load(\"data/vol_surface.npy\")\n",
    "print(data.shape)"
   ]
  },
  {
   "cell_type": "code",
   "execution_count": 4,
   "metadata": {},
   "outputs": [],
   "source": [
    "train_dataset = VolSurfaceDataSet(data[:4000], 1)\n",
    "train_dataloader = DataLoader(train_dataset, shuffle=False, batch_size=64)\n",
    "valid_dataset = VolSurfaceDataSet(data[4000:5000], 1)\n",
    "valid_dataloader = DataLoader(valid_dataset, shuffle=False, batch_size=16)\n",
    "test_dataset = VolSurfaceDataSet(data[5000:], 1)\n",
    "test_dataloader = DataLoader(test_dataset, shuffle=False, batch_size=16)"
   ]
  },
  {
   "attachments": {},
   "cell_type": "markdown",
   "metadata": {},
   "source": [
    "# Dense VAE"
   ]
  },
  {
   "cell_type": "code",
   "execution_count": 5,
   "metadata": {},
   "outputs": [
    {
     "name": "stdout",
     "output_type": "stream",
     "text": [
      "VAEDense(\n",
      "  (encoder): DenseEncoder(\n",
      "    (encoder_layers): Sequential(\n",
      "      (flatten): Flatten(start_dim=1, end_dim=-1)\n",
      "      (enc_dense_0): Linear(in_features=25, out_features=50, bias=True)\n",
      "      (enc_activation_0): ReLU()\n",
      "      (enc_dense_1): Linear(in_features=50, out_features=100, bias=True)\n",
      "      (enc_activation_1): ReLU()\n",
      "    )\n",
      "    (z_mean_layer): Linear(in_features=100, out_features=10, bias=True)\n",
      "    (z_log_var_layer): Linear(in_features=100, out_features=10, bias=True)\n",
      "  )\n",
      "  (decoder): DenseDecoder(\n",
      "    (decoder_layers): Sequential(\n",
      "      (dec_dense_0): Linear(in_features=10, out_features=100, bias=True)\n",
      "      (dec_activation_0): ReLU()\n",
      "      (dec_dense_1): Linear(in_features=100, out_features=50, bias=True)\n",
      "      (dec_activation_1): ReLU()\n",
      "      (dec_output): Linear(in_features=50, out_features=25, bias=True)\n",
      "    )\n",
      "  )\n",
      ")\n"
     ]
    }
   ],
   "source": [
    "config = {\n",
    "    \"seq_len\": 1, \n",
    "    \"feat_dim\": (5, 5),\n",
    "    \"latent_dim\": 10,\n",
    "    \"device\": \"cuda\",\n",
    "    \"kl_weight\": 1.0,\n",
    "    \"hidden\": [50, 100],\n",
    "}\n",
    "model_dense = VAEDense(config)\n",
    "print(model_dense)"
   ]
  },
  {
   "cell_type": "code",
   "execution_count": 6,
   "metadata": {},
   "outputs": [
    {
     "name": "stderr",
     "output_type": "stream",
     "text": [
      "train-0: 100%|██████████| 63/63 [00:01<00:00, 60.19it/s]\n",
      "eval: 100%|██████████| 63/63 [00:00<00:00, 844.74it/s]\n"
     ]
    },
    {
     "name": "stdout",
     "output_type": "stream",
     "text": [
      "epoch 0: train loss :: 0.111, dev loss :: 0.091, time elapsed :: 1.1292688846588135\n"
     ]
    },
    {
     "name": "stderr",
     "output_type": "stream",
     "text": [
      "train-1: 100%|██████████| 63/63 [00:00<00:00, 271.93it/s]\n",
      "eval: 100%|██████████| 63/63 [00:00<00:00, 947.56it/s]\n"
     ]
    },
    {
     "name": "stdout",
     "output_type": "stream",
     "text": [
      "epoch 1: train loss :: 0.102, dev loss :: 0.083, time elapsed :: 0.31017160415649414\n"
     ]
    },
    {
     "name": "stderr",
     "output_type": "stream",
     "text": [
      "train-2: 100%|██████████| 63/63 [00:00<00:00, 251.89it/s]\n",
      "eval: 100%|██████████| 63/63 [00:00<00:00, 1118.86it/s]\n"
     ]
    },
    {
     "name": "stdout",
     "output_type": "stream",
     "text": [
      "epoch 2: train loss :: 0.093, dev loss :: 0.075, time elapsed :: 0.31630420684814453\n"
     ]
    },
    {
     "name": "stderr",
     "output_type": "stream",
     "text": [
      "train-3: 100%|██████████| 63/63 [00:00<00:00, 279.64it/s]\n",
      "eval: 100%|██████████| 63/63 [00:00<00:00, 1400.03it/s]\n"
     ]
    },
    {
     "name": "stdout",
     "output_type": "stream",
     "text": [
      "epoch 3: train loss :: 0.086, dev loss :: 0.069, time elapsed :: 0.2783334255218506\n"
     ]
    },
    {
     "name": "stderr",
     "output_type": "stream",
     "text": [
      "train-4: 100%|██████████| 63/63 [00:00<00:00, 276.98it/s]\n",
      "eval: 100%|██████████| 63/63 [00:00<00:00, 1004.12it/s]\n"
     ]
    },
    {
     "name": "stdout",
     "output_type": "stream",
     "text": [
      "epoch 4: train loss :: 0.079, dev loss :: 0.062, time elapsed :: 0.2982363700866699\n"
     ]
    },
    {
     "name": "stderr",
     "output_type": "stream",
     "text": [
      "train-5: 100%|██████████| 63/63 [00:00<00:00, 258.63it/s]\n",
      "eval: 100%|██████████| 63/63 [00:00<00:00, 1210.59it/s]\n"
     ]
    },
    {
     "name": "stdout",
     "output_type": "stream",
     "text": [
      "epoch 5: train loss :: 0.072, dev loss :: 0.057, time elapsed :: 0.3036205768585205\n"
     ]
    },
    {
     "name": "stderr",
     "output_type": "stream",
     "text": [
      "train-6: 100%|██████████| 63/63 [00:00<00:00, 262.50it/s]\n",
      "eval: 100%|██████████| 63/63 [00:00<00:00, 1181.35it/s]\n"
     ]
    },
    {
     "name": "stdout",
     "output_type": "stream",
     "text": [
      "epoch 6: train loss :: 0.066, dev loss :: 0.051, time elapsed :: 0.30233192443847656\n"
     ]
    },
    {
     "name": "stderr",
     "output_type": "stream",
     "text": [
      "train-7: 100%|██████████| 63/63 [00:00<00:00, 279.14it/s]\n",
      "eval: 100%|██████████| 63/63 [00:00<00:00, 1340.40it/s]\n"
     ]
    },
    {
     "name": "stdout",
     "output_type": "stream",
     "text": [
      "epoch 7: train loss :: 0.061, dev loss :: 0.046, time elapsed :: 0.2816941738128662\n"
     ]
    },
    {
     "name": "stderr",
     "output_type": "stream",
     "text": [
      "train-8: 100%|██████████| 63/63 [00:00<00:00, 254.93it/s]\n",
      "eval: 100%|██████████| 63/63 [00:00<00:00, 1155.72it/s]\n"
     ]
    },
    {
     "name": "stdout",
     "output_type": "stream",
     "text": [
      "epoch 8: train loss :: 0.055, dev loss :: 0.042, time elapsed :: 0.3076488971710205\n"
     ]
    },
    {
     "name": "stderr",
     "output_type": "stream",
     "text": [
      "train-9: 100%|██████████| 63/63 [00:00<00:00, 256.02it/s]\n",
      "eval: 100%|██████████| 63/63 [00:00<00:00, 1339.82it/s]\n"
     ]
    },
    {
     "name": "stdout",
     "output_type": "stream",
     "text": [
      "epoch 9: train loss :: 0.051, dev loss :: 0.038, time elapsed :: 0.30207133293151855\n"
     ]
    },
    {
     "name": "stderr",
     "output_type": "stream",
     "text": [
      "train-10: 100%|██████████| 63/63 [00:00<00:00, 275.93it/s]\n",
      "eval: 100%|██████████| 63/63 [00:00<00:00, 1191.33it/s]\n"
     ]
    },
    {
     "name": "stdout",
     "output_type": "stream",
     "text": [
      "epoch 10: train loss :: 0.046, dev loss :: 0.034, time elapsed :: 0.2882063388824463\n"
     ]
    },
    {
     "name": "stderr",
     "output_type": "stream",
     "text": [
      "train-11: 100%|██████████| 63/63 [00:00<00:00, 252.52it/s]\n",
      "eval: 100%|██████████| 63/63 [00:00<00:00, 1143.57it/s]\n"
     ]
    },
    {
     "name": "stdout",
     "output_type": "stream",
     "text": [
      "epoch 11: train loss :: 0.042, dev loss :: 0.030, time elapsed :: 0.31355834007263184\n"
     ]
    },
    {
     "name": "stderr",
     "output_type": "stream",
     "text": [
      "train-12: 100%|██████████| 63/63 [00:00<00:00, 286.37it/s]\n",
      "eval: 100%|██████████| 63/63 [00:00<00:00, 1431.92it/s]\n"
     ]
    },
    {
     "name": "stdout",
     "output_type": "stream",
     "text": [
      "epoch 12: train loss :: 0.038, dev loss :: 0.027, time elapsed :: 0.2730128765106201\n"
     ]
    },
    {
     "name": "stderr",
     "output_type": "stream",
     "text": [
      "train-13: 100%|██████████| 63/63 [00:00<00:00, 265.71it/s]\n",
      "eval: 100%|██████████| 63/63 [00:00<00:00, 1166.89it/s]\n"
     ]
    },
    {
     "name": "stdout",
     "output_type": "stream",
     "text": [
      "epoch 13: train loss :: 0.035, dev loss :: 0.024, time elapsed :: 0.30106329917907715\n"
     ]
    },
    {
     "name": "stderr",
     "output_type": "stream",
     "text": [
      "train-14: 100%|██████████| 63/63 [00:00<00:00, 235.16it/s]\n",
      "eval: 100%|██████████| 63/63 [00:00<00:00, 1032.79it/s]\n"
     ]
    },
    {
     "name": "stdout",
     "output_type": "stream",
     "text": [
      "epoch 14: train loss :: 0.032, dev loss :: 0.022, time elapsed :: 0.3359067440032959\n"
     ]
    },
    {
     "name": "stderr",
     "output_type": "stream",
     "text": [
      "train-15: 100%|██████████| 63/63 [00:00<00:00, 281.77it/s]\n",
      "eval: 100%|██████████| 63/63 [00:00<00:00, 1315.48it/s]\n"
     ]
    },
    {
     "name": "stdout",
     "output_type": "stream",
     "text": [
      "epoch 15: train loss :: 0.029, dev loss :: 0.020, time elapsed :: 0.28260040283203125\n"
     ]
    },
    {
     "name": "stderr",
     "output_type": "stream",
     "text": [
      "train-16: 100%|██████████| 63/63 [00:00<00:00, 248.95it/s]\n",
      "eval: 100%|██████████| 63/63 [00:00<00:00, 1262.28it/s]\n"
     ]
    },
    {
     "name": "stdout",
     "output_type": "stream",
     "text": [
      "epoch 16: train loss :: 0.026, dev loss :: 0.018, time elapsed :: 0.31088972091674805\n"
     ]
    },
    {
     "name": "stderr",
     "output_type": "stream",
     "text": [
      "train-17: 100%|██████████| 63/63 [00:00<00:00, 271.42it/s]\n",
      "eval: 100%|██████████| 63/63 [00:00<00:00, 1312.58it/s]\n"
     ]
    },
    {
     "name": "stdout",
     "output_type": "stream",
     "text": [
      "epoch 17: train loss :: 0.024, dev loss :: 0.016, time elapsed :: 0.2921006679534912\n"
     ]
    },
    {
     "name": "stderr",
     "output_type": "stream",
     "text": [
      "train-18: 100%|██████████| 63/63 [00:00<00:00, 294.37it/s]\n",
      "eval: 100%|██████████| 63/63 [00:00<00:00, 1369.34it/s]\n"
     ]
    },
    {
     "name": "stdout",
     "output_type": "stream",
     "text": [
      "epoch 18: train loss :: 0.022, dev loss :: 0.015, time elapsed :: 0.26700425148010254\n"
     ]
    },
    {
     "name": "stderr",
     "output_type": "stream",
     "text": [
      "train-19: 100%|██████████| 63/63 [00:00<00:00, 284.32it/s]\n",
      "eval: 100%|██████████| 63/63 [00:00<00:00, 1211.56it/s]\n"
     ]
    },
    {
     "name": "stdout",
     "output_type": "stream",
     "text": [
      "epoch 19: train loss :: 0.020, dev loss :: 0.013, time elapsed :: 0.2855992317199707\n"
     ]
    },
    {
     "name": "stderr",
     "output_type": "stream",
     "text": [
      "train-20: 100%|██████████| 63/63 [00:00<00:00, 288.98it/s]\n",
      "eval: 100%|██████████| 63/63 [00:00<00:00, 1369.12it/s]\n"
     ]
    },
    {
     "name": "stdout",
     "output_type": "stream",
     "text": [
      "epoch 20: train loss :: 0.019, dev loss :: 0.012, time elapsed :: 0.2719757556915283\n"
     ]
    },
    {
     "name": "stderr",
     "output_type": "stream",
     "text": [
      "train-21: 100%|██████████| 63/63 [00:00<00:00, 294.12it/s]\n",
      "eval: 100%|██████████| 63/63 [00:00<00:00, 1260.04it/s]\n"
     ]
    },
    {
     "name": "stdout",
     "output_type": "stream",
     "text": [
      "epoch 21: train loss :: 0.017, dev loss :: 0.011, time elapsed :: 0.2742021083831787\n"
     ]
    },
    {
     "name": "stderr",
     "output_type": "stream",
     "text": [
      "train-22: 100%|██████████| 63/63 [00:00<00:00, 286.09it/s]\n",
      "eval: 100%|██████████| 63/63 [00:00<00:00, 1365.07it/s]\n"
     ]
    },
    {
     "name": "stdout",
     "output_type": "stream",
     "text": [
      "epoch 22: train loss :: 0.016, dev loss :: 0.011, time elapsed :: 0.27133989334106445\n"
     ]
    },
    {
     "name": "stderr",
     "output_type": "stream",
     "text": [
      "train-23: 100%|██████████| 63/63 [00:00<00:00, 296.85it/s]\n",
      "eval: 100%|██████████| 63/63 [00:00<00:00, 1285.73it/s]\n"
     ]
    },
    {
     "name": "stdout",
     "output_type": "stream",
     "text": [
      "epoch 23: train loss :: 0.015, dev loss :: 0.010, time elapsed :: 0.2672450542449951\n"
     ]
    },
    {
     "name": "stderr",
     "output_type": "stream",
     "text": [
      "train-24: 100%|██████████| 63/63 [00:00<00:00, 279.38it/s]\n",
      "eval: 100%|██████████| 63/63 [00:00<00:00, 1369.69it/s]\n"
     ]
    },
    {
     "name": "stdout",
     "output_type": "stream",
     "text": [
      "epoch 24: train loss :: 0.014, dev loss :: 0.010, time elapsed :: 0.2825043201446533\n"
     ]
    },
    {
     "name": "stderr",
     "output_type": "stream",
     "text": [
      "train-25: 100%|██████████| 63/63 [00:00<00:00, 282.37it/s]\n",
      "eval: 100%|██████████| 63/63 [00:00<00:00, 1147.55it/s]\n"
     ]
    },
    {
     "name": "stdout",
     "output_type": "stream",
     "text": [
      "epoch 25: train loss :: 0.014, dev loss :: 0.009, time elapsed :: 0.285015344619751\n"
     ]
    },
    {
     "name": "stderr",
     "output_type": "stream",
     "text": [
      "train-26: 100%|██████████| 63/63 [00:00<00:00, 254.74it/s]\n",
      "eval: 100%|██████████| 63/63 [00:00<00:00, 1167.52it/s]\n"
     ]
    },
    {
     "name": "stdout",
     "output_type": "stream",
     "text": [
      "epoch 26: train loss :: 0.013, dev loss :: 0.009, time elapsed :: 0.3082091808319092\n"
     ]
    },
    {
     "name": "stderr",
     "output_type": "stream",
     "text": [
      "train-27: 100%|██████████| 63/63 [00:00<00:00, 281.98it/s]\n",
      "eval: 100%|██████████| 63/63 [00:00<00:00, 1355.65it/s]\n"
     ]
    },
    {
     "name": "stdout",
     "output_type": "stream",
     "text": [
      "epoch 27: train loss :: 0.012, dev loss :: 0.009, time elapsed :: 0.27988648414611816\n"
     ]
    },
    {
     "name": "stderr",
     "output_type": "stream",
     "text": [
      "train-28: 100%|██████████| 63/63 [00:00<00:00, 289.00it/s]\n",
      "eval: 100%|██████████| 63/63 [00:00<00:00, 1145.59it/s]\n"
     ]
    },
    {
     "name": "stdout",
     "output_type": "stream",
     "text": [
      "epoch 28: train loss :: 0.012, dev loss :: 0.008, time elapsed :: 0.285001277923584\n"
     ]
    },
    {
     "name": "stderr",
     "output_type": "stream",
     "text": [
      "train-29: 100%|██████████| 63/63 [00:00<00:00, 297.18it/s]\n",
      "eval: 100%|██████████| 63/63 [00:00<00:00, 1112.22it/s]\n"
     ]
    },
    {
     "name": "stdout",
     "output_type": "stream",
     "text": [
      "epoch 29: train loss :: 0.012, dev loss :: 0.008, time elapsed :: 0.28166961669921875\n"
     ]
    },
    {
     "name": "stderr",
     "output_type": "stream",
     "text": [
      "train-30: 100%|██████████| 63/63 [00:00<00:00, 269.05it/s]\n",
      "eval: 100%|██████████| 63/63 [00:00<00:00, 1096.96it/s]\n"
     ]
    },
    {
     "name": "stdout",
     "output_type": "stream",
     "text": [
      "epoch 30: train loss :: 0.011, dev loss :: 0.008, time elapsed :: 0.30088019371032715\n"
     ]
    },
    {
     "name": "stderr",
     "output_type": "stream",
     "text": [
      "train-31: 100%|██████████| 63/63 [00:00<00:00, 296.01it/s]\n",
      "eval: 100%|██████████| 63/63 [00:00<00:00, 1285.76it/s]\n"
     ]
    },
    {
     "name": "stdout",
     "output_type": "stream",
     "text": [
      "epoch 31: train loss :: 0.011, dev loss :: 0.008, time elapsed :: 0.2687053680419922\n"
     ]
    },
    {
     "name": "stderr",
     "output_type": "stream",
     "text": [
      "train-32: 100%|██████████| 63/63 [00:00<00:00, 254.76it/s]\n",
      "eval: 100%|██████████| 63/63 [00:00<00:00, 1396.66it/s]\n"
     ]
    },
    {
     "name": "stdout",
     "output_type": "stream",
     "text": [
      "epoch 32: train loss :: 0.011, dev loss :: 0.008, time elapsed :: 0.30129122734069824\n"
     ]
    },
    {
     "name": "stderr",
     "output_type": "stream",
     "text": [
      "train-33: 100%|██████████| 63/63 [00:00<00:00, 281.71it/s]\n",
      "eval: 100%|██████████| 63/63 [00:00<00:00, 1211.67it/s]\n"
     ]
    },
    {
     "name": "stdout",
     "output_type": "stream",
     "text": [
      "epoch 33: train loss :: 0.011, dev loss :: 0.008, time elapsed :: 0.28663134574890137\n"
     ]
    },
    {
     "name": "stderr",
     "output_type": "stream",
     "text": [
      "train-34: 100%|██████████| 63/63 [00:00<00:00, 294.99it/s]\n",
      "eval: 100%|██████████| 63/63 [00:00<00:00, 1259.77it/s]\n"
     ]
    },
    {
     "name": "stdout",
     "output_type": "stream",
     "text": [
      "epoch 34: train loss :: 0.010, dev loss :: 0.008, time elapsed :: 0.2686915397644043\n"
     ]
    },
    {
     "name": "stderr",
     "output_type": "stream",
     "text": [
      "train-35: 100%|██████████| 63/63 [00:00<00:00, 300.88it/s]\n",
      "eval: 100%|██████████| 63/63 [00:00<00:00, 1199.06it/s]\n"
     ]
    },
    {
     "name": "stdout",
     "output_type": "stream",
     "text": [
      "epoch 35: train loss :: 0.010, dev loss :: 0.008, time elapsed :: 0.2729170322418213\n"
     ]
    },
    {
     "name": "stderr",
     "output_type": "stream",
     "text": [
      "train-36: 100%|██████████| 63/63 [00:00<00:00, 313.06it/s]\n",
      "eval: 100%|██████████| 63/63 [00:00<00:00, 1135.77it/s]\n"
     ]
    },
    {
     "name": "stdout",
     "output_type": "stream",
     "text": [
      "epoch 36: train loss :: 0.010, dev loss :: 0.008, time elapsed :: 0.2607133388519287\n"
     ]
    },
    {
     "name": "stderr",
     "output_type": "stream",
     "text": [
      "train-37: 100%|██████████| 63/63 [00:00<00:00, 298.88it/s]\n",
      "eval: 100%|██████████| 63/63 [00:00<00:00, 1428.50it/s]\n"
     ]
    },
    {
     "name": "stdout",
     "output_type": "stream",
     "text": [
      "epoch 37: train loss :: 0.010, dev loss :: 0.008, time elapsed :: 0.257892370223999\n"
     ]
    },
    {
     "name": "stderr",
     "output_type": "stream",
     "text": [
      "train-38: 100%|██████████| 63/63 [00:00<00:00, 250.26it/s]\n",
      "eval: 100%|██████████| 63/63 [00:00<00:00, 1340.77it/s]\n"
     ]
    },
    {
     "name": "stdout",
     "output_type": "stream",
     "text": [
      "epoch 38: train loss :: 0.010, dev loss :: 0.008, time elapsed :: 0.30565929412841797\n"
     ]
    },
    {
     "name": "stderr",
     "output_type": "stream",
     "text": [
      "train-39: 100%|██████████| 63/63 [00:00<00:00, 281.87it/s]\n",
      "eval: 100%|██████████| 63/63 [00:00<00:00, 1368.53it/s]\n"
     ]
    },
    {
     "name": "stdout",
     "output_type": "stream",
     "text": [
      "epoch 39: train loss :: 0.010, dev loss :: 0.008, time elapsed :: 0.28049182891845703\n"
     ]
    },
    {
     "name": "stderr",
     "output_type": "stream",
     "text": [
      "train-40: 100%|██████████| 63/63 [00:00<00:00, 290.35it/s]\n",
      "eval: 100%|██████████| 63/63 [00:00<00:00, 1400.50it/s]\n"
     ]
    },
    {
     "name": "stdout",
     "output_type": "stream",
     "text": [
      "epoch 40: train loss :: 0.010, dev loss :: 0.007, time elapsed :: 0.26901721954345703\n"
     ]
    },
    {
     "name": "stderr",
     "output_type": "stream",
     "text": [
      "train-41: 100%|██████████| 63/63 [00:00<00:00, 287.42it/s]\n",
      "eval: 100%|██████████| 63/63 [00:00<00:00, 1288.40it/s]\n"
     ]
    },
    {
     "name": "stdout",
     "output_type": "stream",
     "text": [
      "epoch 41: train loss :: 0.010, dev loss :: 0.007, time elapsed :: 0.279116153717041\n"
     ]
    },
    {
     "name": "stderr",
     "output_type": "stream",
     "text": [
      "train-42: 100%|██████████| 63/63 [00:00<00:00, 275.48it/s]\n",
      "eval: 100%|██████████| 63/63 [00:00<00:00, 1399.98it/s]\n"
     ]
    },
    {
     "name": "stdout",
     "output_type": "stream",
     "text": [
      "epoch 42: train loss :: 0.010, dev loss :: 0.007, time elapsed :: 0.28159022331237793\n"
     ]
    },
    {
     "name": "stderr",
     "output_type": "stream",
     "text": [
      "train-43: 100%|██████████| 63/63 [00:00<00:00, 299.13it/s]\n",
      "eval: 100%|██████████| 63/63 [00:00<00:00, 1168.93it/s]\n"
     ]
    },
    {
     "name": "stdout",
     "output_type": "stream",
     "text": [
      "epoch 43: train loss :: 0.010, dev loss :: 0.008, time elapsed :: 0.2695043087005615\n"
     ]
    },
    {
     "name": "stderr",
     "output_type": "stream",
     "text": [
      "train-44: 100%|██████████| 63/63 [00:00<00:00, 288.08it/s]\n",
      "eval: 100%|██████████| 63/63 [00:00<00:00, 1274.03it/s]\n"
     ]
    },
    {
     "name": "stdout",
     "output_type": "stream",
     "text": [
      "epoch 44: train loss :: 0.010, dev loss :: 0.007, time elapsed :: 0.27310824394226074\n"
     ]
    },
    {
     "name": "stderr",
     "output_type": "stream",
     "text": [
      "train-45: 100%|██████████| 63/63 [00:00<00:00, 273.81it/s]\n",
      "eval: 100%|██████████| 63/63 [00:00<00:00, 1402.96it/s]\n"
     ]
    },
    {
     "name": "stdout",
     "output_type": "stream",
     "text": [
      "epoch 45: train loss :: 0.010, dev loss :: 0.007, time elapsed :: 0.2790544033050537\n"
     ]
    },
    {
     "name": "stderr",
     "output_type": "stream",
     "text": [
      "train-46: 100%|██████████| 63/63 [00:00<00:00, 294.48it/s]\n",
      "eval: 100%|██████████| 63/63 [00:00<00:00, 1343.47it/s]\n"
     ]
    },
    {
     "name": "stdout",
     "output_type": "stream",
     "text": [
      "epoch 46: train loss :: 0.010, dev loss :: 0.007, time elapsed :: 0.2638216018676758\n"
     ]
    },
    {
     "name": "stderr",
     "output_type": "stream",
     "text": [
      "train-47: 100%|██████████| 63/63 [00:00<00:00, 308.55it/s]\n",
      "eval: 100%|██████████| 63/63 [00:00<00:00, 1399.83it/s]\n"
     ]
    },
    {
     "name": "stdout",
     "output_type": "stream",
     "text": [
      "epoch 47: train loss :: 0.010, dev loss :: 0.007, time elapsed :: 0.2670159339904785\n"
     ]
    },
    {
     "name": "stderr",
     "output_type": "stream",
     "text": [
      "train-48: 100%|██████████| 63/63 [00:00<00:00, 276.95it/s]\n",
      "eval: 100%|██████████| 63/63 [00:00<00:00, 1166.59it/s]\n"
     ]
    },
    {
     "name": "stdout",
     "output_type": "stream",
     "text": [
      "epoch 48: train loss :: 0.010, dev loss :: 0.007, time elapsed :: 0.28548431396484375\n"
     ]
    },
    {
     "name": "stderr",
     "output_type": "stream",
     "text": [
      "train-49: 100%|██████████| 63/63 [00:00<00:00, 273.02it/s]\n",
      "eval: 100%|██████████| 63/63 [00:00<00:00, 1396.51it/s]\n"
     ]
    },
    {
     "name": "stdout",
     "output_type": "stream",
     "text": [
      "epoch 49: train loss :: 0.009, dev loss :: 0.007, time elapsed :: 0.2807502746582031\n"
     ]
    },
    {
     "name": "stderr",
     "output_type": "stream",
     "text": [
      "train-50: 100%|██████████| 63/63 [00:00<00:00, 286.42it/s]\n",
      "eval: 100%|██████████| 63/63 [00:00<00:00, 1431.57it/s]\n"
     ]
    },
    {
     "name": "stdout",
     "output_type": "stream",
     "text": [
      "epoch 50: train loss :: 0.009, dev loss :: 0.007, time elapsed :: 0.2700042724609375\n"
     ]
    },
    {
     "name": "stderr",
     "output_type": "stream",
     "text": [
      "train-51: 100%|██████████| 63/63 [00:00<00:00, 261.63it/s]\n",
      "eval: 100%|██████████| 63/63 [00:00<00:00, 1465.61it/s]\n"
     ]
    },
    {
     "name": "stdout",
     "output_type": "stream",
     "text": [
      "epoch 51: train loss :: 0.009, dev loss :: 0.007, time elapsed :: 0.2887406349182129\n"
     ]
    },
    {
     "name": "stderr",
     "output_type": "stream",
     "text": [
      "train-52: 100%|██████████| 63/63 [00:00<00:00, 301.34it/s]\n",
      "eval: 100%|██████████| 63/63 [00:00<00:00, 1459.73it/s]\n"
     ]
    },
    {
     "name": "stdout",
     "output_type": "stream",
     "text": [
      "epoch 52: train loss :: 0.009, dev loss :: 0.007, time elapsed :: 0.25808048248291016\n"
     ]
    },
    {
     "name": "stderr",
     "output_type": "stream",
     "text": [
      "train-53: 100%|██████████| 63/63 [00:00<00:00, 296.84it/s]\n",
      "eval: 100%|██████████| 63/63 [00:00<00:00, 1312.88it/s]\n"
     ]
    },
    {
     "name": "stdout",
     "output_type": "stream",
     "text": [
      "epoch 53: train loss :: 0.009, dev loss :: 0.007, time elapsed :: 0.2642345428466797\n"
     ]
    },
    {
     "name": "stderr",
     "output_type": "stream",
     "text": [
      "train-54: 100%|██████████| 63/63 [00:00<00:00, 274.29it/s]\n",
      "eval: 100%|██████████| 63/63 [00:00<00:00, 1431.85it/s]\n"
     ]
    },
    {
     "name": "stdout",
     "output_type": "stream",
     "text": [
      "epoch 54: train loss :: 0.009, dev loss :: 0.007, time elapsed :: 0.28067898750305176\n"
     ]
    },
    {
     "name": "stderr",
     "output_type": "stream",
     "text": [
      "train-55: 100%|██████████| 63/63 [00:00<00:00, 294.26it/s]\n",
      "eval: 100%|██████████| 63/63 [00:00<00:00, 1259.68it/s]\n"
     ]
    },
    {
     "name": "stdout",
     "output_type": "stream",
     "text": [
      "epoch 55: train loss :: 0.009, dev loss :: 0.007, time elapsed :: 0.2690854072570801\n"
     ]
    },
    {
     "name": "stderr",
     "output_type": "stream",
     "text": [
      "train-56: 100%|██████████| 63/63 [00:00<00:00, 282.13it/s]\n",
      "eval: 100%|██████████| 63/63 [00:00<00:00, 1167.84it/s]\n"
     ]
    },
    {
     "name": "stdout",
     "output_type": "stream",
     "text": [
      "epoch 56: train loss :: 0.009, dev loss :: 0.007, time elapsed :: 0.28122878074645996\n"
     ]
    },
    {
     "name": "stderr",
     "output_type": "stream",
     "text": [
      "train-57: 100%|██████████| 63/63 [00:00<00:00, 257.37it/s]\n",
      "eval: 100%|██████████| 63/63 [00:00<00:00, 1287.52it/s]\n"
     ]
    },
    {
     "name": "stdout",
     "output_type": "stream",
     "text": [
      "epoch 57: train loss :: 0.009, dev loss :: 0.007, time elapsed :: 0.305894136428833\n"
     ]
    },
    {
     "name": "stderr",
     "output_type": "stream",
     "text": [
      "train-58: 100%|██████████| 63/63 [00:00<00:00, 270.76it/s]\n",
      "eval: 100%|██████████| 63/63 [00:00<00:00, 1465.11it/s]\n"
     ]
    },
    {
     "name": "stdout",
     "output_type": "stream",
     "text": [
      "epoch 58: train loss :: 0.009, dev loss :: 0.007, time elapsed :: 0.2817678451538086\n"
     ]
    },
    {
     "name": "stderr",
     "output_type": "stream",
     "text": [
      "train-59: 100%|██████████| 63/63 [00:00<00:00, 235.86it/s]\n",
      "eval: 100%|██████████| 63/63 [00:00<00:00, 1532.44it/s]\n"
     ]
    },
    {
     "name": "stdout",
     "output_type": "stream",
     "text": [
      "epoch 59: train loss :: 0.009, dev loss :: 0.007, time elapsed :: 0.311962366104126\n"
     ]
    },
    {
     "name": "stderr",
     "output_type": "stream",
     "text": [
      "train-60: 100%|██████████| 63/63 [00:00<00:00, 310.41it/s]\n",
      "eval: 100%|██████████| 63/63 [00:00<00:00, 1330.59it/s]\n"
     ]
    },
    {
     "name": "stdout",
     "output_type": "stream",
     "text": [
      "epoch 60: train loss :: 0.009, dev loss :: 0.007, time elapsed :: 0.25322747230529785\n"
     ]
    },
    {
     "name": "stderr",
     "output_type": "stream",
     "text": [
      "train-61: 100%|██████████| 63/63 [00:00<00:00, 306.70it/s]\n",
      "eval: 100%|██████████| 63/63 [00:00<00:00, 1188.46it/s]\n"
     ]
    },
    {
     "name": "stdout",
     "output_type": "stream",
     "text": [
      "epoch 61: train loss :: 0.009, dev loss :: 0.007, time elapsed :: 0.2625720500946045\n"
     ]
    },
    {
     "name": "stderr",
     "output_type": "stream",
     "text": [
      "train-62: 100%|██████████| 63/63 [00:00<00:00, 249.99it/s]\n",
      "eval: 100%|██████████| 63/63 [00:00<00:00, 1288.74it/s]\n"
     ]
    },
    {
     "name": "stdout",
     "output_type": "stream",
     "text": [
      "epoch 62: train loss :: 0.009, dev loss :: 0.007, time elapsed :: 0.30608582496643066\n"
     ]
    },
    {
     "name": "stderr",
     "output_type": "stream",
     "text": [
      "train-63: 100%|██████████| 63/63 [00:00<00:00, 263.06it/s]\n",
      "eval: 100%|██████████| 63/63 [00:00<00:00, 1400.14it/s]\n"
     ]
    },
    {
     "name": "stdout",
     "output_type": "stream",
     "text": [
      "epoch 63: train loss :: 0.009, dev loss :: 0.007, time elapsed :: 0.28841686248779297\n"
     ]
    },
    {
     "name": "stderr",
     "output_type": "stream",
     "text": [
      "train-64: 100%|██████████| 63/63 [00:00<00:00, 291.35it/s]\n",
      "eval: 100%|██████████| 63/63 [00:00<00:00, 1285.49it/s]\n"
     ]
    },
    {
     "name": "stdout",
     "output_type": "stream",
     "text": [
      "epoch 64: train loss :: 0.009, dev loss :: 0.007, time elapsed :: 0.2682487964630127\n"
     ]
    },
    {
     "name": "stderr",
     "output_type": "stream",
     "text": [
      "train-65: 100%|██████████| 63/63 [00:00<00:00, 237.98it/s]\n",
      "eval: 100%|██████████| 63/63 [00:00<00:00, 1428.01it/s]\n"
     ]
    },
    {
     "name": "stdout",
     "output_type": "stream",
     "text": [
      "epoch 65: train loss :: 0.009, dev loss :: 0.007, time elapsed :: 0.31362414360046387\n"
     ]
    },
    {
     "name": "stderr",
     "output_type": "stream",
     "text": [
      "train-66: 100%|██████████| 63/63 [00:00<00:00, 261.82it/s]\n",
      "eval: 100%|██████████| 63/63 [00:00<00:00, 1237.80it/s]\n"
     ]
    },
    {
     "name": "stdout",
     "output_type": "stream",
     "text": [
      "epoch 66: train loss :: 0.009, dev loss :: 0.007, time elapsed :: 0.2944786548614502\n"
     ]
    },
    {
     "name": "stderr",
     "output_type": "stream",
     "text": [
      "train-67: 100%|██████████| 63/63 [00:00<00:00, 252.92it/s]\n",
      "eval: 100%|██████████| 63/63 [00:00<00:00, 1340.46it/s]\n"
     ]
    },
    {
     "name": "stdout",
     "output_type": "stream",
     "text": [
      "epoch 67: train loss :: 0.009, dev loss :: 0.007, time elapsed :: 0.30411314964294434\n"
     ]
    },
    {
     "name": "stderr",
     "output_type": "stream",
     "text": [
      "train-68: 100%|██████████| 63/63 [00:00<00:00, 286.39it/s]\n",
      "eval: 100%|██████████| 63/63 [00:00<00:00, 1125.19it/s]\n"
     ]
    },
    {
     "name": "stdout",
     "output_type": "stream",
     "text": [
      "epoch 68: train loss :: 0.009, dev loss :: 0.007, time elapsed :: 0.2789802551269531\n"
     ]
    },
    {
     "name": "stderr",
     "output_type": "stream",
     "text": [
      "train-69: 100%|██████████| 63/63 [00:00<00:00, 289.01it/s]\n",
      "eval: 100%|██████████| 63/63 [00:00<00:00, 1235.35it/s]\n"
     ]
    },
    {
     "name": "stdout",
     "output_type": "stream",
     "text": [
      "epoch 69: train loss :: 0.009, dev loss :: 0.007, time elapsed :: 0.2759859561920166\n"
     ]
    },
    {
     "name": "stderr",
     "output_type": "stream",
     "text": [
      "train-70: 100%|██████████| 63/63 [00:00<00:00, 239.65it/s]\n",
      "eval: 100%|██████████| 63/63 [00:00<00:00, 1354.44it/s]\n"
     ]
    },
    {
     "name": "stdout",
     "output_type": "stream",
     "text": [
      "epoch 70: train loss :: 0.009, dev loss :: 0.007, time elapsed :: 0.3225259780883789\n"
     ]
    },
    {
     "name": "stderr",
     "output_type": "stream",
     "text": [
      "train-71: 100%|██████████| 63/63 [00:00<00:00, 278.70it/s]\n",
      "eval: 100%|██████████| 63/63 [00:00<00:00, 1147.38it/s]\n"
     ]
    },
    {
     "name": "stdout",
     "output_type": "stream",
     "text": [
      "epoch 71: train loss :: 0.009, dev loss :: 0.007, time elapsed :: 0.28396034240722656\n"
     ]
    },
    {
     "name": "stderr",
     "output_type": "stream",
     "text": [
      "train-72: 100%|██████████| 63/63 [00:00<00:00, 275.49it/s]\n",
      "eval: 100%|██████████| 63/63 [00:00<00:00, 1311.42it/s]\n"
     ]
    },
    {
     "name": "stdout",
     "output_type": "stream",
     "text": [
      "epoch 72: train loss :: 0.009, dev loss :: 0.007, time elapsed :: 0.28267574310302734\n"
     ]
    },
    {
     "name": "stderr",
     "output_type": "stream",
     "text": [
      "train-73: 100%|██████████| 63/63 [00:00<00:00, 278.09it/s]\n",
      "eval: 100%|██████████| 63/63 [00:00<00:00, 1373.19it/s]\n"
     ]
    },
    {
     "name": "stdout",
     "output_type": "stream",
     "text": [
      "epoch 73: train loss :: 0.009, dev loss :: 0.007, time elapsed :: 0.27764463424682617\n"
     ]
    },
    {
     "name": "stderr",
     "output_type": "stream",
     "text": [
      "train-74: 100%|██████████| 63/63 [00:00<00:00, 291.07it/s]\n",
      "eval: 100%|██████████| 63/63 [00:00<00:00, 1369.68it/s]\n"
     ]
    },
    {
     "name": "stdout",
     "output_type": "stream",
     "text": [
      "epoch 74: train loss :: 0.009, dev loss :: 0.007, time elapsed :: 0.26754069328308105\n"
     ]
    },
    {
     "name": "stderr",
     "output_type": "stream",
     "text": [
      "train-75: 100%|██████████| 63/63 [00:00<00:00, 278.05it/s]\n",
      "eval: 100%|██████████| 63/63 [00:00<00:00, 1431.36it/s]\n"
     ]
    },
    {
     "name": "stdout",
     "output_type": "stream",
     "text": [
      "epoch 75: train loss :: 0.009, dev loss :: 0.007, time elapsed :: 0.27360081672668457\n"
     ]
    },
    {
     "name": "stderr",
     "output_type": "stream",
     "text": [
      "train-76: 100%|██████████| 63/63 [00:00<00:00, 263.70it/s]\n",
      "eval: 100%|██████████| 63/63 [00:00<00:00, 1464.99it/s]\n"
     ]
    },
    {
     "name": "stdout",
     "output_type": "stream",
     "text": [
      "epoch 76: train loss :: 0.009, dev loss :: 0.007, time elapsed :: 0.2848985195159912\n"
     ]
    },
    {
     "name": "stderr",
     "output_type": "stream",
     "text": [
      "train-77: 100%|██████████| 63/63 [00:00<00:00, 297.02it/s]\n",
      "eval: 100%|██████████| 63/63 [00:00<00:00, 1340.45it/s]\n"
     ]
    },
    {
     "name": "stdout",
     "output_type": "stream",
     "text": [
      "epoch 77: train loss :: 0.009, dev loss :: 0.007, time elapsed :: 0.2671163082122803\n"
     ]
    },
    {
     "name": "stderr",
     "output_type": "stream",
     "text": [
      "train-78: 100%|██████████| 63/63 [00:00<00:00, 271.59it/s]\n",
      "eval: 100%|██████████| 63/63 [00:00<00:00, 1312.09it/s]\n"
     ]
    },
    {
     "name": "stdout",
     "output_type": "stream",
     "text": [
      "epoch 78: train loss :: 0.009, dev loss :: 0.007, time elapsed :: 0.2849712371826172\n"
     ]
    },
    {
     "name": "stderr",
     "output_type": "stream",
     "text": [
      "train-79: 100%|██████████| 63/63 [00:00<00:00, 285.01it/s]\n",
      "eval: 100%|██████████| 63/63 [00:00<00:00, 1341.62it/s]\n"
     ]
    },
    {
     "name": "stdout",
     "output_type": "stream",
     "text": [
      "epoch 79: train loss :: 0.009, dev loss :: 0.007, time elapsed :: 0.2710304260253906\n"
     ]
    },
    {
     "name": "stderr",
     "output_type": "stream",
     "text": [
      "train-80: 100%|██████████| 63/63 [00:00<00:00, 278.67it/s]\n",
      "eval: 100%|██████████| 63/63 [00:00<00:00, 1369.61it/s]\n"
     ]
    },
    {
     "name": "stdout",
     "output_type": "stream",
     "text": [
      "epoch 80: train loss :: 0.009, dev loss :: 0.007, time elapsed :: 0.2769956588745117\n"
     ]
    },
    {
     "name": "stderr",
     "output_type": "stream",
     "text": [
      "train-81: 100%|██████████| 63/63 [00:00<00:00, 241.24it/s]\n",
      "eval: 100%|██████████| 63/63 [00:00<00:00, 1049.69it/s]\n"
     ]
    },
    {
     "name": "stdout",
     "output_type": "stream",
     "text": [
      "epoch 81: train loss :: 0.009, dev loss :: 0.007, time elapsed :: 0.3250596523284912\n"
     ]
    },
    {
     "name": "stderr",
     "output_type": "stream",
     "text": [
      "train-82: 100%|██████████| 63/63 [00:00<00:00, 307.94it/s]\n",
      "eval: 100%|██████████| 63/63 [00:00<00:00, 1464.70it/s]\n"
     ]
    },
    {
     "name": "stdout",
     "output_type": "stream",
     "text": [
      "epoch 82: train loss :: 0.009, dev loss :: 0.007, time elapsed :: 0.25548672676086426\n"
     ]
    },
    {
     "name": "stderr",
     "output_type": "stream",
     "text": [
      "train-83: 100%|██████████| 63/63 [00:00<00:00, 262.24it/s]\n",
      "eval: 100%|██████████| 63/63 [00:00<00:00, 1465.16it/s]\n"
     ]
    },
    {
     "name": "stdout",
     "output_type": "stream",
     "text": [
      "epoch 83: train loss :: 0.009, dev loss :: 0.007, time elapsed :: 0.29014015197753906\n"
     ]
    },
    {
     "name": "stderr",
     "output_type": "stream",
     "text": [
      "train-84: 100%|██████████| 63/63 [00:00<00:00, 279.98it/s]\n",
      "eval: 100%|██████████| 63/63 [00:00<00:00, 1105.00it/s]\n"
     ]
    },
    {
     "name": "stdout",
     "output_type": "stream",
     "text": [
      "epoch 84: train loss :: 0.009, dev loss :: 0.007, time elapsed :: 0.2850189208984375\n"
     ]
    },
    {
     "name": "stderr",
     "output_type": "stream",
     "text": [
      "train-85: 100%|██████████| 63/63 [00:00<00:00, 280.61it/s]\n",
      "eval: 100%|██████████| 63/63 [00:00<00:00, 1465.14it/s]\n"
     ]
    },
    {
     "name": "stdout",
     "output_type": "stream",
     "text": [
      "epoch 85: train loss :: 0.009, dev loss :: 0.007, time elapsed :: 0.27349424362182617\n"
     ]
    },
    {
     "name": "stderr",
     "output_type": "stream",
     "text": [
      "train-86: 100%|██████████| 63/63 [00:00<00:00, 300.54it/s]\n",
      "eval: 100%|██████████| 63/63 [00:00<00:00, 1499.79it/s]\n"
     ]
    },
    {
     "name": "stdout",
     "output_type": "stream",
     "text": [
      "epoch 86: train loss :: 0.009, dev loss :: 0.007, time elapsed :: 0.25552916526794434\n"
     ]
    },
    {
     "name": "stderr",
     "output_type": "stream",
     "text": [
      "train-87: 100%|██████████| 63/63 [00:00<00:00, 295.91it/s]\n",
      "eval: 100%|██████████| 63/63 [00:00<00:00, 893.32it/s]\n"
     ]
    },
    {
     "name": "stdout",
     "output_type": "stream",
     "text": [
      "epoch 87: train loss :: 0.009, dev loss :: 0.007, time elapsed :: 0.2870469093322754\n"
     ]
    },
    {
     "name": "stderr",
     "output_type": "stream",
     "text": [
      "train-88: 100%|██████████| 63/63 [00:00<00:00, 307.00it/s]\n",
      "eval: 100%|██████████| 63/63 [00:00<00:00, 1431.32it/s]\n"
     ]
    },
    {
     "name": "stdout",
     "output_type": "stream",
     "text": [
      "epoch 88: train loss :: 0.009, dev loss :: 0.007, time elapsed :: 0.2536318302154541\n"
     ]
    },
    {
     "name": "stderr",
     "output_type": "stream",
     "text": [
      "train-89: 100%|██████████| 63/63 [00:00<00:00, 287.65it/s]\n",
      "eval: 100%|██████████| 63/63 [00:00<00:00, 1315.44it/s]\n"
     ]
    },
    {
     "name": "stdout",
     "output_type": "stream",
     "text": [
      "epoch 89: train loss :: 0.009, dev loss :: 0.007, time elapsed :: 0.27498531341552734\n"
     ]
    },
    {
     "name": "stderr",
     "output_type": "stream",
     "text": [
      "train-90: 100%|██████████| 63/63 [00:00<00:00, 252.45it/s]\n",
      "eval: 100%|██████████| 63/63 [00:00<00:00, 1289.70it/s]\n"
     ]
    },
    {
     "name": "stdout",
     "output_type": "stream",
     "text": [
      "epoch 90: train loss :: 0.009, dev loss :: 0.007, time elapsed :: 0.30140233039855957\n"
     ]
    },
    {
     "name": "stderr",
     "output_type": "stream",
     "text": [
      "train-91: 100%|██████████| 63/63 [00:00<00:00, 280.60it/s]\n",
      "eval: 100%|██████████| 63/63 [00:00<00:00, 1328.65it/s]\n"
     ]
    },
    {
     "name": "stdout",
     "output_type": "stream",
     "text": [
      "epoch 91: train loss :: 0.009, dev loss :: 0.007, time elapsed :: 0.27694249153137207\n"
     ]
    },
    {
     "name": "stderr",
     "output_type": "stream",
     "text": [
      "train-92: 100%|██████████| 63/63 [00:00<00:00, 287.90it/s]\n",
      "eval: 100%|██████████| 63/63 [00:00<00:00, 1285.43it/s]\n"
     ]
    },
    {
     "name": "stdout",
     "output_type": "stream",
     "text": [
      "epoch 92: train loss :: 0.009, dev loss :: 0.007, time elapsed :: 0.2719104290008545\n"
     ]
    },
    {
     "name": "stderr",
     "output_type": "stream",
     "text": [
      "train-93: 100%|██████████| 63/63 [00:00<00:00, 264.66it/s]\n",
      "eval: 100%|██████████| 63/63 [00:00<00:00, 1400.10it/s]\n"
     ]
    },
    {
     "name": "stdout",
     "output_type": "stream",
     "text": [
      "epoch 93: train loss :: 0.009, dev loss :: 0.007, time elapsed :: 0.28605079650878906\n"
     ]
    },
    {
     "name": "stderr",
     "output_type": "stream",
     "text": [
      "train-94: 100%|██████████| 63/63 [00:00<00:00, 262.29it/s]\n",
      "eval: 100%|██████████| 63/63 [00:00<00:00, 1431.79it/s]\n"
     ]
    },
    {
     "name": "stdout",
     "output_type": "stream",
     "text": [
      "epoch 94: train loss :: 0.009, dev loss :: 0.007, time elapsed :: 0.2881917953491211\n"
     ]
    },
    {
     "name": "stderr",
     "output_type": "stream",
     "text": [
      "train-95: 100%|██████████| 63/63 [00:00<00:00, 286.59it/s]\n",
      "eval: 100%|██████████| 63/63 [00:00<00:00, 1342.91it/s]\n"
     ]
    },
    {
     "name": "stdout",
     "output_type": "stream",
     "text": [
      "epoch 95: train loss :: 0.009, dev loss :: 0.007, time elapsed :: 0.2687265872955322\n"
     ]
    },
    {
     "name": "stderr",
     "output_type": "stream",
     "text": [
      "train-96: 100%|██████████| 63/63 [00:00<00:00, 273.91it/s]\n",
      "eval: 100%|██████████| 63/63 [00:00<00:00, 1249.30it/s]\n"
     ]
    },
    {
     "name": "stdout",
     "output_type": "stream",
     "text": [
      "epoch 96: train loss :: 0.009, dev loss :: 0.007, time elapsed :: 0.2845170497894287\n"
     ]
    },
    {
     "name": "stderr",
     "output_type": "stream",
     "text": [
      "train-97: 100%|██████████| 63/63 [00:00<00:00, 302.44it/s]\n",
      "eval: 100%|██████████| 63/63 [00:00<00:00, 1431.80it/s]\n"
     ]
    },
    {
     "name": "stdout",
     "output_type": "stream",
     "text": [
      "epoch 97: train loss :: 0.009, dev loss :: 0.007, time elapsed :: 0.2572903633117676\n"
     ]
    },
    {
     "name": "stderr",
     "output_type": "stream",
     "text": [
      "train-98: 100%|██████████| 63/63 [00:00<00:00, 246.09it/s]\n",
      "eval: 100%|██████████| 63/63 [00:00<00:00, 1235.25it/s]\n"
     ]
    },
    {
     "name": "stdout",
     "output_type": "stream",
     "text": [
      "epoch 98: train loss :: 0.009, dev loss :: 0.007, time elapsed :: 0.3100016117095947\n"
     ]
    },
    {
     "name": "stderr",
     "output_type": "stream",
     "text": [
      "train-99: 100%|██████████| 63/63 [00:00<00:00, 275.11it/s]\n",
      "eval: 100%|██████████| 63/63 [00:00<00:00, 1065.22it/s]"
     ]
    },
    {
     "name": "stdout",
     "output_type": "stream",
     "text": [
      "epoch 99: train loss :: 0.009, dev loss :: 0.007, time elapsed :: 0.2941725254058838\n",
      "training finished, total time :: 29.24465560913086\n"
     ]
    },
    {
     "name": "stderr",
     "output_type": "stream",
     "text": [
      "\n"
     ]
    }
   ],
   "source": [
    "train(model_dense, train_dataloader, valid_dataloader, epochs=100, model_dir=\"test\", file_name=\"dense_vae.pt\")"
   ]
  },
  {
   "cell_type": "code",
   "execution_count": 7,
   "metadata": {},
   "outputs": [
    {
     "name": "stderr",
     "output_type": "stream",
     "text": [
      "eval: 100%|██████████| 63/63 [00:00<00:00, 1230.36it/s]\n",
      "eval: 100%|██████████| 34/34 [00:00<00:00, 999.43it/s]"
     ]
    },
    {
     "name": "stdout",
     "output_type": "stream",
     "text": [
      "dev loss: 0.007, test_loss: 0.045\n"
     ]
    },
    {
     "name": "stderr",
     "output_type": "stream",
     "text": [
      "\n"
     ]
    }
   ],
   "source": [
    "test(model_dense, valid_dataloader, test_dataloader, \"test/dense_vae.pt\")"
   ]
  },
  {
   "cell_type": "code",
   "execution_count": 8,
   "metadata": {},
   "outputs": [
    {
     "data": {
      "image/png": "[encoded data removed]",
      "text/plain": [
       "<Figure size 640x480 with 1 Axes>"
      ]
     },
     "metadata": {},
     "output_type": "display_data"
    }
   ],
   "source": [
    "x = torch.from_numpy(data[10].reshape(1, 5, 5)).float().to(model_dense.device)\n",
    "y = model_dense.forward(x)[0].detach().cpu().numpy().reshape((5,5))\n",
    "plot_surface(data[10], y)"
   ]
  },
  {
   "attachments": {},
   "cell_type": "markdown",
   "metadata": {},
   "source": [
    "# Conv 2D VAE"
   ]
  },
  {
   "cell_type": "code",
   "execution_count": 9,
   "metadata": {},
   "outputs": [
    {
     "name": "stdout",
     "output_type": "stream",
     "text": [
      "VAEConv2D(\n",
      "  (encoder): Conv2DEncoder(\n",
      "    (encoder_layers): Sequential(\n",
      "      (enc_conv_0): Conv2d(1, 50, kernel_size=(3, 3), stride=(2, 2), padding=(3, 3))\n",
      "      (enc_activation_0): ReLU()\n",
      "      (enc_conv_1): Conv2d(50, 100, kernel_size=(3, 3), stride=(2, 2), padding=(3, 3))\n",
      "      (enc_activation_1): ReLU()\n",
      "      (flatten): Flatten(start_dim=1, end_dim=-1)\n",
      "    )\n",
      "    (z_mean_layer): Linear(in_features=2500, out_features=10, bias=True)\n",
      "    (z_log_var_layer): Linear(in_features=2500, out_features=10, bias=True)\n",
      "  )\n",
      "  (decoder): Conv2DDecoder(\n",
      "    (decoder_input): Linear(in_features=10, out_features=2500, bias=True)\n",
      "    (decoder_layers): Sequential(\n",
      "      (dec_deconv_0): ConvTranspose2d(100, 50, kernel_size=(3, 3), stride=(2, 2), padding=(3, 3))\n",
      "      (dec_activation_0): ReLU()\n",
      "      (dec_final): ConvTranspose2d(50, 50, kernel_size=(3, 3), stride=(2, 2), padding=(3, 3))\n",
      "      (dec_final_activation): ReLU()\n",
      "      (dec_output): Conv2d(50, 1, kernel_size=(3, 3), stride=(1, 1), padding=same)\n",
      "    )\n",
      "  )\n",
      ")\n"
     ]
    }
   ],
   "source": [
    "config = {\n",
    "    \"seq_len\": 1, \n",
    "    \"feat_dim\": (5, 5),\n",
    "    \"latent_dim\": 10,\n",
    "    \"device\": \"cuda\",\n",
    "    \"kl_weight\": 1.0,\n",
    "    \"hidden\": [50, 100],\n",
    "}\n",
    "model_conv = VAEConv2D(config)\n",
    "print(model_conv)"
   ]
  },
  {
   "cell_type": "code",
   "execution_count": 10,
   "metadata": {},
   "outputs": [
    {
     "name": "stderr",
     "output_type": "stream",
     "text": [
      "train-0: 100%|██████████| 63/63 [00:01<00:00, 62.86it/s]\n",
      "eval: 100%|██████████| 63/63 [00:00<00:00, 617.57it/s]\n"
     ]
    },
    {
     "name": "stdout",
     "output_type": "stream",
     "text": [
      "epoch 0: train loss :: 0.032, dev loss :: 0.019, time elapsed :: 1.1192951202392578\n"
     ]
    },
    {
     "name": "stderr",
     "output_type": "stream",
     "text": [
      "train-1: 100%|██████████| 63/63 [00:00<00:00, 195.04it/s]\n",
      "eval: 100%|██████████| 63/63 [00:00<00:00, 765.76it/s]\n"
     ]
    },
    {
     "name": "stdout",
     "output_type": "stream",
     "text": [
      "epoch 1: train loss :: 0.027, dev loss :: 0.015, time elapsed :: 0.41847896575927734\n"
     ]
    },
    {
     "name": "stderr",
     "output_type": "stream",
     "text": [
      "train-2: 100%|██████████| 63/63 [00:00<00:00, 145.01it/s]\n",
      "eval: 100%|██████████| 63/63 [00:00<00:00, 648.79it/s]\n"
     ]
    },
    {
     "name": "stdout",
     "output_type": "stream",
     "text": [
      "epoch 2: train loss :: 0.022, dev loss :: 0.012, time elapsed :: 0.5405728816986084\n"
     ]
    },
    {
     "name": "stderr",
     "output_type": "stream",
     "text": [
      "train-3: 100%|██████████| 63/63 [00:00<00:00, 126.88it/s]\n",
      "eval: 100%|██████████| 63/63 [00:00<00:00, 572.20it/s]\n"
     ]
    },
    {
     "name": "stdout",
     "output_type": "stream",
     "text": [
      "epoch 3: train loss :: 0.016, dev loss :: 0.009, time elapsed :: 0.6174271106719971\n"
     ]
    },
    {
     "name": "stderr",
     "output_type": "stream",
     "text": [
      "train-4: 100%|██████████| 63/63 [00:00<00:00, 130.09it/s]\n",
      "eval: 100%|██████████| 63/63 [00:00<00:00, 552.73it/s]\n"
     ]
    },
    {
     "name": "stdout",
     "output_type": "stream",
     "text": [
      "epoch 4: train loss :: 0.012, dev loss :: 0.007, time elapsed :: 0.6092891693115234\n"
     ]
    },
    {
     "name": "stderr",
     "output_type": "stream",
     "text": [
      "train-5: 100%|██████████| 63/63 [00:00<00:00, 140.82it/s]\n",
      "eval: 100%|██████████| 63/63 [00:00<00:00, 649.47it/s]\n"
     ]
    },
    {
     "name": "stdout",
     "output_type": "stream",
     "text": [
      "epoch 5: train loss :: 0.010, dev loss :: 0.007, time elapsed :: 0.55438232421875\n"
     ]
    },
    {
     "name": "stderr",
     "output_type": "stream",
     "text": [
      "train-6: 100%|██████████| 63/63 [00:00<00:00, 158.49it/s]\n",
      "eval: 100%|██████████| 63/63 [00:00<00:00, 663.21it/s]\n"
     ]
    },
    {
     "name": "stdout",
     "output_type": "stream",
     "text": [
      "epoch 6: train loss :: 0.009, dev loss :: 0.007, time elapsed :: 0.5005016326904297\n"
     ]
    },
    {
     "name": "stderr",
     "output_type": "stream",
     "text": [
      "train-7: 100%|██████████| 63/63 [00:00<00:00, 163.82it/s]\n",
      "eval: 100%|██████████| 63/63 [00:00<00:00, 700.12it/s]\n"
     ]
    },
    {
     "name": "stdout",
     "output_type": "stream",
     "text": [
      "epoch 7: train loss :: 0.009, dev loss :: 0.007, time elapsed :: 0.48453807830810547\n"
     ]
    },
    {
     "name": "stderr",
     "output_type": "stream",
     "text": [
      "train-8: 100%|██████████| 63/63 [00:00<00:00, 154.73it/s]\n",
      "eval: 100%|██████████| 63/63 [00:00<00:00, 643.41it/s]\n"
     ]
    },
    {
     "name": "stdout",
     "output_type": "stream",
     "text": [
      "epoch 8: train loss :: 0.009, dev loss :: 0.007, time elapsed :: 0.5131888389587402\n"
     ]
    },
    {
     "name": "stderr",
     "output_type": "stream",
     "text": [
      "train-9: 100%|██████████| 63/63 [00:00<00:00, 152.43it/s]\n",
      "eval: 100%|██████████| 63/63 [00:00<00:00, 665.93it/s]\n"
     ]
    },
    {
     "name": "stdout",
     "output_type": "stream",
     "text": [
      "epoch 9: train loss :: 0.009, dev loss :: 0.007, time elapsed :: 0.515899658203125\n"
     ]
    },
    {
     "name": "stderr",
     "output_type": "stream",
     "text": [
      "train-10: 100%|██████████| 63/63 [00:00<00:00, 145.44it/s]\n",
      "eval: 100%|██████████| 63/63 [00:00<00:00, 650.94it/s]\n"
     ]
    },
    {
     "name": "stdout",
     "output_type": "stream",
     "text": [
      "epoch 10: train loss :: 0.009, dev loss :: 0.007, time elapsed :: 0.5397799015045166\n"
     ]
    },
    {
     "name": "stderr",
     "output_type": "stream",
     "text": [
      "train-11: 100%|██████████| 63/63 [00:00<00:00, 152.74it/s]\n",
      "eval: 100%|██████████| 63/63 [00:00<00:00, 684.65it/s]\n"
     ]
    },
    {
     "name": "stdout",
     "output_type": "stream",
     "text": [
      "epoch 11: train loss :: 0.009, dev loss :: 0.007, time elapsed :: 0.5094699859619141\n"
     ]
    },
    {
     "name": "stderr",
     "output_type": "stream",
     "text": [
      "train-12: 100%|██████████| 63/63 [00:00<00:00, 136.86it/s]\n",
      "eval: 100%|██████████| 63/63 [00:00<00:00, 656.21it/s]\n"
     ]
    },
    {
     "name": "stdout",
     "output_type": "stream",
     "text": [
      "epoch 12: train loss :: 0.009, dev loss :: 0.007, time elapsed :: 0.5643215179443359\n"
     ]
    },
    {
     "name": "stderr",
     "output_type": "stream",
     "text": [
      "train-13: 100%|██████████| 63/63 [00:00<00:00, 138.80it/s]\n",
      "eval: 100%|██████████| 63/63 [00:00<00:00, 578.46it/s]\n"
     ]
    },
    {
     "name": "stdout",
     "output_type": "stream",
     "text": [
      "epoch 13: train loss :: 0.008, dev loss :: 0.007, time elapsed :: 0.5689022541046143\n"
     ]
    },
    {
     "name": "stderr",
     "output_type": "stream",
     "text": [
      "train-14: 100%|██████████| 63/63 [00:00<00:00, 148.77it/s]\n",
      "eval: 100%|██████████| 63/63 [00:00<00:00, 524.23it/s]\n"
     ]
    },
    {
     "name": "stdout",
     "output_type": "stream",
     "text": [
      "epoch 14: train loss :: 0.009, dev loss :: 0.007, time elapsed :: 0.5546455383300781\n"
     ]
    },
    {
     "name": "stderr",
     "output_type": "stream",
     "text": [
      "train-15: 100%|██████████| 63/63 [00:00<00:00, 138.15it/s]\n",
      "eval: 100%|██████████| 63/63 [00:00<00:00, 636.36it/s]\n"
     ]
    },
    {
     "name": "stdout",
     "output_type": "stream",
     "text": [
      "epoch 15: train loss :: 0.009, dev loss :: 0.007, time elapsed :: 0.5653603076934814\n"
     ]
    },
    {
     "name": "stderr",
     "output_type": "stream",
     "text": [
      "train-16: 100%|██████████| 63/63 [00:00<00:00, 135.27it/s]\n",
      "eval: 100%|██████████| 63/63 [00:00<00:00, 612.91it/s]\n"
     ]
    },
    {
     "name": "stdout",
     "output_type": "stream",
     "text": [
      "epoch 16: train loss :: 0.008, dev loss :: 0.007, time elapsed :: 0.5745143890380859\n"
     ]
    },
    {
     "name": "stderr",
     "output_type": "stream",
     "text": [
      "train-17: 100%|██████████| 63/63 [00:00<00:00, 135.97it/s]\n",
      "eval: 100%|██████████| 63/63 [00:00<00:00, 596.33it/s]\n"
     ]
    },
    {
     "name": "stdout",
     "output_type": "stream",
     "text": [
      "epoch 17: train loss :: 0.008, dev loss :: 0.007, time elapsed :: 0.5730128288269043\n"
     ]
    },
    {
     "name": "stderr",
     "output_type": "stream",
     "text": [
      "train-18: 100%|██████████| 63/63 [00:00<00:00, 172.81it/s]\n",
      "eval: 100%|██████████| 63/63 [00:00<00:00, 648.80it/s]\n"
     ]
    },
    {
     "name": "stdout",
     "output_type": "stream",
     "text": [
      "epoch 18: train loss :: 0.008, dev loss :: 0.007, time elapsed :: 0.47051358222961426\n"
     ]
    },
    {
     "name": "stderr",
     "output_type": "stream",
     "text": [
      "train-19: 100%|██████████| 63/63 [00:00<00:00, 194.64it/s]\n",
      "eval: 100%|██████████| 63/63 [00:00<00:00, 636.36it/s]"
     ]
    },
    {
     "name": "stdout",
     "output_type": "stream",
     "text": [
      "epoch 19: train loss :: 0.008, dev loss :: 0.007, time elapsed :: 0.42571568489074707\n",
      "training finished, total time :: 11.224768877029419\n"
     ]
    },
    {
     "name": "stderr",
     "output_type": "stream",
     "text": [
      "\n"
     ]
    }
   ],
   "source": [
    "train(model_conv, train_dataloader, valid_dataloader, epochs=20, model_dir=\"test\", file_name=\"conv2d_vae.pt\")"
   ]
  },
  {
   "cell_type": "code",
   "execution_count": 11,
   "metadata": {},
   "outputs": [
    {
     "name": "stderr",
     "output_type": "stream",
     "text": [
      "eval: 100%|██████████| 63/63 [00:00<00:00, 600.01it/s]\n",
      "eval: 100%|██████████| 34/34 [00:00<00:00, 591.73it/s]"
     ]
    },
    {
     "name": "stdout",
     "output_type": "stream",
     "text": [
      "dev loss: 0.007, test_loss: 0.043\n"
     ]
    },
    {
     "name": "stderr",
     "output_type": "stream",
     "text": [
      "\n"
     ]
    }
   ],
   "source": [
    "test(model_conv, valid_dataloader, test_dataloader, \"test/conv2d_vae.pt\")"
   ]
  },
  {
   "cell_type": "code",
   "execution_count": 12,
   "metadata": {},
   "outputs": [
    {
     "data": {
      "image/png": "[encoded data removed]",
      "text/plain": [
       "<Figure size 640x480 with 1 Axes>"
      ]
     },
     "metadata": {},
     "output_type": "display_data"
    }
   ],
   "source": [
    "x = torch.from_numpy(data[10].reshape(1, 1, 5, 5)).float().to(model_conv.device)\n",
    "y = model_conv.forward(x)[0].detach().cpu().numpy().reshape((5,5))\n",
    "plot_surface(data[10], y)"
   ]
  },
  {
   "attachments": {},
   "cell_type": "markdown",
   "metadata": {},
   "source": [
    "# Conditional Conv 2D VAE"
   ]
  },
  {
   "cell_type": "code",
   "execution_count": 13,
   "metadata": {},
   "outputs": [
    {
     "name": "stdout",
     "output_type": "stream",
     "text": [
      "CVAEConv2D(\n",
      "  (encoder): CondConv2DEncoder(\n",
      "    (encoder_layers): Sequential(\n",
      "      (enc_conv_0): Conv2d(2, 50, kernel_size=(3, 3), stride=(2, 2), padding=(3, 3))\n",
      "      (enc_activation_0): ReLU()\n",
      "      (enc_conv_1): Conv2d(50, 100, kernel_size=(3, 3), stride=(2, 2), padding=(3, 3))\n",
      "      (enc_activation_1): ReLU()\n",
      "      (flatten): Flatten(start_dim=1, end_dim=-1)\n",
      "    )\n",
      "    (z_mean_layer): Linear(in_features=2500, out_features=10, bias=True)\n",
      "    (z_log_var_layer): Linear(in_features=2500, out_features=10, bias=True)\n",
      "  )\n",
      "  (ctx_encoder): CondConv2DCtxEncoder(\n",
      "    (ctx_encoder_layers): Sequential(\n",
      "      (ctx_enc_conv_0): Conv2d(1, 100, kernel_size=(3, 3), stride=(2, 2), padding=(3, 3))\n",
      "      (ctx_enc_activation_0): ReLU()\n",
      "      (flatten): Flatten(start_dim=1, end_dim=-1)\n",
      "      (ctx_enc_final_linear): Linear(in_features=2500, out_features=100, bias=True)\n",
      "    )\n",
      "  )\n",
      "  (decoder): CondConv2DDecoder(\n",
      "    (decoder_input): Linear(in_features=110, out_features=2500, bias=True)\n",
      "    (decoder_layers): Sequential(\n",
      "      (dec_deconv_0): ConvTranspose2d(100, 50, kernel_size=(3, 3), stride=(2, 2), padding=(3, 3))\n",
      "      (dec_activation_0): ReLU()\n",
      "      (dec_final): ConvTranspose2d(50, 50, kernel_size=(3, 3), stride=(2, 2), padding=(3, 3))\n",
      "      (dec_final_activation): ReLU()\n",
      "      (dec_output): Conv2d(50, 1, kernel_size=(3, 3), stride=(1, 1), padding=same)\n",
      "    )\n",
      "  )\n",
      ")\n"
     ]
    }
   ],
   "source": [
    "config = {\n",
    "    \"seq_len\": 2, \n",
    "    \"feat_dim\": (5, 5),\n",
    "    \"latent_dim\": 10,\n",
    "    \"device\": \"cuda\",\n",
    "    \"kl_weight\": 1.0,\n",
    "    \"hidden\": [50, 100],\n",
    "    \"ctx_len\": 1, \n",
    "    \"ctx_hidden\": [100], \n",
    "    \"ctx_embedding\": 100,\n",
    "}\n",
    "model_cond_conv = CVAE(config)\n",
    "print(model_cond_conv)"
   ]
  },
  {
   "cell_type": "code",
   "execution_count": 14,
   "metadata": {},
   "outputs": [],
   "source": [
    "train_dataset = VolSurfaceDataSet(data[:4000], 2)\n",
    "train_dataloader = DataLoader(train_dataset, shuffle=False, batch_size=64)\n",
    "valid_dataset = VolSurfaceDataSet(data[4000:5000], 2)\n",
    "valid_dataloader = DataLoader(valid_dataset, shuffle=False, batch_size=16)\n",
    "test_dataset = VolSurfaceDataSet(data[5000:], 2)\n",
    "test_dataloader = DataLoader(test_dataset, shuffle=False, batch_size=16)"
   ]
  },
  {
   "cell_type": "code",
   "execution_count": 15,
   "metadata": {},
   "outputs": [
    {
     "name": "stderr",
     "output_type": "stream",
     "text": [
      "train-0: 100%|██████████| 63/63 [00:00<00:00, 155.85it/s]\n",
      "eval: 100%|██████████| 63/63 [00:00<00:00, 547.81it/s]\n"
     ]
    },
    {
     "name": "stdout",
     "output_type": "stream",
     "text": [
      "epoch 0: train loss :: 0.048, dev loss :: 0.031, time elapsed :: 0.5352253913879395\n"
     ]
    },
    {
     "name": "stderr",
     "output_type": "stream",
     "text": [
      "train-1: 100%|██████████| 63/63 [00:00<00:00, 156.56it/s]\n",
      "eval: 100%|██████████| 63/63 [00:00<00:00, 598.40it/s]\n"
     ]
    },
    {
     "name": "stdout",
     "output_type": "stream",
     "text": [
      "epoch 1: train loss :: 0.040, dev loss :: 0.022, time elapsed :: 0.5216896533966064\n"
     ]
    },
    {
     "name": "stderr",
     "output_type": "stream",
     "text": [
      "train-2: 100%|██████████| 63/63 [00:00<00:00, 149.62it/s]\n",
      "eval: 100%|██████████| 63/63 [00:00<00:00, 534.38it/s]\n"
     ]
    },
    {
     "name": "stdout",
     "output_type": "stream",
     "text": [
      "epoch 2: train loss :: 0.026, dev loss :: 0.011, time elapsed :: 0.5545189380645752\n"
     ]
    },
    {
     "name": "stderr",
     "output_type": "stream",
     "text": [
      "train-3: 100%|██████████| 63/63 [00:00<00:00, 138.11it/s]\n",
      "eval: 100%|██████████| 63/63 [00:00<00:00, 497.43it/s]\n"
     ]
    },
    {
     "name": "stdout",
     "output_type": "stream",
     "text": [
      "epoch 3: train loss :: 0.012, dev loss :: 0.007, time elapsed :: 0.5957133769989014\n"
     ]
    },
    {
     "name": "stderr",
     "output_type": "stream",
     "text": [
      "train-4: 100%|██████████| 63/63 [00:00<00:00, 131.13it/s]\n",
      "eval: 100%|██████████| 63/63 [00:00<00:00, 411.76it/s]\n"
     ]
    },
    {
     "name": "stdout",
     "output_type": "stream",
     "text": [
      "epoch 4: train loss :: 0.009, dev loss :: 0.007, time elapsed :: 0.6494452953338623\n"
     ]
    },
    {
     "name": "stderr",
     "output_type": "stream",
     "text": [
      "train-5: 100%|██████████| 63/63 [00:00<00:00, 127.03it/s]\n",
      "eval: 100%|██████████| 63/63 [00:00<00:00, 578.00it/s]\n"
     ]
    },
    {
     "name": "stdout",
     "output_type": "stream",
     "text": [
      "epoch 5: train loss :: 0.008, dev loss :: 0.007, time elapsed :: 0.6191082000732422\n"
     ]
    },
    {
     "name": "stderr",
     "output_type": "stream",
     "text": [
      "train-6: 100%|██████████| 63/63 [00:00<00:00, 141.39it/s]\n",
      "eval: 100%|██████████| 63/63 [00:00<00:00, 546.27it/s]\n"
     ]
    },
    {
     "name": "stdout",
     "output_type": "stream",
     "text": [
      "epoch 6: train loss :: 0.008, dev loss :: 0.006, time elapsed :: 0.576894998550415\n"
     ]
    },
    {
     "name": "stderr",
     "output_type": "stream",
     "text": [
      "train-7: 100%|██████████| 63/63 [00:00<00:00, 156.25it/s]\n",
      "eval: 100%|██████████| 63/63 [00:00<00:00, 546.96it/s]\n"
     ]
    },
    {
     "name": "stdout",
     "output_type": "stream",
     "text": [
      "epoch 7: train loss :: 0.008, dev loss :: 0.006, time elapsed :: 0.5339922904968262\n"
     ]
    },
    {
     "name": "stderr",
     "output_type": "stream",
     "text": [
      "train-8: 100%|██████████| 63/63 [00:00<00:00, 161.05it/s]\n",
      "eval: 100%|██████████| 63/63 [00:00<00:00, 542.62it/s]\n"
     ]
    },
    {
     "name": "stdout",
     "output_type": "stream",
     "text": [
      "epoch 8: train loss :: 0.008, dev loss :: 0.006, time elapsed :: 0.5256791114807129\n"
     ]
    },
    {
     "name": "stderr",
     "output_type": "stream",
     "text": [
      "train-9: 100%|██████████| 63/63 [00:00<00:00, 124.55it/s]\n",
      "eval: 100%|██████████| 63/63 [00:00<00:00, 490.76it/s]\n"
     ]
    },
    {
     "name": "stdout",
     "output_type": "stream",
     "text": [
      "epoch 9: train loss :: 0.008, dev loss :: 0.006, time elapsed :: 0.6498908996582031\n"
     ]
    },
    {
     "name": "stderr",
     "output_type": "stream",
     "text": [
      "train-10: 100%|██████████| 63/63 [00:00<00:00, 124.89it/s]\n",
      "eval: 100%|██████████| 63/63 [00:00<00:00, 490.54it/s]\n"
     ]
    },
    {
     "name": "stdout",
     "output_type": "stream",
     "text": [
      "epoch 10: train loss :: 0.008, dev loss :: 0.006, time elapsed :: 0.6478633880615234\n"
     ]
    },
    {
     "name": "stderr",
     "output_type": "stream",
     "text": [
      "train-11: 100%|██████████| 63/63 [00:00<00:00, 129.33it/s]\n",
      "eval: 100%|██████████| 63/63 [00:00<00:00, 547.81it/s]\n"
     ]
    },
    {
     "name": "stdout",
     "output_type": "stream",
     "text": [
      "epoch 11: train loss :: 0.007, dev loss :: 0.006, time elapsed :: 0.6181292533874512\n"
     ]
    },
    {
     "name": "stderr",
     "output_type": "stream",
     "text": [
      "train-12: 100%|██████████| 63/63 [00:00<00:00, 125.25it/s]\n",
      "eval: 100%|██████████| 63/63 [00:00<00:00, 547.83it/s]\n"
     ]
    },
    {
     "name": "stdout",
     "output_type": "stream",
     "text": [
      "epoch 12: train loss :: 0.007, dev loss :: 0.006, time elapsed :: 0.6349968910217285\n"
     ]
    },
    {
     "name": "stderr",
     "output_type": "stream",
     "text": [
      "train-13: 100%|██████████| 63/63 [00:00<00:00, 126.08it/s]\n",
      "eval: 100%|██████████| 63/63 [00:00<00:00, 446.73it/s]\n"
     ]
    },
    {
     "name": "stdout",
     "output_type": "stream",
     "text": [
      "epoch 13: train loss :: 0.007, dev loss :: 0.006, time elapsed :: 0.6556816101074219\n"
     ]
    },
    {
     "name": "stderr",
     "output_type": "stream",
     "text": [
      "train-14: 100%|██████████| 63/63 [00:00<00:00, 122.70it/s]\n",
      "eval: 100%|██████████| 63/63 [00:00<00:00, 547.86it/s]\n"
     ]
    },
    {
     "name": "stdout",
     "output_type": "stream",
     "text": [
      "epoch 14: train loss :: 0.007, dev loss :: 0.006, time elapsed :: 0.643319845199585\n"
     ]
    },
    {
     "name": "stderr",
     "output_type": "stream",
     "text": [
      "train-15: 100%|██████████| 63/63 [00:00<00:00, 127.42it/s]\n",
      "eval: 100%|██████████| 63/63 [00:00<00:00, 557.57it/s]\n"
     ]
    },
    {
     "name": "stdout",
     "output_type": "stream",
     "text": [
      "epoch 15: train loss :: 0.007, dev loss :: 0.006, time elapsed :: 0.62241530418396\n"
     ]
    },
    {
     "name": "stderr",
     "output_type": "stream",
     "text": [
      "train-16: 100%|██████████| 63/63 [00:00<00:00, 118.10it/s]\n",
      "eval: 100%|██████████| 63/63 [00:00<00:00, 467.05it/s]\n"
     ]
    },
    {
     "name": "stdout",
     "output_type": "stream",
     "text": [
      "epoch 16: train loss :: 0.007, dev loss :: 0.006, time elapsed :: 0.6834521293640137\n"
     ]
    },
    {
     "name": "stderr",
     "output_type": "stream",
     "text": [
      "train-17: 100%|██████████| 63/63 [00:00<00:00, 114.31it/s]\n",
      "eval: 100%|██████████| 63/63 [00:00<00:00, 616.80it/s]\n"
     ]
    },
    {
     "name": "stdout",
     "output_type": "stream",
     "text": [
      "epoch 17: train loss :: 0.007, dev loss :: 0.006, time elapsed :: 0.6692755222320557\n"
     ]
    },
    {
     "name": "stderr",
     "output_type": "stream",
     "text": [
      "train-18: 100%|██████████| 63/63 [00:00<00:00, 132.47it/s]\n",
      "eval: 100%|██████████| 63/63 [00:00<00:00, 439.13it/s]\n"
     ]
    },
    {
     "name": "stdout",
     "output_type": "stream",
     "text": [
      "epoch 18: train loss :: 0.007, dev loss :: 0.006, time elapsed :: 0.6353726387023926\n"
     ]
    },
    {
     "name": "stderr",
     "output_type": "stream",
     "text": [
      "train-19: 100%|██████████| 63/63 [00:00<00:00, 136.87it/s]\n",
      "eval: 100%|██████████| 63/63 [00:00<00:00, 600.28it/s]"
     ]
    },
    {
     "name": "stdout",
     "output_type": "stream",
     "text": [
      "epoch 19: train loss :: 0.007, dev loss :: 0.006, time elapsed :: 0.5801506042480469\n",
      "training finished, total time :: 12.156348466873169\n"
     ]
    },
    {
     "name": "stderr",
     "output_type": "stream",
     "text": [
      "\n"
     ]
    }
   ],
   "source": [
    "train(model_cond_conv, train_dataloader, valid_dataloader, epochs=20, model_dir=\"test\", file_name=\"condconv2d_vae.pt\")"
   ]
  },
  {
   "cell_type": "code",
   "execution_count": 16,
   "metadata": {},
   "outputs": [
    {
     "name": "stderr",
     "output_type": "stream",
     "text": [
      "eval: 100%|██████████| 63/63 [00:00<00:00, 472.32it/s]\n",
      "eval: 100%|██████████| 34/34 [00:00<00:00, 588.08it/s]"
     ]
    },
    {
     "name": "stdout",
     "output_type": "stream",
     "text": [
      "dev loss: 0.006, test_loss: 0.041\n"
     ]
    },
    {
     "name": "stderr",
     "output_type": "stream",
     "text": [
      "\n"
     ]
    }
   ],
   "source": [
    "test(model_cond_conv, valid_dataloader, test_dataloader, \"test/condconv2d_vae.pt\")"
   ]
  },
  {
   "cell_type": "code",
   "execution_count": 17,
   "metadata": {},
   "outputs": [
    {
     "data": {
      "image/png": "[encoded data removed]",
      "text/plain": [
       "<Figure size 640x480 with 1 Axes>"
      ]
     },
     "metadata": {},
     "output_type": "display_data"
    }
   ],
   "source": [
    "x = torch.from_numpy(data[9:11].reshape(1, 2, 5, 5)).float().to(model_cond_conv.device)\n",
    "y = model_cond_conv(x)[0].detach().cpu().numpy().reshape((5,5))\n",
    "plot_surface(data[10], y)"
   ]
  },
  {
   "cell_type": "code",
   "execution_count": 18,
   "metadata": {},
   "outputs": [
    {
     "name": "stdout",
     "output_type": "stream",
     "text": [
      "[[0.72464951 0.3797505  0.20524437 0.12131439 0.        ]\n",
      " [0.23808499 0.25893129 0.21339407 0.15409594 0.16549177]\n",
      " [0.41339477 0.29027929 0.21902075 0.16980012 0.14323103]\n",
      " [0.31220416 0.24044995 0.22961451 0.19413678 0.16450468]\n",
      " [0.28926708 0.3088492  0.23532392 0.20957814 0.18903915]]\n",
      "[[0.21806654 0.30911678 0.18971041 0.11540468 0.02822617]\n",
      " [0.30855888 0.2724753  0.19685665 0.13750161 0.07407394]\n",
      " [0.30713832 0.2604339  0.20264336 0.15491265 0.12706482]\n",
      " [0.2908514  0.24804303 0.2065295  0.16815087 0.1474773 ]\n",
      " [0.25338346 0.2384867  0.21445926 0.18558602 0.16232213]]\n"
     ]
    }
   ],
   "source": [
    "print(data[10])\n",
    "print(y)"
   ]
  },
  {
   "cell_type": "code",
   "execution_count": null,
   "metadata": {},
   "outputs": [],
   "source": []
  }
 ],
 "metadata": {
  "kernelspec": {
   "display_name": "Python 3",
   "language": "python",
   "name": "python3"
  },
  "language_info": {
   "codemirror_mode": {
    "name": "ipython",
    "version": 3
   },
   "file_extension": ".py",
   "mimetype": "text/x-python",
   "name": "python",
   "nbconvert_exporter": "python",
   "pygments_lexer": "ipython3",
   "version": "3.10.8"
  },
  "orig_nbformat": 4
 },
 "nbformat": 4,
 "nbformat_minor": 2
}
