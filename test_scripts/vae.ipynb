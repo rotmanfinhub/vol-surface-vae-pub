{
 "cells": [
  {
   "cell_type": "code",
   "execution_count": 1,
   "metadata": {},
   "outputs": [],
   "source": [
    "import random, os, time\n",
    "import numpy as np\n",
    "import pandas as pd\n",
    "import torch\n",
    "import torch.nn as nn\n",
    "import torch.nn.functional as F\n",
    "import torch.optim as opt\n",
    "from torch.utils.data import Dataset, DataLoader\n",
    "from torchvision import datasets, transforms\n",
    "from collections import OrderedDict\n",
    "from tqdm import tqdm\n",
    "import matplotlib.pyplot as plt\n",
    "from matplotlib import cm"
   ]
  },
  {
   "attachments": {},
   "cell_type": "markdown",
   "metadata": {},
   "source": [
    "# Define architecture"
   ]
  },
  {
   "cell_type": "code",
   "execution_count": 2,
   "metadata": {},
   "outputs": [],
   "source": [
    "def set_seeds(seed):\n",
    "    random.seed(seed)\n",
    "    np.random.seed(seed)\n",
    "    torch.manual_seed(seed)\n",
    "    torch.cuda.manual_seed(seed)\n",
    "    torch.cuda.manual_seed_all(seed)\n",
    "\n",
    "set_seeds(0)"
   ]
  },
  {
   "cell_type": "code",
   "execution_count": 3,
   "metadata": {},
   "outputs": [],
   "source": [
    "class BaseVAE(nn.Module):\n",
    "    def __init__(self, seq_len, feat_dim, latent_dim, device=\"cuda\", kl_weight=1.0, lr=1e-5):\n",
    "        '''\n",
    "            Inputs:\n",
    "                seq_len: the time series sequence length\n",
    "                feat_dim: the feature dimension of each time step, integer if 1D, tuple of integers if 2D\n",
    "                kl_weight: weight \\beta used for loss = RE + \\beta * KL\n",
    "                lr: learning rate for weighted Adam in training\n",
    "        '''\n",
    "        super(BaseVAE, self).__init__()\n",
    "        self.seq_len = seq_len\n",
    "        self.feat_dim = feat_dim\n",
    "        self.latent_dim = latent_dim\n",
    "        self.kl_weight = kl_weight\n",
    "        self.lr = lr\n",
    "\n",
    "        self.device = device\n",
    "    \n",
    "    def encode(self, x):\n",
    "        raise NotImplementedError()\n",
    "\n",
    "    def decode(self, x):\n",
    "        raise NotImplementedError()\n",
    "\n",
    "    def forward(self, x):\n",
    "        z_mean, _, _ = self.encode(x)\n",
    "        x_decoded = self.decode(z_mean)\n",
    "        return x_decoded\n",
    "    \n",
    "    def count_parameters(self):\n",
    "        modules = []\n",
    "        params = []\n",
    "        total_params = 0\n",
    "        for name, parameter in self.named_parameters():\n",
    "            if not parameter.requires_grad: \n",
    "                continue\n",
    "            p_count = parameter.numel()\n",
    "            modules.append(name)\n",
    "            params.append(p_count)\n",
    "            total_params += p_count\n",
    "        modules.append(\"Total\")\n",
    "        params.append(total_params)\n",
    "        df = pd.DataFrame({\"module\": modules, \"num_params\": params})\n",
    "        return df\n",
    "    \n",
    "    def get_prior_samples(self, num_samples):\n",
    "        z = torch.randn((num_samples, self.latent_dim)).to(self.device)\n",
    "        samples = self.decode(z)\n",
    "        return samples\n",
    "    \n",
    "    def get_prior_samples_given_z(self, z):\n",
    "        z = z.to(self.device)\n",
    "        return self.decode(z)\n",
    "    \n",
    "    def train_step(self, x):\n",
    "        x = x.to(self.device)\n",
    "        self.optimizer.zero_grad()\n",
    "        z_mean, z_log_var, z = self.encode(x)\n",
    "        reconstruction = self.decode(z)\n",
    "\n",
    "        # RE = 1/M \\sum_{i=1}^M (x_i - y_i)^2\n",
    "        reconstruction_error = F.mse_loss(reconstruction, x)\n",
    "        # KL = -1/2 \\sum_{i=1}^M (1+log(\\sigma_k^2) - \\sigma_k^2 - \\mu_k^2)\n",
    "        kl_loss = -0.5 * (1 + z_log_var - torch.exp(z_log_var) - torch.square(z_mean))\n",
    "        kl_loss = torch.mean(torch.sum(kl_loss, dim=1))\n",
    "        total_loss = reconstruction_error + self.kl_weight * kl_loss\n",
    "        total_loss.backward()\n",
    "        self.optimizer.step()\n",
    "\n",
    "        return {\n",
    "            \"loss\": total_loss,\n",
    "            \"reconstruction_loss\": reconstruction_error,\n",
    "            \"kl_loss\": kl_loss,\n",
    "        }\n",
    "    \n",
    "    def test_step(self, x):\n",
    "        x = x.to(self.device)\n",
    "        z_mean, z_log_var, z = self.encode(x)\n",
    "        reconstruction = self.decode(z)\n",
    "\n",
    "        # RE = 1/M \\sum_{i=1}^M (x_i - y_i)^2\n",
    "        reconstruction_error = F.mse_loss(reconstruction, x)\n",
    "        # KL = -1/2 \\sum_{i=1}^M (1+log(\\sigma_k^2) - \\sigma_k^2 - \\mu_k^2)\n",
    "        kl_loss = -0.5 * (1 + z_log_var - torch.exp(z_log_var) - torch.square(z_mean))\n",
    "        kl_loss = torch.mean(torch.sum(kl_loss, dim=1))\n",
    "        total_loss = reconstruction_error + self.kl_weight * kl_loss\n",
    "\n",
    "        return {\n",
    "            \"loss\": total_loss,\n",
    "            \"reconstruction_loss\": reconstruction_error,\n",
    "            \"kl_loss\": kl_loss,\n",
    "        }\n",
    "\n",
    "    def save_weights(self, model_dir, file_prefix):\n",
    "        if not os.path.exists(model_dir):\n",
    "            os.makedirs(model_dir)\n",
    "        torch.save(self.state_dict(), f\"{model_dir}/{file_prefix}_weights.pt\")\n",
    "    \n",
    "    def load_weights(self, model_dir, file_prefix):\n",
    "        self.load_state_dict(torch.load(f\"{model_dir}/{file_prefix}_weights.pt\"))"
   ]
  },
  {
   "cell_type": "code",
   "execution_count": 4,
   "metadata": {},
   "outputs": [
    {
     "name": "stdout",
     "output_type": "stream",
     "text": [
      "torch.Size([2, 3, 5, 5])\n",
      "torch.Size([2, 75])\n"
     ]
    }
   ],
   "source": [
    "x = torch.randn((2, 3, 5, 5))\n",
    "print(x.shape)\n",
    "y = torch.flatten(x, 1, -1)\n",
    "print(y.shape)"
   ]
  },
  {
   "cell_type": "code",
   "execution_count": 5,
   "metadata": {},
   "outputs": [],
   "source": [
    "class VAEDense(BaseVAE):\n",
    "    def __init__(self, seq_len, feat_dim, latent_dim, device=\"cuda\", kl_weight=1, lr=0.00001, \n",
    "                 hidden_layer_sizes=[100]):\n",
    "        super().__init__(seq_len, feat_dim, latent_dim, device, kl_weight, lr)\n",
    "        self.hidden_layer_sizes = hidden_layer_sizes\n",
    "\n",
    "        # encoder\n",
    "        encoder_layers = OrderedDict()\n",
    "        # flatten the feature dimension seq_len * feat_dim\n",
    "        encoder_layers[\"flatten\"] = nn.Flatten()\n",
    "        if isinstance(self.feat_dim, tuple):\n",
    "            self.flattened_dim = self.seq_len * self.feat_dim[0] * self.feat_dim[1]\n",
    "        else:\n",
    "            self.flattened_dim = self.seq_len * self.feat_dim\n",
    "        in_feats = self.flattened_dim\n",
    "        for i, out_feats in enumerate(self.hidden_layer_sizes):\n",
    "            encoder_layers[f\"enc_dense_{i}\"] = nn.Linear(in_feats, out_feats)\n",
    "            encoder_layers[f\"enc_activation_{i}\"] = nn.ReLU()\n",
    "            in_feats = out_feats\n",
    "        self.encoder_dense = nn.Sequential(encoder_layers)\n",
    "        self.z_mean_layer = nn.Linear(in_feats, self.latent_dim)\n",
    "        self.z_log_var_layer = nn.Linear(in_feats, self.latent_dim)\n",
    "\n",
    "        # decoder\n",
    "        decoder_layers = OrderedDict()\n",
    "        in_feats = self.latent_dim\n",
    "        for i, out_feats in enumerate(reversed(self.hidden_layer_sizes)):\n",
    "            decoder_layers[f\"dec_dense_{i}\"] = nn.Linear(in_feats, out_feats)\n",
    "            decoder_layers[f\"dec_activation_{i}\"] = nn.ReLU()\n",
    "            in_feats = out_feats\n",
    "        decoder_layers[f\"dec_output\"] = nn.Linear(in_feats, self.flattened_dim)\n",
    "        self.decoder_dense = nn.Sequential(decoder_layers)\n",
    "        self.to(self.device)\n",
    "        self.optimizer = opt.AdamW(self.parameters(), lr)\n",
    "\n",
    "    def encode(self, x):\n",
    "        x = self.encoder_dense(x)\n",
    "        z_mean = self.z_mean_layer(x)\n",
    "        z_log_var = self.z_log_var_layer(x)\n",
    "        eps = torch.rand_like(z_log_var)\n",
    "        z = z_mean + torch.exp(0.5 * z_log_var) * eps\n",
    "        return (z_mean, z_log_var, z)\n",
    "    \n",
    "    def decode(self, x):\n",
    "        out = self.decoder_dense(x)\n",
    "        if isinstance(self.feat_dim, tuple):\n",
    "            out = out.view((-1, self.seq_len, self.feat_dim[0], self.feat_dim[1]))\n",
    "        else:\n",
    "            out = out.view((-1, self.seq_len, self.feat_dim))\n",
    "        return out"
   ]
  },
  {
   "cell_type": "code",
   "execution_count": 6,
   "metadata": {},
   "outputs": [],
   "source": [
    "class VAEConv2D(BaseVAE):\n",
    "    def __init__(self, seq_len, feat_dim, latent_dim, device=\"cuda\", kl_weight=1, lr=0.00001,\n",
    "                 hidden_layer_sizes=[100]):\n",
    "        '''\n",
    "            The input size should be BxTx5x5, sequence length will be used as the C channel\n",
    "            Idea from: https://github.com/AntixK/PyTorch-VAE\n",
    "        '''\n",
    "        super().__init__(seq_len, feat_dim, latent_dim, device, kl_weight, lr)\n",
    "        self.hidden_layer_sizes = hidden_layer_sizes\n",
    "\n",
    "        # we want to keep the dimensions the same, out_dim = (in_dim - kernel_size + 2*padding) / stride + 1\n",
    "        # so padding = (out_dim * stride + kernel_size - in_dim) // 2 where in_dim and out_dim are 5\n",
    "        padding = ((feat_dim[-1] - 1) * 2 + 3 - feat_dim[-1]) // 2\n",
    "        if ((feat_dim[-1] - 1) * 2 + 3 - feat_dim[-1]) % 2 == 1:\n",
    "            padding1 = padding + 1\n",
    "            deconv_output_padding = 1\n",
    "        else:\n",
    "            padding1 = padding\n",
    "            deconv_output_padding = 0\n",
    "        \n",
    "        # encoder\n",
    "        encoder_layers = OrderedDict()\n",
    "        in_feats = self.seq_len\n",
    "        for i, out_feats in enumerate(self.hidden_layer_sizes):\n",
    "            \n",
    "            encoder_layers[f\"enc_conv_{i}\"] = nn.Conv2d(\n",
    "                in_feats, out_feats,\n",
    "                kernel_size=3, stride=2, padding=padding1,\n",
    "            )\n",
    "            encoder_layers[f\"enc_activation_{i}\"] = nn.ReLU()\n",
    "            in_feats = out_feats\n",
    "        encoder_layers[\"flatten\"] = nn.Flatten()\n",
    "        self.encoder_conv = nn.Sequential(encoder_layers)\n",
    "        self.z_mean_layer = nn.Linear(in_feats*feat_dim[0]*feat_dim[1], self.latent_dim)\n",
    "        self.z_log_var_layer = nn.Linear(in_feats*feat_dim[0]*feat_dim[1], self.latent_dim)\n",
    "\n",
    "        # decoder\n",
    "        self.decoder_input = nn.Linear(self.latent_dim, in_feats*feat_dim[0]*feat_dim[1])\n",
    "        decoder_layers = OrderedDict()\n",
    "        for i, out_feats in enumerate(reversed(self.hidden_layer_sizes[:-1])):\n",
    "            decoder_layers[f\"dec_deconv_{i}\"] = nn.ConvTranspose2d(\n",
    "                in_feats, out_feats,\n",
    "                kernel_size=3, stride=2, padding=padding1, output_padding=deconv_output_padding,\n",
    "                )\n",
    "            decoder_layers[f\"dec_activation_{i}\"] = nn.ReLU()\n",
    "            in_feats = out_feats\n",
    "        \n",
    "        # transform to the original size\n",
    "        decoder_layers[\"dec_final\"] = nn.ConvTranspose2d(\n",
    "            in_feats, in_feats,\n",
    "            kernel_size=3, stride=2, padding=padding1, output_padding=deconv_output_padding,\n",
    "        )\n",
    "        decoder_layers[\"dec_final_activation\"] = nn.ReLU()\n",
    "        decoder_layers[\"dec_output\"] = nn.Conv2d(\n",
    "            in_feats, self.seq_len,\n",
    "            kernel_size=3, padding=\"same\"\n",
    "        )\n",
    "        self.decoder_layers = nn.Sequential(decoder_layers)\n",
    "        self.to(self.device)\n",
    "        self.optimizer = opt.AdamW(self.parameters(), lr)\n",
    "    \n",
    "    def encode(self, x):\n",
    "        '''\n",
    "            Input:\n",
    "                x should be of shape BxTx5x5\n",
    "        '''\n",
    "        x = self.encoder_conv(x) # Bx(hidden[-1]x5x5)\n",
    "        z_mean = self.z_mean_layer(x)\n",
    "        z_log_var = self.z_log_var_layer(x)\n",
    "        eps = torch.rand_like(z_log_var)\n",
    "        z = z_mean + torch.exp(0.5 * z_log_var) * eps\n",
    "        return (z_mean, z_log_var, z)\n",
    "    \n",
    "    def decode(self, x):\n",
    "        '''\n",
    "            Input:\n",
    "                x should be of shape Bxlatent dim\n",
    "        '''\n",
    "        x = self.decoder_input(x) # Bx(hidden[-1]x5x5)\n",
    "        x = x.view(-1, self.hidden_layer_sizes[-1], self.feat_dim[0], self.feat_dim[1])\n",
    "        out = self.decoder_layers(x)\n",
    "        return out"
   ]
  },
  {
   "cell_type": "code",
   "execution_count": 7,
   "metadata": {},
   "outputs": [
    {
     "name": "stdout",
     "output_type": "stream",
     "text": [
      "VAEDense(\n",
      "  (encoder_dense): Sequential(\n",
      "    (flatten): Flatten(start_dim=1, end_dim=-1)\n",
      "    (enc_dense_0): Linear(in_features=75, out_features=50, bias=True)\n",
      "    (enc_activation_0): ReLU()\n",
      "    (enc_dense_1): Linear(in_features=50, out_features=100, bias=True)\n",
      "    (enc_activation_1): ReLU()\n",
      "  )\n",
      "  (z_mean_layer): Linear(in_features=100, out_features=10, bias=True)\n",
      "  (z_log_var_layer): Linear(in_features=100, out_features=10, bias=True)\n",
      "  (decoder_dense): Sequential(\n",
      "    (dec_dense_0): Linear(in_features=10, out_features=100, bias=True)\n",
      "    (dec_activation_0): ReLU()\n",
      "    (dec_dense_1): Linear(in_features=100, out_features=50, bias=True)\n",
      "    (dec_activation_1): ReLU()\n",
      "    (dec_output): Linear(in_features=50, out_features=75, bias=True)\n",
      "  )\n",
      ")\n"
     ]
    }
   ],
   "source": [
    "dense_model = VAEDense(3, (5,5), 10, hidden_layer_sizes=[50, 100])\n",
    "print(dense_model)"
   ]
  },
  {
   "cell_type": "code",
   "execution_count": 8,
   "metadata": {},
   "outputs": [
    {
     "data": {
      "text/plain": [
       "{'loss': tensor(1.1537, device='cuda:0', grad_fn=<AddBackward0>),\n",
       " 'reconstruction_loss': tensor(1.0339, device='cuda:0', grad_fn=<MseLossBackward0>),\n",
       " 'kl_loss': tensor(0.1198, device='cuda:0', grad_fn=<MeanBackward0>)}"
      ]
     },
     "execution_count": 8,
     "metadata": {},
     "output_type": "execute_result"
    }
   ],
   "source": [
    "x = torch.randn((2, 3, 5, 5))\n",
    "dense_model.train_step(x)"
   ]
  },
  {
   "cell_type": "code",
   "execution_count": 9,
   "metadata": {},
   "outputs": [
    {
     "name": "stdout",
     "output_type": "stream",
     "text": [
      "VAEConv2D(\n",
      "  (encoder_conv): Sequential(\n",
      "    (enc_conv_0): Conv2d(3, 50, kernel_size=(3, 3), stride=(2, 2), padding=(3, 3))\n",
      "    (enc_activation_0): ReLU()\n",
      "    (enc_conv_1): Conv2d(50, 100, kernel_size=(3, 3), stride=(2, 2), padding=(3, 3))\n",
      "    (enc_activation_1): ReLU()\n",
      "    (flatten): Flatten(start_dim=1, end_dim=-1)\n",
      "  )\n",
      "  (z_mean_layer): Linear(in_features=2500, out_features=10, bias=True)\n",
      "  (z_log_var_layer): Linear(in_features=2500, out_features=10, bias=True)\n",
      "  (decoder_input): Linear(in_features=10, out_features=2500, bias=True)\n",
      "  (decoder_layers): Sequential(\n",
      "    (dec_deconv_0): ConvTranspose2d(100, 50, kernel_size=(3, 3), stride=(2, 2), padding=(3, 3))\n",
      "    (dec_activation_0): ReLU()\n",
      "    (dec_final): ConvTranspose2d(50, 50, kernel_size=(3, 3), stride=(2, 2), padding=(3, 3))\n",
      "    (dec_final_activation): ReLU()\n",
      "    (dec_output): Conv2d(50, 3, kernel_size=(3, 3), stride=(1, 1), padding=same)\n",
      "  )\n",
      ")\n"
     ]
    }
   ],
   "source": [
    "conv2d_model = VAEConv2D(3, (5, 5), 10, hidden_layer_sizes=[50, 100])\n",
    "print(conv2d_model)"
   ]
  },
  {
   "cell_type": "code",
   "execution_count": 10,
   "metadata": {},
   "outputs": [
    {
     "data": {
      "text/plain": [
       "{'loss': tensor(1.0032, device='cuda:0', grad_fn=<AddBackward0>),\n",
       " 'reconstruction_loss': tensor(0.9951, device='cuda:0', grad_fn=<MseLossBackward0>),\n",
       " 'kl_loss': tensor(0.0082, device='cuda:0', grad_fn=<MeanBackward0>)}"
      ]
     },
     "execution_count": 10,
     "metadata": {},
     "output_type": "execute_result"
    }
   ],
   "source": [
    "x = torch.randn((2, 3, 5, 5))\n",
    "conv2d_model.train_step(x)"
   ]
  },
  {
   "attachments": {},
   "cell_type": "markdown",
   "metadata": {},
   "source": [
    "# Create dataset"
   ]
  },
  {
   "cell_type": "code",
   "execution_count": 11,
   "metadata": {},
   "outputs": [
    {
     "name": "stdout",
     "output_type": "stream",
     "text": [
      "(5532, 5, 5)\n"
     ]
    }
   ],
   "source": [
    "data = np.load(\"data/vol_surface.npy\")\n",
    "print(data.shape)"
   ]
  },
  {
   "cell_type": "code",
   "execution_count": 12,
   "metadata": {},
   "outputs": [],
   "source": [
    "class VolSurfaceDataSet(Dataset):\n",
    "    def __init__(self, dataset, seq_len):\n",
    "        self.dataset = torch.from_numpy(dataset).float()\n",
    "        self.seq_len = seq_len\n",
    "    \n",
    "    def __len__(self):\n",
    "        return len(self.dataset) - self.seq_len + 1\n",
    "\n",
    "    def __getitem__(self, idx):\n",
    "        ele = self.dataset[idx:idx+self.seq_len]\n",
    "        return ele"
   ]
  },
  {
   "cell_type": "code",
   "execution_count": 13,
   "metadata": {},
   "outputs": [
    {
     "name": "stdout",
     "output_type": "stream",
     "text": [
      "5000\n",
      "torch.Size([1, 5, 5])\n"
     ]
    }
   ],
   "source": [
    "train_dataset = VolSurfaceDataSet(data[:5000], 1)\n",
    "train_dataloader = DataLoader(train_dataset, shuffle=True, batch_size=64)\n",
    "print(len(train_dataset))\n",
    "print(next(iter(train_dataset)).shape)"
   ]
  },
  {
   "cell_type": "code",
   "execution_count": 14,
   "metadata": {},
   "outputs": [
    {
     "name": "stdout",
     "output_type": "stream",
     "text": [
      "4998\n",
      "torch.Size([3, 5, 5])\n"
     ]
    }
   ],
   "source": [
    "train_dataset = VolSurfaceDataSet(data[:5000], 3)\n",
    "train_dataloader = DataLoader(train_dataset, shuffle=True, batch_size=64)\n",
    "print(len(train_dataset))\n",
    "print(next(iter(train_dataset)).shape)"
   ]
  },
  {
   "attachments": {},
   "cell_type": "markdown",
   "metadata": {},
   "source": [
    "# Training and testing"
   ]
  },
  {
   "cell_type": "code",
   "execution_count": 15,
   "metadata": {},
   "outputs": [],
   "source": [
    "# perform model evaluation in terms of the accuracy and f1 score.\n",
    "def model_eval(model: BaseVAE, dataloader):\n",
    "    model.eval() # switch to eval model, will turn off randomness like dropout\n",
    "    eval_loss = 0\n",
    "    num_batches = 0\n",
    "    for step, batch in enumerate(tqdm(dataloader, desc=f\"eval\")):\n",
    "        batch.to(model.device)\n",
    "\n",
    "        losses = model.test_step(batch)\n",
    "\n",
    "        eval_loss += losses[\"loss\"].item()\n",
    "        num_batches += 1\n",
    "\n",
    "    return eval_loss / num_batches\n",
    "    \n",
    "\n",
    "def train(model: BaseVAE, train_dataloader: DataLoader, valid_dataloader: DataLoader, \n",
    "          epochs=100, model_dir=\"./\", file_prefix=\"vanilla\"):\n",
    "    model.train()\n",
    "    \n",
    "    best_dev_loss = np.inf\n",
    "\n",
    "    ## run for the specified number of epochs\n",
    "    if not os.path.exists(model_dir):\n",
    "        os.makedirs(model_dir)\n",
    "    log_file = open(f\"{model_dir}/{file_prefix}-{epochs}-log.txt\", \"w\", encoding=\"utf-8\")\n",
    "    start_time = time.time()\n",
    "    for epoch in range(epochs):\n",
    "        epoch_start_time = time.time()\n",
    "        model.train()\n",
    "        train_loss = 0\n",
    "        num_batches = 0\n",
    "        for step, batch in enumerate(tqdm(train_dataloader, desc=f\"train-{epoch}\")):\n",
    "            batch.to(model.device)\n",
    "\n",
    "            losses = model.train_step(batch)\n",
    "\n",
    "            train_loss += losses[\"loss\"].item()\n",
    "            num_batches += 1\n",
    "\n",
    "        train_loss = train_loss / (num_batches)\n",
    "        \n",
    "        dev_loss = model_eval(model, valid_dataloader)\n",
    "\n",
    "        if dev_loss < best_dev_loss:\n",
    "            best_dev_loss = dev_loss\n",
    "            model.save_weights(model_dir, file_prefix)\n",
    "\n",
    "        print(f\"epoch {epoch}: train loss :: {train_loss :.3f}, dev loss :: {dev_loss :.3f}, time elapsed :: {time.time() - epoch_start_time}\")\n",
    "        print(f\"epoch {epoch}: train loss :: {train_loss :.3f}, dev loss :: {dev_loss :.3f}, time elapsed :: {time.time() - epoch_start_time}\", file=log_file)\n",
    "    print(f\"training finished, total time :: {time.time() - start_time}\")\n",
    "    print(f\"training finished, total time :: {time.time() - start_time}\", file=log_file)\n",
    "\n",
    "def test(model: BaseVAE, valid_dataloader: DataLoader, test_dataloader: DataLoader, \n",
    "         model_dir=\"./\", file_prefix=\"vanilla\"):\n",
    "    model.load_weights(model_dir, file_prefix)\n",
    "    dev_loss = model_eval(model, valid_dataloader)\n",
    "    test_loss = model_eval(model, test_dataloader)\n",
    "\n",
    "    print(f\"dev loss: {dev_loss :.3f}, test_loss: {test_loss :.3f}\")"
   ]
  },
  {
   "cell_type": "code",
   "execution_count": 16,
   "metadata": {},
   "outputs": [
    {
     "name": "stderr",
     "output_type": "stream",
     "text": [
      "train-0: 100%|██████████| 63/63 [00:00<00:00, 270.69it/s]\n",
      "eval: 100%|██████████| 63/63 [00:00<00:00, 1074.35it/s]\n"
     ]
    },
    {
     "name": "stdout",
     "output_type": "stream",
     "text": [
      "epoch 0: train loss :: 0.102, dev loss :: 0.082, time elapsed :: 0.29837608337402344\n"
     ]
    },
    {
     "name": "stderr",
     "output_type": "stream",
     "text": [
      "train-1: 100%|██████████| 63/63 [00:00<00:00, 275.38it/s]\n",
      "eval: 100%|██████████| 63/63 [00:00<00:00, 1433.44it/s]\n"
     ]
    },
    {
     "name": "stdout",
     "output_type": "stream",
     "text": [
      "epoch 1: train loss :: 0.093, dev loss :: 0.075, time elapsed :: 0.27858400344848633\n"
     ]
    },
    {
     "name": "stderr",
     "output_type": "stream",
     "text": [
      "train-2: 100%|██████████| 63/63 [00:00<00:00, 276.60it/s]\n",
      "eval: 100%|██████████| 63/63 [00:00<00:00, 1337.06it/s]\n"
     ]
    },
    {
     "name": "stdout",
     "output_type": "stream",
     "text": [
      "epoch 2: train loss :: 0.086, dev loss :: 0.069, time elapsed :: 0.27986669540405273\n"
     ]
    },
    {
     "name": "stderr",
     "output_type": "stream",
     "text": [
      "train-3: 100%|██████████| 63/63 [00:00<00:00, 277.20it/s]\n",
      "eval: 100%|██████████| 63/63 [00:00<00:00, 1145.22it/s]\n"
     ]
    },
    {
     "name": "stdout",
     "output_type": "stream",
     "text": [
      "epoch 3: train loss :: 0.079, dev loss :: 0.063, time elapsed :: 0.28626441955566406\n"
     ]
    },
    {
     "name": "stderr",
     "output_type": "stream",
     "text": [
      "train-4: 100%|██████████| 63/63 [00:00<00:00, 274.55it/s]\n",
      "eval: 100%|██████████| 63/63 [00:00<00:00, 1067.28it/s]\n"
     ]
    },
    {
     "name": "stdout",
     "output_type": "stream",
     "text": [
      "epoch 4: train loss :: 0.073, dev loss :: 0.058, time elapsed :: 0.2924990653991699\n"
     ]
    },
    {
     "name": "stderr",
     "output_type": "stream",
     "text": [
      "train-5: 100%|██████████| 63/63 [00:00<00:00, 273.20it/s]\n",
      "eval: 100%|██████████| 63/63 [00:00<00:00, 1399.68it/s]\n"
     ]
    },
    {
     "name": "stdout",
     "output_type": "stream",
     "text": [
      "epoch 5: train loss :: 0.068, dev loss :: 0.054, time elapsed :: 0.27961111068725586\n"
     ]
    },
    {
     "name": "stderr",
     "output_type": "stream",
     "text": [
      "train-6: 100%|██████████| 63/63 [00:00<00:00, 270.76it/s]\n",
      "eval: 100%|██████████| 63/63 [00:00<00:00, 1197.38it/s]\n"
     ]
    },
    {
     "name": "stdout",
     "output_type": "stream",
     "text": [
      "epoch 6: train loss :: 0.063, dev loss :: 0.050, time elapsed :: 0.29141831398010254\n"
     ]
    },
    {
     "name": "stderr",
     "output_type": "stream",
     "text": [
      "train-7: 100%|██████████| 63/63 [00:00<00:00, 224.73it/s]\n",
      "eval: 100%|██████████| 63/63 [00:00<00:00, 1260.00it/s]\n"
     ]
    },
    {
     "name": "stdout",
     "output_type": "stream",
     "text": [
      "epoch 7: train loss :: 0.059, dev loss :: 0.046, time elapsed :: 0.33733296394348145\n"
     ]
    },
    {
     "name": "stderr",
     "output_type": "stream",
     "text": [
      "train-8: 100%|██████████| 63/63 [00:00<00:00, 271.87it/s]\n",
      "eval: 100%|██████████| 63/63 [00:00<00:00, 1212.28it/s]\n"
     ]
    },
    {
     "name": "stdout",
     "output_type": "stream",
     "text": [
      "epoch 8: train loss :: 0.055, dev loss :: 0.043, time elapsed :: 0.28983116149902344\n"
     ]
    },
    {
     "name": "stderr",
     "output_type": "stream",
     "text": [
      "train-9: 100%|██████████| 63/63 [00:00<00:00, 254.34it/s]\n",
      "eval: 100%|██████████| 63/63 [00:00<00:00, 1105.16it/s]\n"
     ]
    },
    {
     "name": "stdout",
     "output_type": "stream",
     "text": [
      "epoch 9: train loss :: 0.051, dev loss :: 0.040, time elapsed :: 0.3087129592895508\n"
     ]
    },
    {
     "name": "stderr",
     "output_type": "stream",
     "text": [
      "train-10: 100%|██████████| 63/63 [00:00<00:00, 300.75it/s]\n",
      "eval: 100%|██████████| 63/63 [00:00<00:00, 944.32it/s]\n"
     ]
    },
    {
     "name": "stdout",
     "output_type": "stream",
     "text": [
      "epoch 10: train loss :: 0.048, dev loss :: 0.037, time elapsed :: 0.28218555450439453\n"
     ]
    },
    {
     "name": "stderr",
     "output_type": "stream",
     "text": [
      "train-11: 100%|██████████| 63/63 [00:00<00:00, 255.53it/s]\n",
      "eval: 100%|██████████| 63/63 [00:00<00:00, 1124.82it/s]\n"
     ]
    },
    {
     "name": "stdout",
     "output_type": "stream",
     "text": [
      "epoch 11: train loss :: 0.045, dev loss :: 0.035, time elapsed :: 0.3074929714202881\n"
     ]
    },
    {
     "name": "stderr",
     "output_type": "stream",
     "text": [
      "train-12: 100%|██████████| 63/63 [00:00<00:00, 258.80it/s]\n",
      "eval: 100%|██████████| 63/63 [00:00<00:00, 1259.46it/s]\n"
     ]
    },
    {
     "name": "stdout",
     "output_type": "stream",
     "text": [
      "epoch 12: train loss :: 0.042, dev loss :: 0.032, time elapsed :: 0.29843735694885254\n"
     ]
    },
    {
     "name": "stderr",
     "output_type": "stream",
     "text": [
      "train-13: 100%|██████████| 63/63 [00:00<00:00, 297.86it/s]\n",
      "eval: 100%|██████████| 63/63 [00:00<00:00, 1435.55it/s]\n"
     ]
    },
    {
     "name": "stdout",
     "output_type": "stream",
     "text": [
      "epoch 13: train loss :: 0.039, dev loss :: 0.030, time elapsed :: 0.26139116287231445\n"
     ]
    },
    {
     "name": "stderr",
     "output_type": "stream",
     "text": [
      "train-14: 100%|██████████| 63/63 [00:00<00:00, 293.71it/s]\n",
      "eval: 100%|██████████| 63/63 [00:00<00:00, 1232.47it/s]\n"
     ]
    },
    {
     "name": "stdout",
     "output_type": "stream",
     "text": [
      "epoch 14: train loss :: 0.037, dev loss :: 0.028, time elapsed :: 0.27126264572143555\n"
     ]
    },
    {
     "name": "stderr",
     "output_type": "stream",
     "text": [
      "train-15: 100%|██████████| 63/63 [00:00<00:00, 294.84it/s]\n",
      "eval: 100%|██████████| 63/63 [00:00<00:00, 886.09it/s]\n"
     ]
    },
    {
     "name": "stdout",
     "output_type": "stream",
     "text": [
      "epoch 15: train loss :: 0.035, dev loss :: 0.026, time elapsed :: 0.28888678550720215\n"
     ]
    },
    {
     "name": "stderr",
     "output_type": "stream",
     "text": [
      "train-16: 100%|██████████| 63/63 [00:00<00:00, 277.87it/s]\n",
      "eval: 100%|██████████| 63/63 [00:00<00:00, 1050.84it/s]\n"
     ]
    },
    {
     "name": "stdout",
     "output_type": "stream",
     "text": [
      "epoch 16: train loss :: 0.033, dev loss :: 0.024, time elapsed :: 0.29267096519470215\n"
     ]
    },
    {
     "name": "stderr",
     "output_type": "stream",
     "text": [
      "train-17: 100%|██████████| 63/63 [00:00<00:00, 282.01it/s]\n",
      "eval: 100%|██████████| 63/63 [00:00<00:00, 1399.77it/s]\n"
     ]
    },
    {
     "name": "stdout",
     "output_type": "stream",
     "text": [
      "epoch 17: train loss :: 0.031, dev loss :: 0.023, time elapsed :: 0.2723884582519531\n"
     ]
    },
    {
     "name": "stderr",
     "output_type": "stream",
     "text": [
      "train-18: 100%|██████████| 63/63 [00:00<00:00, 294.89it/s]\n",
      "eval: 100%|██████████| 63/63 [00:00<00:00, 1239.39it/s]\n"
     ]
    },
    {
     "name": "stdout",
     "output_type": "stream",
     "text": [
      "epoch 18: train loss :: 0.029, dev loss :: 0.021, time elapsed :: 0.27047109603881836\n"
     ]
    },
    {
     "name": "stderr",
     "output_type": "stream",
     "text": [
      "train-19: 100%|██████████| 63/63 [00:00<00:00, 274.08it/s]\n",
      "eval: 100%|██████████| 63/63 [00:00<00:00, 1212.23it/s]\n"
     ]
    },
    {
     "name": "stdout",
     "output_type": "stream",
     "text": [
      "epoch 19: train loss :: 0.027, dev loss :: 0.020, time elapsed :: 0.2868349552154541\n"
     ]
    },
    {
     "name": "stderr",
     "output_type": "stream",
     "text": [
      "train-20: 100%|██████████| 63/63 [00:00<00:00, 242.25it/s]\n",
      "eval: 100%|██████████| 63/63 [00:00<00:00, 1199.87it/s]\n"
     ]
    },
    {
     "name": "stdout",
     "output_type": "stream",
     "text": [
      "epoch 20: train loss :: 0.025, dev loss :: 0.019, time elapsed :: 0.3174905776977539\n"
     ]
    },
    {
     "name": "stderr",
     "output_type": "stream",
     "text": [
      "train-21: 100%|██████████| 63/63 [00:00<00:00, 257.42it/s]\n",
      "eval: 100%|██████████| 63/63 [00:00<00:00, 804.82it/s]\n"
     ]
    },
    {
     "name": "stdout",
     "output_type": "stream",
     "text": [
      "epoch 21: train loss :: 0.024, dev loss :: 0.018, time elapsed :: 0.32801198959350586\n"
     ]
    },
    {
     "name": "stderr",
     "output_type": "stream",
     "text": [
      "train-22: 100%|██████████| 63/63 [00:00<00:00, 242.90it/s]\n",
      "eval: 100%|██████████| 63/63 [00:00<00:00, 926.23it/s]\n"
     ]
    },
    {
     "name": "stdout",
     "output_type": "stream",
     "text": [
      "epoch 22: train loss :: 0.023, dev loss :: 0.017, time elapsed :: 0.33437490463256836\n"
     ]
    },
    {
     "name": "stderr",
     "output_type": "stream",
     "text": [
      "train-23: 100%|██████████| 63/63 [00:00<00:00, 290.68it/s]\n",
      "eval: 100%|██████████| 63/63 [00:00<00:00, 1174.78it/s]\n"
     ]
    },
    {
     "name": "stdout",
     "output_type": "stream",
     "text": [
      "epoch 23: train loss :: 0.021, dev loss :: 0.016, time elapsed :: 0.27636146545410156\n"
     ]
    },
    {
     "name": "stderr",
     "output_type": "stream",
     "text": [
      "train-24: 100%|██████████| 63/63 [00:00<00:00, 241.13it/s]\n",
      "eval: 100%|██████████| 63/63 [00:00<00:00, 1183.96it/s]\n"
     ]
    },
    {
     "name": "stdout",
     "output_type": "stream",
     "text": [
      "epoch 24: train loss :: 0.020, dev loss :: 0.015, time elapsed :: 0.3205091953277588\n"
     ]
    },
    {
     "name": "stderr",
     "output_type": "stream",
     "text": [
      "train-25: 100%|██████████| 63/63 [00:00<00:00, 271.40it/s]\n",
      "eval: 100%|██████████| 63/63 [00:00<00:00, 1172.52it/s]\n"
     ]
    },
    {
     "name": "stdout",
     "output_type": "stream",
     "text": [
      "epoch 25: train loss :: 0.019, dev loss :: 0.014, time elapsed :: 0.28983330726623535\n"
     ]
    },
    {
     "name": "stderr",
     "output_type": "stream",
     "text": [
      "train-26: 100%|██████████| 63/63 [00:00<00:00, 295.72it/s]\n",
      "eval: 100%|██████████| 63/63 [00:00<00:00, 1382.80it/s]\n"
     ]
    },
    {
     "name": "stdout",
     "output_type": "stream",
     "text": [
      "epoch 26: train loss :: 0.018, dev loss :: 0.014, time elapsed :: 0.26360082626342773\n"
     ]
    },
    {
     "name": "stderr",
     "output_type": "stream",
     "text": [
      "train-27: 100%|██████████| 63/63 [00:00<00:00, 286.57it/s]\n",
      "eval: 100%|██████████| 63/63 [00:00<00:00, 1254.41it/s]\n"
     ]
    },
    {
     "name": "stdout",
     "output_type": "stream",
     "text": [
      "epoch 27: train loss :: 0.017, dev loss :: 0.013, time elapsed :: 0.27408385276794434\n"
     ]
    },
    {
     "name": "stderr",
     "output_type": "stream",
     "text": [
      "train-28: 100%|██████████| 63/63 [00:00<00:00, 269.11it/s]\n",
      "eval: 100%|██████████| 63/63 [00:00<00:00, 1369.06it/s]\n"
     ]
    },
    {
     "name": "stdout",
     "output_type": "stream",
     "text": [
      "epoch 28: train loss :: 0.017, dev loss :: 0.012, time elapsed :: 0.28662681579589844\n"
     ]
    },
    {
     "name": "stderr",
     "output_type": "stream",
     "text": [
      "train-29: 100%|██████████| 63/63 [00:00<00:00, 296.71it/s]\n",
      "eval: 100%|██████████| 63/63 [00:00<00:00, 935.79it/s]\n"
     ]
    },
    {
     "name": "stdout",
     "output_type": "stream",
     "text": [
      "epoch 29: train loss :: 0.016, dev loss :: 0.012, time elapsed :: 0.2855222225189209\n"
     ]
    },
    {
     "name": "stderr",
     "output_type": "stream",
     "text": [
      "train-30: 100%|██████████| 63/63 [00:00<00:00, 289.21it/s]\n",
      "eval: 100%|██████████| 63/63 [00:00<00:00, 1275.38it/s]\n"
     ]
    },
    {
     "name": "stdout",
     "output_type": "stream",
     "text": [
      "epoch 30: train loss :: 0.015, dev loss :: 0.011, time elapsed :: 0.2712383270263672\n"
     ]
    },
    {
     "name": "stderr",
     "output_type": "stream",
     "text": [
      "train-31: 100%|██████████| 63/63 [00:00<00:00, 309.61it/s]\n",
      "eval: 100%|██████████| 63/63 [00:00<00:00, 1271.68it/s]\n"
     ]
    },
    {
     "name": "stdout",
     "output_type": "stream",
     "text": [
      "epoch 31: train loss :: 0.015, dev loss :: 0.011, time elapsed :: 0.2589998245239258\n"
     ]
    },
    {
     "name": "stderr",
     "output_type": "stream",
     "text": [
      "train-32: 100%|██████████| 63/63 [00:00<00:00, 302.44it/s]\n",
      "eval: 100%|██████████| 63/63 [00:00<00:00, 1434.95it/s]\n"
     ]
    },
    {
     "name": "stdout",
     "output_type": "stream",
     "text": [
      "epoch 32: train loss :: 0.014, dev loss :: 0.010, time elapsed :: 0.25719594955444336\n"
     ]
    },
    {
     "name": "stderr",
     "output_type": "stream",
     "text": [
      "train-33: 100%|██████████| 63/63 [00:00<00:00, 327.39it/s]\n",
      "eval: 100%|██████████| 63/63 [00:00<00:00, 1121.13it/s]\n"
     ]
    },
    {
     "name": "stdout",
     "output_type": "stream",
     "text": [
      "epoch 33: train loss :: 0.013, dev loss :: 0.010, time elapsed :: 0.25362396240234375\n"
     ]
    },
    {
     "name": "stderr",
     "output_type": "stream",
     "text": [
      "train-34: 100%|██████████| 63/63 [00:00<00:00, 291.13it/s]\n",
      "eval: 100%|██████████| 63/63 [00:00<00:00, 1166.30it/s]\n"
     ]
    },
    {
     "name": "stdout",
     "output_type": "stream",
     "text": [
      "epoch 34: train loss :: 0.013, dev loss :: 0.010, time elapsed :: 0.27489805221557617\n"
     ]
    },
    {
     "name": "stderr",
     "output_type": "stream",
     "text": [
      "train-35: 100%|██████████| 63/63 [00:00<00:00, 286.38it/s]\n",
      "eval: 100%|██████████| 63/63 [00:00<00:00, 1259.92it/s]\n"
     ]
    },
    {
     "name": "stdout",
     "output_type": "stream",
     "text": [
      "epoch 35: train loss :: 0.012, dev loss :: 0.010, time elapsed :: 0.2749767303466797\n"
     ]
    },
    {
     "name": "stderr",
     "output_type": "stream",
     "text": [
      "train-36: 100%|██████████| 63/63 [00:00<00:00, 287.29it/s]\n",
      "eval: 100%|██████████| 63/63 [00:00<00:00, 1461.70it/s]\n"
     ]
    },
    {
     "name": "stdout",
     "output_type": "stream",
     "text": [
      "epoch 36: train loss :: 0.012, dev loss :: 0.009, time elapsed :: 0.26729345321655273\n"
     ]
    },
    {
     "name": "stderr",
     "output_type": "stream",
     "text": [
      "train-37: 100%|██████████| 63/63 [00:00<00:00, 289.40it/s]\n",
      "eval: 100%|██████████| 63/63 [00:00<00:00, 1289.57it/s]\n"
     ]
    },
    {
     "name": "stdout",
     "output_type": "stream",
     "text": [
      "epoch 37: train loss :: 0.012, dev loss :: 0.009, time elapsed :: 0.2705554962158203\n"
     ]
    },
    {
     "name": "stderr",
     "output_type": "stream",
     "text": [
      "train-38: 100%|██████████| 63/63 [00:00<00:00, 305.00it/s]\n",
      "eval: 100%|██████████| 63/63 [00:00<00:00, 1500.26it/s]\n"
     ]
    },
    {
     "name": "stdout",
     "output_type": "stream",
     "text": [
      "epoch 38: train loss :: 0.012, dev loss :: 0.009, time elapsed :: 0.25356316566467285\n"
     ]
    },
    {
     "name": "stderr",
     "output_type": "stream",
     "text": [
      "train-39: 100%|██████████| 63/63 [00:00<00:00, 230.58it/s]\n",
      "eval: 100%|██████████| 63/63 [00:00<00:00, 276.84it/s]\n"
     ]
    },
    {
     "name": "stdout",
     "output_type": "stream",
     "text": [
      "epoch 39: train loss :: 0.011, dev loss :: 0.008, time elapsed :: 0.5108118057250977\n"
     ]
    },
    {
     "name": "stderr",
     "output_type": "stream",
     "text": [
      "train-40: 100%|██████████| 63/63 [00:00<00:00, 67.55it/s]\n",
      "eval: 100%|██████████| 63/63 [00:00<00:00, 342.93it/s]\n"
     ]
    },
    {
     "name": "stdout",
     "output_type": "stream",
     "text": [
      "epoch 40: train loss :: 0.011, dev loss :: 0.008, time elapsed :: 1.1962904930114746\n"
     ]
    },
    {
     "name": "stderr",
     "output_type": "stream",
     "text": [
      "train-41: 100%|██████████| 63/63 [00:00<00:00, 73.36it/s]\n",
      "eval: 100%|██████████| 63/63 [00:00<00:00, 466.06it/s]\n"
     ]
    },
    {
     "name": "stdout",
     "output_type": "stream",
     "text": [
      "epoch 41: train loss :: 0.011, dev loss :: 0.008, time elapsed :: 1.0423614978790283\n"
     ]
    },
    {
     "name": "stderr",
     "output_type": "stream",
     "text": [
      "train-42: 100%|██████████| 63/63 [00:00<00:00, 71.16it/s]\n",
      "eval: 100%|██████████| 63/63 [00:00<00:00, 476.67it/s]\n"
     ]
    },
    {
     "name": "stdout",
     "output_type": "stream",
     "text": [
      "epoch 42: train loss :: 0.011, dev loss :: 0.008, time elapsed :: 1.0654242038726807\n"
     ]
    },
    {
     "name": "stderr",
     "output_type": "stream",
     "text": [
      "train-43: 100%|██████████| 63/63 [00:00<00:00, 68.17it/s]\n",
      "eval: 100%|██████████| 63/63 [00:00<00:00, 353.43it/s]\n"
     ]
    },
    {
     "name": "stdout",
     "output_type": "stream",
     "text": [
      "epoch 43: train loss :: 0.010, dev loss :: 0.008, time elapsed :: 1.1139962673187256\n"
     ]
    },
    {
     "name": "stderr",
     "output_type": "stream",
     "text": [
      "train-44: 100%|██████████| 63/63 [00:00<00:00, 72.94it/s]\n",
      "eval: 100%|██████████| 63/63 [00:00<00:00, 412.05it/s]\n"
     ]
    },
    {
     "name": "stdout",
     "output_type": "stream",
     "text": [
      "epoch 44: train loss :: 0.010, dev loss :: 0.008, time elapsed :: 1.0301506519317627\n"
     ]
    },
    {
     "name": "stderr",
     "output_type": "stream",
     "text": [
      "train-45: 100%|██████████| 63/63 [00:00<00:00, 73.12it/s]\n",
      "eval: 100%|██████████| 63/63 [00:00<00:00, 398.84it/s]\n"
     ]
    },
    {
     "name": "stdout",
     "output_type": "stream",
     "text": [
      "epoch 45: train loss :: 0.010, dev loss :: 0.008, time elapsed :: 1.0319881439208984\n"
     ]
    },
    {
     "name": "stderr",
     "output_type": "stream",
     "text": [
      "train-46: 100%|██████████| 63/63 [00:00<00:00, 76.05it/s]\n",
      "eval: 100%|██████████| 63/63 [00:00<00:00, 347.41it/s]\n"
     ]
    },
    {
     "name": "stdout",
     "output_type": "stream",
     "text": [
      "epoch 46: train loss :: 0.010, dev loss :: 0.008, time elapsed :: 1.0267071723937988\n"
     ]
    },
    {
     "name": "stderr",
     "output_type": "stream",
     "text": [
      "train-47: 100%|██████████| 63/63 [00:00<00:00, 71.76it/s]\n",
      "eval: 100%|██████████| 63/63 [00:00<00:00, 374.78it/s]\n"
     ]
    },
    {
     "name": "stdout",
     "output_type": "stream",
     "text": [
      "epoch 47: train loss :: 0.010, dev loss :: 0.008, time elapsed :: 1.0618884563446045\n"
     ]
    },
    {
     "name": "stderr",
     "output_type": "stream",
     "text": [
      "train-48: 100%|██████████| 63/63 [00:00<00:00, 85.79it/s] \n",
      "eval: 100%|██████████| 63/63 [00:00<00:00, 483.54it/s]\n"
     ]
    },
    {
     "name": "stdout",
     "output_type": "stream",
     "text": [
      "epoch 48: train loss :: 0.010, dev loss :: 0.008, time elapsed :: 0.8766448497772217\n"
     ]
    },
    {
     "name": "stderr",
     "output_type": "stream",
     "text": [
      "train-49: 100%|██████████| 63/63 [00:00<00:00, 69.61it/s]\n",
      "eval: 100%|██████████| 63/63 [00:00<00:00, 411.92it/s]\n"
     ]
    },
    {
     "name": "stdout",
     "output_type": "stream",
     "text": [
      "epoch 49: train loss :: 0.010, dev loss :: 0.008, time elapsed :: 1.0769665241241455\n"
     ]
    },
    {
     "name": "stderr",
     "output_type": "stream",
     "text": [
      "train-50: 100%|██████████| 63/63 [00:00<00:00, 67.94it/s]\n",
      "eval: 100%|██████████| 63/63 [00:00<00:00, 465.44it/s]\n"
     ]
    },
    {
     "name": "stdout",
     "output_type": "stream",
     "text": [
      "epoch 50: train loss :: 0.010, dev loss :: 0.008, time elapsed :: 1.1674747467041016\n"
     ]
    },
    {
     "name": "stderr",
     "output_type": "stream",
     "text": [
      "train-51: 100%|██████████| 63/63 [00:00<00:00, 82.93it/s] \n",
      "eval: 100%|██████████| 63/63 [00:00<00:00, 354.81it/s]\n"
     ]
    },
    {
     "name": "stdout",
     "output_type": "stream",
     "text": [
      "epoch 51: train loss :: 0.010, dev loss :: 0.007, time elapsed :: 1.0076329708099365\n"
     ]
    },
    {
     "name": "stderr",
     "output_type": "stream",
     "text": [
      "train-52: 100%|██████████| 63/63 [00:00<00:00, 64.17it/s]\n",
      "eval: 100%|██████████| 63/63 [00:00<00:00, 424.48it/s]\n"
     ]
    },
    {
     "name": "stdout",
     "output_type": "stream",
     "text": [
      "epoch 52: train loss :: 0.010, dev loss :: 0.007, time elapsed :: 1.1415951251983643\n"
     ]
    },
    {
     "name": "stderr",
     "output_type": "stream",
     "text": [
      "train-53: 100%|██████████| 63/63 [00:00<00:00, 80.46it/s]\n",
      "eval: 100%|██████████| 63/63 [00:00<00:00, 529.51it/s]\n"
     ]
    },
    {
     "name": "stdout",
     "output_type": "stream",
     "text": [
      "epoch 53: train loss :: 0.010, dev loss :: 0.008, time elapsed :: 0.9079484939575195\n"
     ]
    },
    {
     "name": "stderr",
     "output_type": "stream",
     "text": [
      "train-54: 100%|██████████| 63/63 [00:01<00:00, 59.24it/s]\n",
      "eval: 100%|██████████| 63/63 [00:00<00:00, 577.22it/s]\n"
     ]
    },
    {
     "name": "stdout",
     "output_type": "stream",
     "text": [
      "epoch 54: train loss :: 0.009, dev loss :: 0.007, time elapsed :: 1.1815168857574463\n"
     ]
    },
    {
     "name": "stderr",
     "output_type": "stream",
     "text": [
      "train-55: 100%|██████████| 63/63 [00:00<00:00, 105.87it/s]\n",
      "eval: 100%|██████████| 63/63 [00:00<00:00, 344.87it/s]\n"
     ]
    },
    {
     "name": "stdout",
     "output_type": "stream",
     "text": [
      "epoch 55: train loss :: 0.009, dev loss :: 0.007, time elapsed :: 0.8237740993499756\n"
     ]
    },
    {
     "name": "stderr",
     "output_type": "stream",
     "text": [
      "train-56: 100%|██████████| 63/63 [00:00<00:00, 75.11it/s] \n",
      "eval: 100%|██████████| 63/63 [00:00<00:00, 348.41it/s]\n"
     ]
    },
    {
     "name": "stdout",
     "output_type": "stream",
     "text": [
      "epoch 56: train loss :: 0.009, dev loss :: 0.007, time elapsed :: 1.0419731140136719\n"
     ]
    },
    {
     "name": "stderr",
     "output_type": "stream",
     "text": [
      "train-57: 100%|██████████| 63/63 [00:00<00:00, 86.56it/s]\n",
      "eval: 100%|██████████| 63/63 [00:00<00:00, 482.07it/s]\n"
     ]
    },
    {
     "name": "stdout",
     "output_type": "stream",
     "text": [
      "epoch 57: train loss :: 0.009, dev loss :: 0.007, time elapsed :: 0.8777756690979004\n"
     ]
    },
    {
     "name": "stderr",
     "output_type": "stream",
     "text": [
      "train-58: 100%|██████████| 63/63 [00:00<00:00, 115.20it/s]\n",
      "eval: 100%|██████████| 63/63 [00:00<00:00, 442.05it/s]\n"
     ]
    },
    {
     "name": "stdout",
     "output_type": "stream",
     "text": [
      "epoch 58: train loss :: 0.009, dev loss :: 0.007, time elapsed :: 0.6953163146972656\n"
     ]
    },
    {
     "name": "stderr",
     "output_type": "stream",
     "text": [
      "train-59: 100%|██████████| 63/63 [00:00<00:00, 103.42it/s]\n",
      "eval: 100%|██████████| 63/63 [00:00<00:00, 535.35it/s]\n"
     ]
    },
    {
     "name": "stdout",
     "output_type": "stream",
     "text": [
      "epoch 59: train loss :: 0.009, dev loss :: 0.007, time elapsed :: 0.7347421646118164\n"
     ]
    },
    {
     "name": "stderr",
     "output_type": "stream",
     "text": [
      "train-60: 100%|██████████| 63/63 [00:00<00:00, 109.47it/s]\n",
      "eval: 100%|██████████| 63/63 [00:00<00:00, 606.42it/s]\n"
     ]
    },
    {
     "name": "stdout",
     "output_type": "stream",
     "text": [
      "epoch 60: train loss :: 0.009, dev loss :: 0.007, time elapsed :: 0.6857297420501709\n"
     ]
    },
    {
     "name": "stderr",
     "output_type": "stream",
     "text": [
      "train-61: 100%|██████████| 63/63 [00:00<00:00, 210.14it/s]\n",
      "eval: 100%|██████████| 63/63 [00:00<00:00, 1071.21it/s]\n"
     ]
    },
    {
     "name": "stdout",
     "output_type": "stream",
     "text": [
      "epoch 61: train loss :: 0.009, dev loss :: 0.007, time elapsed :: 0.3628263473510742\n"
     ]
    },
    {
     "name": "stderr",
     "output_type": "stream",
     "text": [
      "train-62: 100%|██████████| 63/63 [00:00<00:00, 234.40it/s]\n",
      "eval: 100%|██████████| 63/63 [00:00<00:00, 1216.08it/s]\n"
     ]
    },
    {
     "name": "stdout",
     "output_type": "stream",
     "text": [
      "epoch 62: train loss :: 0.009, dev loss :: 0.007, time elapsed :: 0.3246147632598877\n"
     ]
    },
    {
     "name": "stderr",
     "output_type": "stream",
     "text": [
      "train-63: 100%|██████████| 63/63 [00:00<00:00, 264.40it/s]\n",
      "eval: 100%|██████████| 63/63 [00:00<00:00, 1434.71it/s]\n"
     ]
    },
    {
     "name": "stdout",
     "output_type": "stream",
     "text": [
      "epoch 63: train loss :: 0.009, dev loss :: 0.007, time elapsed :: 0.2871708869934082\n"
     ]
    },
    {
     "name": "stderr",
     "output_type": "stream",
     "text": [
      "train-64: 100%|██████████| 63/63 [00:00<00:00, 289.41it/s]\n",
      "eval: 100%|██████████| 63/63 [00:00<00:00, 1492.92it/s]\n"
     ]
    },
    {
     "name": "stdout",
     "output_type": "stream",
     "text": [
      "epoch 64: train loss :: 0.009, dev loss :: 0.007, time elapsed :: 0.26424312591552734\n"
     ]
    },
    {
     "name": "stderr",
     "output_type": "stream",
     "text": [
      "train-65: 100%|██████████| 63/63 [00:00<00:00, 242.50it/s]\n",
      "eval: 100%|██████████| 63/63 [00:00<00:00, 1127.11it/s]\n"
     ]
    },
    {
     "name": "stdout",
     "output_type": "stream",
     "text": [
      "epoch 65: train loss :: 0.009, dev loss :: 0.007, time elapsed :: 0.3219618797302246\n"
     ]
    },
    {
     "name": "stderr",
     "output_type": "stream",
     "text": [
      "train-66: 100%|██████████| 63/63 [00:00<00:00, 280.43it/s]\n",
      "eval: 100%|██████████| 63/63 [00:00<00:00, 1367.28it/s]\n"
     ]
    },
    {
     "name": "stdout",
     "output_type": "stream",
     "text": [
      "epoch 66: train loss :: 0.009, dev loss :: 0.007, time elapsed :: 0.2767517566680908\n"
     ]
    },
    {
     "name": "stderr",
     "output_type": "stream",
     "text": [
      "train-67: 100%|██████████| 63/63 [00:00<00:00, 315.58it/s]\n",
      "eval: 100%|██████████| 63/63 [00:00<00:00, 1218.46it/s]\n"
     ]
    },
    {
     "name": "stdout",
     "output_type": "stream",
     "text": [
      "epoch 67: train loss :: 0.009, dev loss :: 0.007, time elapsed :: 0.25731611251831055\n"
     ]
    },
    {
     "name": "stderr",
     "output_type": "stream",
     "text": [
      "train-68: 100%|██████████| 63/63 [00:00<00:00, 221.92it/s]\n",
      "eval: 100%|██████████| 63/63 [00:00<00:00, 1372.27it/s]\n"
     ]
    },
    {
     "name": "stdout",
     "output_type": "stream",
     "text": [
      "epoch 68: train loss :: 0.009, dev loss :: 0.007, time elapsed :: 0.335784912109375\n"
     ]
    },
    {
     "name": "stderr",
     "output_type": "stream",
     "text": [
      "train-69: 100%|██████████| 63/63 [00:00<00:00, 271.29it/s]\n",
      "eval: 100%|██████████| 63/63 [00:00<00:00, 1464.56it/s]\n"
     ]
    },
    {
     "name": "stdout",
     "output_type": "stream",
     "text": [
      "epoch 69: train loss :: 0.009, dev loss :: 0.007, time elapsed :: 0.2802708148956299\n"
     ]
    },
    {
     "name": "stderr",
     "output_type": "stream",
     "text": [
      "train-70: 100%|██████████| 63/63 [00:00<00:00, 289.39it/s]\n",
      "eval: 100%|██████████| 63/63 [00:00<00:00, 1471.48it/s]\n"
     ]
    },
    {
     "name": "stdout",
     "output_type": "stream",
     "text": [
      "epoch 70: train loss :: 0.009, dev loss :: 0.007, time elapsed :: 0.2635331153869629\n"
     ]
    },
    {
     "name": "stderr",
     "output_type": "stream",
     "text": [
      "train-71: 100%|██████████| 63/63 [00:00<00:00, 312.06it/s]\n",
      "eval: 100%|██████████| 63/63 [00:00<00:00, 1497.33it/s]\n"
     ]
    },
    {
     "name": "stdout",
     "output_type": "stream",
     "text": [
      "epoch 71: train loss :: 0.009, dev loss :: 0.007, time elapsed :: 0.2489016056060791\n"
     ]
    },
    {
     "name": "stderr",
     "output_type": "stream",
     "text": [
      "train-72: 100%|██████████| 63/63 [00:00<00:00, 333.98it/s]\n",
      "eval: 100%|██████████| 63/63 [00:00<00:00, 1507.59it/s]\n"
     ]
    },
    {
     "name": "stdout",
     "output_type": "stream",
     "text": [
      "epoch 72: train loss :: 0.009, dev loss :: 0.007, time elapsed :: 0.23543357849121094\n"
     ]
    },
    {
     "name": "stderr",
     "output_type": "stream",
     "text": [
      "train-73: 100%|██████████| 63/63 [00:00<00:00, 274.86it/s]\n",
      "eval: 100%|██████████| 63/63 [00:00<00:00, 1496.61it/s]\n"
     ]
    },
    {
     "name": "stdout",
     "output_type": "stream",
     "text": [
      "epoch 73: train loss :: 0.009, dev loss :: 0.007, time elapsed :: 0.27629923820495605\n"
     ]
    },
    {
     "name": "stderr",
     "output_type": "stream",
     "text": [
      "train-74: 100%|██████████| 63/63 [00:00<00:00, 298.44it/s]\n",
      "eval: 100%|██████████| 63/63 [00:00<00:00, 1337.70it/s]\n"
     ]
    },
    {
     "name": "stdout",
     "output_type": "stream",
     "text": [
      "epoch 74: train loss :: 0.009, dev loss :: 0.007, time elapsed :: 0.26079893112182617\n"
     ]
    },
    {
     "name": "stderr",
     "output_type": "stream",
     "text": [
      "train-75: 100%|██████████| 63/63 [00:00<00:00, 320.69it/s]\n",
      "eval: 100%|██████████| 63/63 [00:00<00:00, 1170.12it/s]\n"
     ]
    },
    {
     "name": "stdout",
     "output_type": "stream",
     "text": [
      "epoch 75: train loss :: 0.009, dev loss :: 0.007, time elapsed :: 0.2542078495025635\n"
     ]
    },
    {
     "name": "stderr",
     "output_type": "stream",
     "text": [
      "train-76: 100%|██████████| 63/63 [00:00<00:00, 271.71it/s]\n",
      "eval: 100%|██████████| 63/63 [00:00<00:00, 1340.37it/s]\n"
     ]
    },
    {
     "name": "stdout",
     "output_type": "stream",
     "text": [
      "epoch 76: train loss :: 0.009, dev loss :: 0.007, time elapsed :: 0.284468412399292\n"
     ]
    },
    {
     "name": "stderr",
     "output_type": "stream",
     "text": [
      "train-77: 100%|██████████| 63/63 [00:00<00:00, 265.48it/s]\n",
      "eval: 100%|██████████| 63/63 [00:00<00:00, 1102.88it/s]\n"
     ]
    },
    {
     "name": "stdout",
     "output_type": "stream",
     "text": [
      "epoch 77: train loss :: 0.009, dev loss :: 0.007, time elapsed :: 0.29747962951660156\n"
     ]
    },
    {
     "name": "stderr",
     "output_type": "stream",
     "text": [
      "train-78: 100%|██████████| 63/63 [00:00<00:00, 259.12it/s]\n",
      "eval: 100%|██████████| 63/63 [00:00<00:00, 1010.91it/s]\n"
     ]
    },
    {
     "name": "stdout",
     "output_type": "stream",
     "text": [
      "epoch 78: train loss :: 0.009, dev loss :: 0.007, time elapsed :: 0.3143899440765381\n"
     ]
    },
    {
     "name": "stderr",
     "output_type": "stream",
     "text": [
      "train-79: 100%|██████████| 63/63 [00:00<00:00, 322.02it/s]\n",
      "eval: 100%|██████████| 63/63 [00:00<00:00, 1547.02it/s]\n"
     ]
    },
    {
     "name": "stdout",
     "output_type": "stream",
     "text": [
      "epoch 79: train loss :: 0.009, dev loss :: 0.007, time elapsed :: 0.23934674263000488\n"
     ]
    },
    {
     "name": "stderr",
     "output_type": "stream",
     "text": [
      "train-80: 100%|██████████| 63/63 [00:00<00:00, 308.24it/s]\n",
      "eval: 100%|██████████| 63/63 [00:00<00:00, 1536.34it/s]\n"
     ]
    },
    {
     "name": "stdout",
     "output_type": "stream",
     "text": [
      "epoch 80: train loss :: 0.009, dev loss :: 0.007, time elapsed :: 0.2494351863861084\n"
     ]
    },
    {
     "name": "stderr",
     "output_type": "stream",
     "text": [
      "train-81: 100%|██████████| 63/63 [00:00<00:00, 305.27it/s]\n",
      "eval: 100%|██████████| 63/63 [00:00<00:00, 1475.17it/s]\n"
     ]
    },
    {
     "name": "stdout",
     "output_type": "stream",
     "text": [
      "epoch 81: train loss :: 0.009, dev loss :: 0.007, time elapsed :: 0.25211620330810547\n"
     ]
    },
    {
     "name": "stderr",
     "output_type": "stream",
     "text": [
      "train-82: 100%|██████████| 63/63 [00:00<00:00, 321.42it/s]\n",
      "eval: 100%|██████████| 63/63 [00:00<00:00, 1432.77it/s]\n"
     ]
    },
    {
     "name": "stdout",
     "output_type": "stream",
     "text": [
      "epoch 82: train loss :: 0.009, dev loss :: 0.007, time elapsed :: 0.24700117111206055\n"
     ]
    },
    {
     "name": "stderr",
     "output_type": "stream",
     "text": [
      "train-83: 100%|██████████| 63/63 [00:00<00:00, 271.31it/s]\n",
      "eval: 100%|██████████| 63/63 [00:00<00:00, 1369.16it/s]\n"
     ]
    },
    {
     "name": "stdout",
     "output_type": "stream",
     "text": [
      "epoch 83: train loss :: 0.009, dev loss :: 0.007, time elapsed :: 0.281205415725708\n"
     ]
    },
    {
     "name": "stderr",
     "output_type": "stream",
     "text": [
      "train-84: 100%|██████████| 63/63 [00:00<00:00, 299.66it/s]\n",
      "eval: 100%|██████████| 63/63 [00:00<00:00, 1406.23it/s]\n"
     ]
    },
    {
     "name": "stdout",
     "output_type": "stream",
     "text": [
      "epoch 84: train loss :: 0.009, dev loss :: 0.007, time elapsed :: 0.25805211067199707\n"
     ]
    },
    {
     "name": "stderr",
     "output_type": "stream",
     "text": [
      "train-85: 100%|██████████| 63/63 [00:00<00:00, 243.30it/s]\n",
      "eval: 100%|██████████| 63/63 [00:00<00:00, 1264.74it/s]\n"
     ]
    },
    {
     "name": "stdout",
     "output_type": "stream",
     "text": [
      "epoch 85: train loss :: 0.009, dev loss :: 0.007, time elapsed :: 0.312732458114624\n"
     ]
    },
    {
     "name": "stderr",
     "output_type": "stream",
     "text": [
      "train-86: 100%|██████████| 63/63 [00:00<00:00, 277.76it/s]\n",
      "eval: 100%|██████████| 63/63 [00:00<00:00, 1471.80it/s]\n"
     ]
    },
    {
     "name": "stdout",
     "output_type": "stream",
     "text": [
      "epoch 86: train loss :: 0.009, dev loss :: 0.007, time elapsed :: 0.273639440536499\n"
     ]
    },
    {
     "name": "stderr",
     "output_type": "stream",
     "text": [
      "train-87: 100%|██████████| 63/63 [00:00<00:00, 268.68it/s]\n",
      "eval: 100%|██████████| 63/63 [00:00<00:00, 1309.52it/s]\n"
     ]
    },
    {
     "name": "stdout",
     "output_type": "stream",
     "text": [
      "epoch 87: train loss :: 0.009, dev loss :: 0.007, time elapsed :: 0.28758716583251953\n"
     ]
    },
    {
     "name": "stderr",
     "output_type": "stream",
     "text": [
      "train-88: 100%|██████████| 63/63 [00:00<00:00, 291.90it/s]\n",
      "eval: 100%|██████████| 63/63 [00:00<00:00, 1247.19it/s]\n"
     ]
    },
    {
     "name": "stdout",
     "output_type": "stream",
     "text": [
      "epoch 88: train loss :: 0.009, dev loss :: 0.007, time elapsed :: 0.2704041004180908\n"
     ]
    },
    {
     "name": "stderr",
     "output_type": "stream",
     "text": [
      "train-89: 100%|██████████| 63/63 [00:00<00:00, 262.05it/s]\n",
      "eval: 100%|██████████| 63/63 [00:00<00:00, 1465.17it/s]\n"
     ]
    },
    {
     "name": "stdout",
     "output_type": "stream",
     "text": [
      "epoch 89: train loss :: 0.009, dev loss :: 0.007, time elapsed :: 0.2885127067565918\n"
     ]
    },
    {
     "name": "stderr",
     "output_type": "stream",
     "text": [
      "train-90: 100%|██████████| 63/63 [00:00<00:00, 277.38it/s]\n",
      "eval: 100%|██████████| 63/63 [00:00<00:00, 1243.21it/s]\n"
     ]
    },
    {
     "name": "stdout",
     "output_type": "stream",
     "text": [
      "epoch 90: train loss :: 0.009, dev loss :: 0.007, time elapsed :: 0.28269028663635254\n"
     ]
    },
    {
     "name": "stderr",
     "output_type": "stream",
     "text": [
      "train-91: 100%|██████████| 63/63 [00:00<00:00, 219.04it/s]\n",
      "eval: 100%|██████████| 63/63 [00:00<00:00, 1398.42it/s]\n"
     ]
    },
    {
     "name": "stdout",
     "output_type": "stream",
     "text": [
      "epoch 91: train loss :: 0.009, dev loss :: 0.007, time elapsed :: 0.3396596908569336\n"
     ]
    },
    {
     "name": "stderr",
     "output_type": "stream",
     "text": [
      "train-92: 100%|██████████| 63/63 [00:00<00:00, 302.71it/s]\n",
      "eval: 100%|██████████| 63/63 [00:00<00:00, 1243.80it/s]\n"
     ]
    },
    {
     "name": "stdout",
     "output_type": "stream",
     "text": [
      "epoch 92: train loss :: 0.009, dev loss :: 0.007, time elapsed :: 0.26393556594848633\n"
     ]
    },
    {
     "name": "stderr",
     "output_type": "stream",
     "text": [
      "train-93: 100%|██████████| 63/63 [00:00<00:00, 295.38it/s]\n",
      "eval: 100%|██████████| 63/63 [00:00<00:00, 1171.44it/s]\n"
     ]
    },
    {
     "name": "stdout",
     "output_type": "stream",
     "text": [
      "epoch 93: train loss :: 0.009, dev loss :: 0.007, time elapsed :: 0.2718801498413086\n"
     ]
    },
    {
     "name": "stderr",
     "output_type": "stream",
     "text": [
      "train-94: 100%|██████████| 63/63 [00:00<00:00, 288.93it/s]\n",
      "eval: 100%|██████████| 63/63 [00:00<00:00, 1340.59it/s]\n"
     ]
    },
    {
     "name": "stdout",
     "output_type": "stream",
     "text": [
      "epoch 94: train loss :: 0.009, dev loss :: 0.007, time elapsed :: 0.27013421058654785\n"
     ]
    },
    {
     "name": "stderr",
     "output_type": "stream",
     "text": [
      "train-95: 100%|██████████| 63/63 [00:00<00:00, 249.91it/s]\n",
      "eval: 100%|██████████| 63/63 [00:00<00:00, 1418.54it/s]\n"
     ]
    },
    {
     "name": "stdout",
     "output_type": "stream",
     "text": [
      "epoch 95: train loss :: 0.009, dev loss :: 0.007, time elapsed :: 0.3005187511444092\n"
     ]
    },
    {
     "name": "stderr",
     "output_type": "stream",
     "text": [
      "train-96: 100%|██████████| 63/63 [00:00<00:00, 257.31it/s]\n",
      "eval: 100%|██████████| 63/63 [00:00<00:00, 1465.95it/s]\n"
     ]
    },
    {
     "name": "stdout",
     "output_type": "stream",
     "text": [
      "epoch 96: train loss :: 0.009, dev loss :: 0.007, time elapsed :: 0.29173779487609863\n"
     ]
    },
    {
     "name": "stderr",
     "output_type": "stream",
     "text": [
      "train-97: 100%|██████████| 63/63 [00:00<00:00, 240.50it/s]\n",
      "eval: 100%|██████████| 63/63 [00:00<00:00, 1281.08it/s]\n"
     ]
    },
    {
     "name": "stdout",
     "output_type": "stream",
     "text": [
      "epoch 97: train loss :: 0.009, dev loss :: 0.007, time elapsed :: 0.31621265411376953\n"
     ]
    },
    {
     "name": "stderr",
     "output_type": "stream",
     "text": [
      "train-98: 100%|██████████| 63/63 [00:00<00:00, 251.79it/s]\n",
      "eval: 100%|██████████| 63/63 [00:00<00:00, 1336.87it/s]\n"
     ]
    },
    {
     "name": "stdout",
     "output_type": "stream",
     "text": [
      "epoch 98: train loss :: 0.009, dev loss :: 0.007, time elapsed :: 0.3023200035095215\n"
     ]
    },
    {
     "name": "stderr",
     "output_type": "stream",
     "text": [
      "train-99: 100%|██████████| 63/63 [00:00<00:00, 287.22it/s]\n",
      "eval: 100%|██████████| 63/63 [00:00<00:00, 969.10it/s]"
     ]
    },
    {
     "name": "stdout",
     "output_type": "stream",
     "text": [
      "epoch 99: train loss :: 0.009, dev loss :: 0.007, time elapsed :: 0.2883620262145996\n",
      "training finished, total time :: 43.49079346656799\n"
     ]
    },
    {
     "name": "stderr",
     "output_type": "stream",
     "text": [
      "\n"
     ]
    }
   ],
   "source": [
    "model = VAEDense(1, (5, 5), 10, hidden_layer_sizes=[50, 100])\n",
    "train_dataset = VolSurfaceDataSet(data[:4000], model.seq_len)\n",
    "train_dataloader = DataLoader(train_dataset, shuffle=False, batch_size=64)\n",
    "valid_dataset = VolSurfaceDataSet(data[4000:5000], model.seq_len)\n",
    "valid_dataloader = DataLoader(valid_dataset, shuffle=False, batch_size=16)\n",
    "test_dataset = VolSurfaceDataSet(data[5000:], model.seq_len)\n",
    "test_dataloader = DataLoader(test_dataset, shuffle=False, batch_size=16)\n",
    "train(model, train_dataloader, valid_dataloader, model_dir=\"test\", file_prefix=\"dense-50-100\")"
   ]
  },
  {
   "cell_type": "code",
   "execution_count": 17,
   "metadata": {},
   "outputs": [
    {
     "name": "stderr",
     "output_type": "stream",
     "text": [
      "eval: 100%|██████████| 63/63 [00:00<00:00, 1231.09it/s]\n",
      "eval: 100%|██████████| 34/34 [00:00<00:00, 1462.93it/s]\n"
     ]
    },
    {
     "name": "stdout",
     "output_type": "stream",
     "text": [
      "dev loss: 0.007, test_loss: 0.046\n"
     ]
    }
   ],
   "source": [
    "model2 = VAEDense(1, (5, 5), 10, hidden_layer_sizes=[50, 100])\n",
    "test(model2, valid_dataloader, test_dataloader, model_dir=\"test\", file_prefix=\"dense-50-100\")"
   ]
  },
  {
   "cell_type": "code",
   "execution_count": 18,
   "metadata": {},
   "outputs": [
    {
     "name": "stdout",
     "output_type": "stream",
     "text": [
      "tensor([[[0.7246, 0.3798, 0.2052, 0.1213, 0.0000],\n",
      "         [0.2381, 0.2589, 0.2134, 0.1541, 0.1655],\n",
      "         [0.4134, 0.2903, 0.2190, 0.1698, 0.1432],\n",
      "         [0.3122, 0.2404, 0.2296, 0.1941, 0.1645],\n",
      "         [0.2893, 0.3088, 0.2353, 0.2096, 0.1890]]], device='cuda:0')\n",
      "tensor([[[[ 0.0387,  0.1472,  0.2267,  0.0832,  0.0510],\n",
      "          [ 0.1486,  0.0712,  0.1472,  0.0783, -0.0488],\n",
      "          [ 0.1491,  0.1568,  0.0265,  0.0629,  0.0689],\n",
      "          [ 0.1172,  0.1982,  0.1145,  0.1604,  0.1085],\n",
      "          [ 0.0500,  0.1530,  0.0784,  0.0279,  0.0994]]]], device='cuda:0',\n",
      "       grad_fn=<ViewBackward0>)\n"
     ]
    }
   ],
   "source": [
    "x = torch.from_numpy(data[10].reshape(1, 5, 5)).float().to(model2.device)\n",
    "y = model2.forward(x)\n",
    "print(x)\n",
    "print(y)"
   ]
  },
  {
   "cell_type": "code",
   "execution_count": 19,
   "metadata": {},
   "outputs": [
    {
     "name": "stdout",
     "output_type": "stream",
     "text": [
      "tensor([[[3.5943e-01, 3.1498e-01, 1.4694e-01, 4.9889e-02, 1.6969e-15],\n",
      "         [3.8061e-01, 2.8139e-01, 1.6722e-01, 9.2158e-02, 2.3392e-16],\n",
      "         [3.5086e-01, 2.7431e-01, 1.8484e-01, 1.2303e-01, 1.8133e-01],\n",
      "         [3.2482e-01, 2.6626e-01, 2.0181e-01, 1.4523e-01, 1.3905e-01],\n",
      "         [2.9324e-01, 2.5399e-01, 2.1526e-01, 1.7820e-01, 1.5694e-01]]],\n",
      "       device='cuda:0')\n",
      "tensor([[[[ 0.0386,  0.1468,  0.2271,  0.0836,  0.0518],\n",
      "          [ 0.1485,  0.0707,  0.1477,  0.0778, -0.0490],\n",
      "          [ 0.1494,  0.1565,  0.0264,  0.0631,  0.0688],\n",
      "          [ 0.1169,  0.1976,  0.1142,  0.1602,  0.1089],\n",
      "          [ 0.0500,  0.1535,  0.0782,  0.0272,  0.0996]]]], device='cuda:0',\n",
      "       grad_fn=<ViewBackward0>)\n"
     ]
    }
   ],
   "source": [
    "x = torch.from_numpy(data[-10].reshape(1, 5, 5)).float().to(model2.device)\n",
    "y = model2.forward(x)\n",
    "print(x)\n",
    "print(y)"
   ]
  },
  {
   "cell_type": "code",
   "execution_count": 20,
   "metadata": {},
   "outputs": [],
   "source": [
    "def plot_surface(original_data: np.ndarray, vae_output: np.ndarray):\n",
    "    fig, ax = plt.subplots(subplot_kw={\"projection\": \"3d\"})\n",
    "    x = [0.7,0.85,1,1.15,1.3]\n",
    "    y = [0.08333,0.25,0.5,1,2]\n",
    "    x, y = np.meshgrid(x, y)\n",
    "\n",
    "    ax.plot_surface(x, y, original_data, cmap=cm.coolwarm, linewidth=0, antialiased=False)\n",
    "    ax.plot_surface(x, y, vae_output, cmap=cm.coolwarm, linewidth=0, antialiased=False)\n",
    "    ax.set_xlabel(\"ttm\")\n",
    "    ax.set_ylabel(\"moneyness\")\n",
    "    plt.show()"
   ]
  },
  {
   "cell_type": "code",
   "execution_count": 21,
   "metadata": {},
   "outputs": [
    {
     "data": {
      "image/png": "[encoded data removed]",
      "text/plain": [
       "<Figure size 640x480 with 1 Axes>"
      ]
     },
     "metadata": {},
     "output_type": "display_data"
    }
   ],
   "source": [
    "x = torch.from_numpy(data[10].reshape(1, 5, 5)).float().to(model2.device)\n",
    "y = model2.forward(x).detach().cpu().numpy().reshape((5,5))\n",
    "plot_surface(data[10], y)"
   ]
  },
  {
   "cell_type": "code",
   "execution_count": 22,
   "metadata": {},
   "outputs": [
    {
     "name": "stderr",
     "output_type": "stream",
     "text": [
      "train-0: 100%|██████████| 63/63 [00:00<00:00, 166.72it/s]\n",
      "eval: 100%|██████████| 34/34 [00:00<00:00, 755.57it/s]\n"
     ]
    },
    {
     "name": "stdout",
     "output_type": "stream",
     "text": [
      "epoch 0: train loss :: 0.047, dev loss :: 0.093, time elapsed :: 0.4318728446960449\n"
     ]
    },
    {
     "name": "stderr",
     "output_type": "stream",
     "text": [
      "train-1: 100%|██████████| 63/63 [00:00<00:00, 185.04it/s]\n",
      "eval: 100%|██████████| 34/34 [00:00<00:00, 467.51it/s]\n"
     ]
    },
    {
     "name": "stdout",
     "output_type": "stream",
     "text": [
      "epoch 1: train loss :: 0.041, dev loss :: 0.087, time elapsed :: 0.41952991485595703\n"
     ]
    },
    {
     "name": "stderr",
     "output_type": "stream",
     "text": [
      "train-2: 100%|██████████| 63/63 [00:00<00:00, 186.28it/s]\n",
      "eval: 100%|██████████| 34/34 [00:00<00:00, 485.67it/s]\n"
     ]
    },
    {
     "name": "stdout",
     "output_type": "stream",
     "text": [
      "epoch 2: train loss :: 0.035, dev loss :: 0.079, time elapsed :: 0.4163651466369629\n"
     ]
    },
    {
     "name": "stderr",
     "output_type": "stream",
     "text": [
      "train-3: 100%|██████████| 63/63 [00:00<00:00, 186.05it/s]\n",
      "eval: 100%|██████████| 34/34 [00:00<00:00, 549.81it/s]\n"
     ]
    },
    {
     "name": "stdout",
     "output_type": "stream",
     "text": [
      "epoch 3: train loss :: 0.029, dev loss :: 0.071, time elapsed :: 0.4073019027709961\n"
     ]
    },
    {
     "name": "stderr",
     "output_type": "stream",
     "text": [
      "train-4: 100%|██████████| 63/63 [00:00<00:00, 215.36it/s]\n",
      "eval: 100%|██████████| 34/34 [00:00<00:00, 509.49it/s]\n"
     ]
    },
    {
     "name": "stdout",
     "output_type": "stream",
     "text": [
      "epoch 4: train loss :: 0.022, dev loss :: 0.062, time elapsed :: 0.3693556785583496\n"
     ]
    },
    {
     "name": "stderr",
     "output_type": "stream",
     "text": [
      "train-5: 100%|██████████| 63/63 [00:00<00:00, 159.48it/s]\n",
      "eval: 100%|██████████| 34/34 [00:00<00:00, 619.59it/s]\n"
     ]
    },
    {
     "name": "stdout",
     "output_type": "stream",
     "text": [
      "epoch 5: train loss :: 0.016, dev loss :: 0.054, time elapsed :: 0.45780491828918457\n"
     ]
    },
    {
     "name": "stderr",
     "output_type": "stream",
     "text": [
      "train-6: 100%|██████████| 63/63 [00:00<00:00, 177.29it/s]\n",
      "eval: 100%|██████████| 34/34 [00:00<00:00, 647.43it/s]\n"
     ]
    },
    {
     "name": "stdout",
     "output_type": "stream",
     "text": [
      "epoch 6: train loss :: 0.012, dev loss :: 0.049, time elapsed :: 0.41485118865966797\n"
     ]
    },
    {
     "name": "stderr",
     "output_type": "stream",
     "text": [
      "train-7: 100%|██████████| 63/63 [00:00<00:00, 197.87it/s]\n",
      "eval: 100%|██████████| 34/34 [00:00<00:00, 643.19it/s]\n"
     ]
    },
    {
     "name": "stdout",
     "output_type": "stream",
     "text": [
      "epoch 7: train loss :: 0.010, dev loss :: 0.047, time elapsed :: 0.37824559211730957\n"
     ]
    },
    {
     "name": "stderr",
     "output_type": "stream",
     "text": [
      "train-8: 100%|██████████| 63/63 [00:00<00:00, 169.27it/s]\n",
      "eval: 100%|██████████| 34/34 [00:00<00:00, 697.94it/s]\n"
     ]
    },
    {
     "name": "stdout",
     "output_type": "stream",
     "text": [
      "epoch 8: train loss :: 0.010, dev loss :: 0.045, time elapsed :: 0.42700767517089844\n"
     ]
    },
    {
     "name": "stderr",
     "output_type": "stream",
     "text": [
      "train-9: 100%|██████████| 63/63 [00:00<00:00, 162.97it/s]\n",
      "eval: 100%|██████████| 34/34 [00:00<00:00, 435.50it/s]\n"
     ]
    },
    {
     "name": "stdout",
     "output_type": "stream",
     "text": [
      "epoch 9: train loss :: 0.009, dev loss :: 0.045, time elapsed :: 0.4705801010131836\n"
     ]
    },
    {
     "name": "stderr",
     "output_type": "stream",
     "text": [
      "train-10: 100%|██████████| 63/63 [00:00<00:00, 165.11it/s]\n",
      "eval: 100%|██████████| 34/34 [00:00<00:00, 520.03it/s]\n"
     ]
    },
    {
     "name": "stdout",
     "output_type": "stream",
     "text": [
      "epoch 10: train loss :: 0.009, dev loss :: 0.044, time elapsed :: 0.4555084705352783\n"
     ]
    },
    {
     "name": "stderr",
     "output_type": "stream",
     "text": [
      "train-11: 100%|██████████| 63/63 [00:00<00:00, 155.60it/s]\n",
      "eval: 100%|██████████| 34/34 [00:00<00:00, 579.23it/s]\n"
     ]
    },
    {
     "name": "stdout",
     "output_type": "stream",
     "text": [
      "epoch 11: train loss :: 0.009, dev loss :: 0.044, time elapsed :: 0.47055792808532715\n"
     ]
    },
    {
     "name": "stderr",
     "output_type": "stream",
     "text": [
      "train-12: 100%|██████████| 63/63 [00:00<00:00, 204.07it/s]\n",
      "eval: 100%|██████████| 34/34 [00:00<00:00, 753.61it/s]\n"
     ]
    },
    {
     "name": "stdout",
     "output_type": "stream",
     "text": [
      "epoch 12: train loss :: 0.009, dev loss :: 0.044, time elapsed :: 0.35973143577575684\n"
     ]
    },
    {
     "name": "stderr",
     "output_type": "stream",
     "text": [
      "train-13: 100%|██████████| 63/63 [00:00<00:00, 189.65it/s]\n",
      "eval: 100%|██████████| 34/34 [00:00<00:00, 737.47it/s]\n"
     ]
    },
    {
     "name": "stdout",
     "output_type": "stream",
     "text": [
      "epoch 13: train loss :: 0.009, dev loss :: 0.044, time elapsed :: 0.3842918872833252\n"
     ]
    },
    {
     "name": "stderr",
     "output_type": "stream",
     "text": [
      "train-14: 100%|██████████| 63/63 [00:00<00:00, 158.28it/s]\n",
      "eval: 100%|██████████| 34/34 [00:00<00:00, 606.90it/s]\n"
     ]
    },
    {
     "name": "stdout",
     "output_type": "stream",
     "text": [
      "epoch 14: train loss :: 0.009, dev loss :: 0.043, time elapsed :: 0.4619448184967041\n"
     ]
    },
    {
     "name": "stderr",
     "output_type": "stream",
     "text": [
      "train-15: 100%|██████████| 63/63 [00:00<00:00, 174.48it/s]\n",
      "eval: 100%|██████████| 34/34 [00:00<00:00, 658.44it/s]\n"
     ]
    },
    {
     "name": "stdout",
     "output_type": "stream",
     "text": [
      "epoch 15: train loss :: 0.009, dev loss :: 0.043, time elapsed :: 0.4157242774963379\n"
     ]
    },
    {
     "name": "stderr",
     "output_type": "stream",
     "text": [
      "train-16: 100%|██████████| 63/63 [00:00<00:00, 171.99it/s]\n",
      "eval: 100%|██████████| 34/34 [00:00<00:00, 693.44it/s]\n"
     ]
    },
    {
     "name": "stdout",
     "output_type": "stream",
     "text": [
      "epoch 16: train loss :: 0.009, dev loss :: 0.043, time elapsed :: 0.41834139823913574\n"
     ]
    },
    {
     "name": "stderr",
     "output_type": "stream",
     "text": [
      "train-17: 100%|██████████| 63/63 [00:00<00:00, 181.94it/s]\n",
      "eval: 100%|██████████| 34/34 [00:00<00:00, 617.44it/s]\n"
     ]
    },
    {
     "name": "stdout",
     "output_type": "stream",
     "text": [
      "epoch 17: train loss :: 0.009, dev loss :: 0.043, time elapsed :: 0.4072897434234619\n"
     ]
    },
    {
     "name": "stderr",
     "output_type": "stream",
     "text": [
      "train-18: 100%|██████████| 63/63 [00:00<00:00, 185.67it/s]\n",
      "eval: 100%|██████████| 34/34 [00:00<00:00, 675.21it/s]\n"
     ]
    },
    {
     "name": "stdout",
     "output_type": "stream",
     "text": [
      "epoch 18: train loss :: 0.009, dev loss :: 0.043, time elapsed :: 0.3926866054534912\n"
     ]
    },
    {
     "name": "stderr",
     "output_type": "stream",
     "text": [
      "train-19: 100%|██████████| 63/63 [00:00<00:00, 180.06it/s]\n",
      "eval: 100%|██████████| 34/34 [00:00<00:00, 755.59it/s]"
     ]
    },
    {
     "name": "stdout",
     "output_type": "stream",
     "text": [
      "epoch 19: train loss :: 0.009, dev loss :: 0.043, time elapsed :: 0.3989288806915283\n",
      "training finished, total time :: 8.359337091445923\n"
     ]
    },
    {
     "name": "stderr",
     "output_type": "stream",
     "text": [
      "\n"
     ]
    }
   ],
   "source": [
    "model_conv = VAEConv2D(1, (5, 5), 10, hidden_layer_sizes=[50, 100])\n",
    "train(model_conv, train_dataloader, test_dataloader, epochs=20, model_dir=\"test\", file_prefix=\"conv-50-100\")"
   ]
  },
  {
   "cell_type": "code",
   "execution_count": 23,
   "metadata": {},
   "outputs": [
    {
     "name": "stderr",
     "output_type": "stream",
     "text": [
      "eval: 100%|██████████| 63/63 [00:00<00:00, 505.39it/s]\n",
      "eval: 100%|██████████| 34/34 [00:00<00:00, 655.32it/s]"
     ]
    },
    {
     "name": "stdout",
     "output_type": "stream",
     "text": [
      "dev loss: 0.007, test_loss: 0.043\n"
     ]
    },
    {
     "name": "stderr",
     "output_type": "stream",
     "text": [
      "\n"
     ]
    }
   ],
   "source": [
    "model_conv2 = VAEConv2D(1, (5, 5), 10, hidden_layer_sizes=[50, 100])\n",
    "test(model_conv2, valid_dataloader, test_dataloader, model_dir=\"test\", file_prefix=\"conv-50-100\")"
   ]
  },
  {
   "cell_type": "code",
   "execution_count": 24,
   "metadata": {},
   "outputs": [
    {
     "data": {
      "image/png": "[encoded data removed]",
      "text/plain": [
       "<Figure size 640x480 with 1 Axes>"
      ]
     },
     "metadata": {},
     "output_type": "display_data"
    }
   ],
   "source": [
    "x = torch.from_numpy(data[10].reshape(1, 1, 5, 5)).float().to(model_conv2.device)\n",
    "y = model_conv2.forward(x).detach().cpu().numpy().reshape((5,5))\n",
    "plot_surface(data[10], y)"
   ]
  },
  {
   "attachments": {},
   "cell_type": "markdown",
   "metadata": {},
   "source": [
    "# Test with MINST"
   ]
  },
  {
   "cell_type": "code",
   "execution_count": 25,
   "metadata": {},
   "outputs": [],
   "source": [
    "class CustomMINST(Dataset):\n",
    "    def __init__(self, dataset, seq_len):\n",
    "        self.dataset = dataset.float()\n",
    "        self.seq_len = seq_len\n",
    "    \n",
    "    def __len__(self):\n",
    "        return len(self.dataset) - self.seq_len + 1\n",
    "\n",
    "    def __getitem__(self, idx):\n",
    "        ele = self.dataset[idx:idx+self.seq_len]\n",
    "        return ele"
   ]
  },
  {
   "cell_type": "code",
   "execution_count": 26,
   "metadata": {},
   "outputs": [],
   "source": [
    "ds = CustomMINST(datasets.MNIST('data', train=True, download=True,\n",
    "                    transform=transforms.ToTensor()).data, 1)\n",
    "train_loader = DataLoader(ds, batch_size=64, shuffle=True)\n",
    "ds2 = CustomMINST(datasets.MNIST('data', train=False,\n",
    "                    transform=transforms.ToTensor()).data, 1)\n",
    "test_loader = DataLoader(ds2, batch_size=64, shuffle=True)"
   ]
  },
  {
   "cell_type": "code",
   "execution_count": 27,
   "metadata": {},
   "outputs": [
    {
     "data": {
      "text/plain": [
       "torch.Size([64, 1, 28, 28])"
      ]
     },
     "execution_count": 27,
     "metadata": {},
     "output_type": "execute_result"
    }
   ],
   "source": [
    "next(iter(train_loader)).shape"
   ]
  },
  {
   "cell_type": "code",
   "execution_count": 28,
   "metadata": {},
   "outputs": [
    {
     "name": "stderr",
     "output_type": "stream",
     "text": [
      "train-0: 100%|██████████| 938/938 [00:03<00:00, 267.52it/s]\n",
      "eval: 100%|██████████| 157/157 [00:00<00:00, 1042.19it/s]\n"
     ]
    },
    {
     "name": "stdout",
     "output_type": "stream",
     "text": [
      "epoch 0: train loss :: 8445385162185558016.000, dev loss :: 11345890784418248704.000, time elapsed :: 3.6638152599334717\n"
     ]
    },
    {
     "name": "stderr",
     "output_type": "stream",
     "text": [
      "train-1: 100%|██████████| 938/938 [00:03<00:00, 300.08it/s]\n",
      "eval: 100%|██████████| 157/157 [00:00<00:00, 1012.97it/s]\n"
     ]
    },
    {
     "name": "stdout",
     "output_type": "stream",
     "text": [
      "epoch 1: train loss :: 8116651120919011328.000, dev loss :: 10562812054496657408.000, time elapsed :: 3.285727024078369\n"
     ]
    },
    {
     "name": "stderr",
     "output_type": "stream",
     "text": [
      "train-2: 100%|██████████| 938/938 [00:03<00:00, 306.66it/s]\n",
      "eval: 100%|██████████| 157/157 [00:00<00:00, 971.01it/s]\n"
     ]
    },
    {
     "name": "stdout",
     "output_type": "stream",
     "text": [
      "epoch 2: train loss :: 7929976491994176512.000, dev loss :: 9894079546076860416.000, time elapsed :: 3.227022886276245\n"
     ]
    },
    {
     "name": "stderr",
     "output_type": "stream",
     "text": [
      "train-3: 100%|██████████| 938/938 [00:03<00:00, 269.68it/s]\n",
      "eval: 100%|██████████| 157/157 [00:00<00:00, 920.50it/s]\n"
     ]
    },
    {
     "name": "stdout",
     "output_type": "stream",
     "text": [
      "epoch 3: train loss :: 7784452912330787840.000, dev loss :: 9308481052037875712.000, time elapsed :: 3.653820753097534\n"
     ]
    },
    {
     "name": "stderr",
     "output_type": "stream",
     "text": [
      "train-4: 100%|██████████| 938/938 [00:04<00:00, 212.11it/s]\n",
      "eval: 100%|██████████| 157/157 [00:00<00:00, 1039.09it/s]\n"
     ]
    },
    {
     "name": "stdout",
     "output_type": "stream",
     "text": [
      "epoch 4: train loss :: 7648234235315621888.000, dev loss :: 8785188296989788160.000, time elapsed :: 4.578850507736206\n"
     ]
    },
    {
     "name": "stderr",
     "output_type": "stream",
     "text": [
      "train-5: 100%|██████████| 938/938 [00:03<00:00, 239.41it/s]\n",
      "eval: 100%|██████████| 157/157 [00:00<00:00, 1001.99it/s]\n"
     ]
    },
    {
     "name": "stdout",
     "output_type": "stream",
     "text": [
      "epoch 5: train loss :: 7465739409119255552.000, dev loss :: 8281392653516446720.000, time elapsed :: 4.080773115158081\n"
     ]
    },
    {
     "name": "stderr",
     "output_type": "stream",
     "text": [
      "train-6: 100%|██████████| 938/938 [00:03<00:00, 294.75it/s]\n",
      "eval: 100%|██████████| 157/157 [00:00<00:00, 1061.91it/s]\n"
     ]
    },
    {
     "name": "stdout",
     "output_type": "stream",
     "text": [
      "epoch 6: train loss :: 7341167174524239872.000, dev loss :: 7822625253232925696.000, time elapsed :: 3.3352692127227783\n"
     ]
    },
    {
     "name": "stderr",
     "output_type": "stream",
     "text": [
      "train-7: 100%|██████████| 938/938 [00:03<00:00, 302.15it/s]\n",
      "eval: 100%|██████████| 157/157 [00:00<00:00, 929.82it/s]\n"
     ]
    },
    {
     "name": "stdout",
     "output_type": "stream",
     "text": [
      "epoch 7: train loss :: 7204806039010538496.000, dev loss :: 7401929410412406784.000, time elapsed :: 3.280240297317505\n"
     ]
    },
    {
     "name": "stderr",
     "output_type": "stream",
     "text": [
      "train-8: 100%|██████████| 938/938 [00:03<00:00, 296.44it/s]\n",
      "eval: 100%|██████████| 157/157 [00:00<00:00, 1043.41it/s]\n"
     ]
    },
    {
     "name": "stdout",
     "output_type": "stream",
     "text": [
      "epoch 8: train loss :: 7097510315318841344.000, dev loss :: 7003939030906018816.000, time elapsed :: 3.3196492195129395\n"
     ]
    },
    {
     "name": "stderr",
     "output_type": "stream",
     "text": [
      "train-9: 100%|██████████| 938/938 [00:03<00:00, 304.31it/s]\n",
      "eval: 100%|██████████| 157/157 [00:00<00:00, 1027.19it/s]\n"
     ]
    },
    {
     "name": "stdout",
     "output_type": "stream",
     "text": [
      "epoch 9: train loss :: 6938963953808387072.000, dev loss :: 6612677182673191936.000, time elapsed :: 3.240246057510376\n"
     ]
    },
    {
     "name": "stderr",
     "output_type": "stream",
     "text": [
      "train-10: 100%|██████████| 938/938 [00:03<00:00, 303.00it/s]\n",
      "eval: 100%|██████████| 157/157 [00:00<00:00, 1049.03it/s]\n"
     ]
    },
    {
     "name": "stdout",
     "output_type": "stream",
     "text": [
      "epoch 10: train loss :: 6797096357856484352.000, dev loss :: 6274916163223313408.000, time elapsed :: 3.250332832336426\n"
     ]
    },
    {
     "name": "stderr",
     "output_type": "stream",
     "text": [
      "train-11: 100%|██████████| 938/938 [00:03<00:00, 296.73it/s]\n",
      "eval: 100%|██████████| 157/157 [00:00<00:00, 990.27it/s]\n"
     ]
    },
    {
     "name": "stdout",
     "output_type": "stream",
     "text": [
      "epoch 11: train loss :: 6686712192758755328.000, dev loss :: 5994609852044473344.000, time elapsed :: 3.3256442546844482\n"
     ]
    },
    {
     "name": "stderr",
     "output_type": "stream",
     "text": [
      "train-12: 100%|██████████| 938/938 [00:03<00:00, 302.62it/s]\n",
      "eval: 100%|██████████| 157/157 [00:00<00:00, 1008.34it/s]\n"
     ]
    },
    {
     "name": "stdout",
     "output_type": "stream",
     "text": [
      "epoch 12: train loss :: 6567235562909523968.000, dev loss :: 5636540552493217792.000, time elapsed :: 3.2593514919281006\n"
     ]
    },
    {
     "name": "stderr",
     "output_type": "stream",
     "text": [
      "train-13: 100%|██████████| 938/938 [00:03<00:00, 276.22it/s]\n",
      "eval: 100%|██████████| 157/157 [00:00<00:00, 1075.96it/s]\n"
     ]
    },
    {
     "name": "stdout",
     "output_type": "stream",
     "text": [
      "epoch 13: train loss :: 6448411159835040768.000, dev loss :: 5339695318002511872.000, time elapsed :: 3.5487263202667236\n"
     ]
    },
    {
     "name": "stderr",
     "output_type": "stream",
     "text": [
      "train-14: 100%|██████████| 938/938 [00:03<00:00, 311.84it/s]\n",
      "eval: 100%|██████████| 157/157 [00:00<00:00, 1108.67it/s]\n"
     ]
    },
    {
     "name": "stdout",
     "output_type": "stream",
     "text": [
      "epoch 14: train loss :: 6344552134373986304.000, dev loss :: 5087226450887914496.000, time elapsed :: 3.1555910110473633\n"
     ]
    },
    {
     "name": "stderr",
     "output_type": "stream",
     "text": [
      "train-15: 100%|██████████| 938/938 [00:02<00:00, 314.55it/s]\n",
      "eval: 100%|██████████| 157/157 [00:00<00:00, 1051.94it/s]\n"
     ]
    },
    {
     "name": "stdout",
     "output_type": "stream",
     "text": [
      "epoch 15: train loss :: 6216873585845229568.000, dev loss :: 4835044550554145792.000, time elapsed :: 3.1352550983428955\n"
     ]
    },
    {
     "name": "stderr",
     "output_type": "stream",
     "text": [
      "train-16: 100%|██████████| 938/938 [00:02<00:00, 316.79it/s]\n",
      "eval: 100%|██████████| 157/157 [00:00<00:00, 1048.06it/s]\n"
     ]
    },
    {
     "name": "stdout",
     "output_type": "stream",
     "text": [
      "epoch 16: train loss :: 6073016385496425472.000, dev loss :: 4601753160170864640.000, time elapsed :: 3.1167142391204834\n"
     ]
    },
    {
     "name": "stderr",
     "output_type": "stream",
     "text": [
      "train-17: 100%|██████████| 938/938 [00:02<00:00, 316.24it/s]\n",
      "eval: 100%|██████████| 157/157 [00:00<00:00, 1040.89it/s]\n"
     ]
    },
    {
     "name": "stdout",
     "output_type": "stream",
     "text": [
      "epoch 17: train loss :: 5958559129978570752.000, dev loss :: 4388059600218774528.000, time elapsed :: 3.123868942260742\n"
     ]
    },
    {
     "name": "stderr",
     "output_type": "stream",
     "text": [
      "train-18: 100%|██████████| 938/938 [00:03<00:00, 312.58it/s]\n",
      "eval: 100%|██████████| 157/157 [00:00<00:00, 1140.75it/s]\n"
     ]
    },
    {
     "name": "stdout",
     "output_type": "stream",
     "text": [
      "epoch 18: train loss :: 5825693294822935552.000, dev loss :: 4191829445040360448.000, time elapsed :: 3.1433207988739014\n"
     ]
    },
    {
     "name": "stderr",
     "output_type": "stream",
     "text": [
      "train-19: 100%|██████████| 938/938 [00:03<00:00, 312.12it/s]\n",
      "eval: 100%|██████████| 157/157 [00:00<00:00, 1076.51it/s]\n"
     ]
    },
    {
     "name": "stdout",
     "output_type": "stream",
     "text": [
      "epoch 19: train loss :: 5705753708570937344.000, dev loss :: 4000820172228777472.000, time elapsed :: 3.1571593284606934\n"
     ]
    },
    {
     "name": "stderr",
     "output_type": "stream",
     "text": [
      "train-20: 100%|██████████| 938/938 [00:02<00:00, 312.69it/s]\n",
      "eval: 100%|██████████| 157/157 [00:00<00:00, 1070.14it/s]\n"
     ]
    },
    {
     "name": "stdout",
     "output_type": "stream",
     "text": [
      "epoch 20: train loss :: 5610217460219264000.000, dev loss :: 3810978542516574720.000, time elapsed :: 3.152384042739868\n"
     ]
    },
    {
     "name": "stderr",
     "output_type": "stream",
     "text": [
      "train-21: 100%|██████████| 938/938 [00:02<00:00, 316.60it/s]\n",
      "eval: 100%|██████████| 157/157 [00:00<00:00, 1078.78it/s]\n"
     ]
    },
    {
     "name": "stdout",
     "output_type": "stream",
     "text": [
      "epoch 21: train loss :: 5493393026400751616.000, dev loss :: 3640638104711301120.000, time elapsed :: 3.112291097640991\n"
     ]
    },
    {
     "name": "stderr",
     "output_type": "stream",
     "text": [
      "train-22: 100%|██████████| 938/938 [00:02<00:00, 318.48it/s]\n",
      "eval: 100%|██████████| 157/157 [00:00<00:00, 1108.13it/s]\n"
     ]
    },
    {
     "name": "stdout",
     "output_type": "stream",
     "text": [
      "epoch 22: train loss :: 5404738776332365824.000, dev loss :: 3471515161920074240.000, time elapsed :: 3.0920116901397705\n"
     ]
    },
    {
     "name": "stderr",
     "output_type": "stream",
     "text": [
      "train-23: 100%|██████████| 938/938 [00:02<00:00, 313.34it/s]\n",
      "eval: 100%|██████████| 157/157 [00:00<00:00, 1068.62it/s]\n"
     ]
    },
    {
     "name": "stdout",
     "output_type": "stream",
     "text": [
      "epoch 23: train loss :: 5294354927364281344.000, dev loss :: 3323143666154214912.000, time elapsed :: 3.1455039978027344\n"
     ]
    },
    {
     "name": "stderr",
     "output_type": "stream",
     "text": [
      "train-24: 100%|██████████| 938/938 [00:02<00:00, 319.32it/s]\n",
      "eval: 100%|██████████| 157/157 [00:00<00:00, 1118.01it/s]\n"
     ]
    },
    {
     "name": "stdout",
     "output_type": "stream",
     "text": [
      "epoch 24: train loss :: 5233315375520583680.000, dev loss :: 3180934410186823168.000, time elapsed :: 3.08294939994812\n"
     ]
    },
    {
     "name": "stderr",
     "output_type": "stream",
     "text": [
      "train-25: 100%|██████████| 938/938 [00:02<00:00, 318.15it/s]\n",
      "eval: 100%|██████████| 157/157 [00:00<00:00, 1105.34it/s]\n"
     ]
    },
    {
     "name": "stdout",
     "output_type": "stream",
     "text": [
      "epoch 25: train loss :: 5130012547368751104.000, dev loss :: 3043740895298409984.000, time elapsed :: 3.0953686237335205\n"
     ]
    },
    {
     "name": "stderr",
     "output_type": "stream",
     "text": [
      "train-26: 100%|██████████| 938/938 [00:03<00:00, 308.52it/s]\n",
      "eval: 100%|██████████| 157/157 [00:00<00:00, 1174.80it/s]\n"
     ]
    },
    {
     "name": "stdout",
     "output_type": "stream",
     "text": [
      "epoch 26: train loss :: 5038145315747945472.000, dev loss :: 2908000062361201152.000, time elapsed :: 3.1789515018463135\n"
     ]
    },
    {
     "name": "stderr",
     "output_type": "stream",
     "text": [
      "train-27: 100%|██████████| 938/938 [00:02<00:00, 319.47it/s]\n",
      "eval: 100%|██████████| 157/157 [00:00<00:00, 1170.75it/s]\n"
     ]
    },
    {
     "name": "stdout",
     "output_type": "stream",
     "text": [
      "epoch 27: train loss :: 4935669266829580288.000, dev loss :: 2782927354606548992.000, time elapsed :: 3.0761942863464355\n"
     ]
    },
    {
     "name": "stderr",
     "output_type": "stream",
     "text": [
      "train-28: 100%|██████████| 938/938 [00:03<00:00, 271.50it/s]\n",
      "eval: 100%|██████████| 157/157 [00:00<00:00, 948.11it/s]\n"
     ]
    },
    {
     "name": "stdout",
     "output_type": "stream",
     "text": [
      "epoch 28: train loss :: 4829091594539726848.000, dev loss :: 2670516711089714176.000, time elapsed :: 3.6254334449768066\n"
     ]
    },
    {
     "name": "stderr",
     "output_type": "stream",
     "text": [
      "train-29: 100%|██████████| 938/938 [00:03<00:00, 300.93it/s]\n",
      "eval: 100%|██████████| 157/157 [00:00<00:00, 993.49it/s]\n"
     ]
    },
    {
     "name": "stdout",
     "output_type": "stream",
     "text": [
      "epoch 29: train loss :: 4760490536425524224.000, dev loss :: 2559896991872030720.000, time elapsed :: 3.280885934829712\n"
     ]
    },
    {
     "name": "stderr",
     "output_type": "stream",
     "text": [
      "train-30: 100%|██████████| 938/938 [00:03<00:00, 298.77it/s]\n",
      "eval: 100%|██████████| 157/157 [00:00<00:00, 1041.64it/s]\n"
     ]
    },
    {
     "name": "stdout",
     "output_type": "stream",
     "text": [
      "epoch 30: train loss :: 4663714006099127296.000, dev loss :: 2458717693424818176.000, time elapsed :: 3.295278787612915\n"
     ]
    },
    {
     "name": "stderr",
     "output_type": "stream",
     "text": [
      "train-31: 100%|██████████| 938/938 [00:03<00:00, 288.94it/s]\n",
      "eval: 100%|██████████| 157/157 [00:00<00:00, 1101.77it/s]\n"
     ]
    },
    {
     "name": "stdout",
     "output_type": "stream",
     "text": [
      "epoch 31: train loss :: 4592444561955206144.000, dev loss :: 2359135214503881728.000, time elapsed :: 3.395089864730835\n"
     ]
    },
    {
     "name": "stderr",
     "output_type": "stream",
     "text": [
      "train-32: 100%|██████████| 938/938 [00:03<00:00, 298.42it/s]\n",
      "eval: 100%|██████████| 157/157 [00:00<00:00, 1007.64it/s]\n"
     ]
    },
    {
     "name": "stdout",
     "output_type": "stream",
     "text": [
      "epoch 32: train loss :: 4479419877540824064.000, dev loss :: 2271246702902268416.000, time elapsed :: 3.305070400238037\n"
     ]
    },
    {
     "name": "stderr",
     "output_type": "stream",
     "text": [
      "train-33: 100%|██████████| 938/938 [00:03<00:00, 293.03it/s]\n",
      "eval: 100%|██████████| 157/157 [00:00<00:00, 997.31it/s]\n"
     ]
    },
    {
     "name": "stdout",
     "output_type": "stream",
     "text": [
      "epoch 33: train loss :: 4397141074306507776.000, dev loss :: 2191019795792220672.000, time elapsed :: 3.363358974456787\n"
     ]
    },
    {
     "name": "stderr",
     "output_type": "stream",
     "text": [
      "train-34: 100%|██████████| 938/938 [00:03<00:00, 294.11it/s]\n",
      "eval: 100%|██████████| 157/157 [00:00<00:00, 1028.94it/s]\n"
     ]
    },
    {
     "name": "stdout",
     "output_type": "stream",
     "text": [
      "epoch 34: train loss :: 4327951870643167744.000, dev loss :: 2114321800261732352.000, time elapsed :: 3.346766710281372\n"
     ]
    },
    {
     "name": "stderr",
     "output_type": "stream",
     "text": [
      "train-35: 100%|██████████| 938/938 [00:03<00:00, 291.59it/s]\n",
      "eval: 100%|██████████| 157/157 [00:00<00:00, 1009.95it/s]\n"
     ]
    },
    {
     "name": "stdout",
     "output_type": "stream",
     "text": [
      "epoch 35: train loss :: 4244039787880790016.000, dev loss :: 2039277471574546432.000, time elapsed :: 3.3773181438446045\n"
     ]
    },
    {
     "name": "stderr",
     "output_type": "stream",
     "text": [
      "train-36: 100%|██████████| 938/938 [00:03<00:00, 284.44it/s]\n",
      "eval: 100%|██████████| 157/157 [00:00<00:00, 1040.27it/s]\n"
     ]
    },
    {
     "name": "stdout",
     "output_type": "stream",
     "text": [
      "epoch 36: train loss :: 4197180401045790720.000, dev loss :: 1970036771552645632.000, time elapsed :: 3.453547239303589\n"
     ]
    },
    {
     "name": "stderr",
     "output_type": "stream",
     "text": [
      "train-37: 100%|██████████| 938/938 [00:03<00:00, 291.79it/s]\n",
      "eval: 100%|██████████| 157/157 [00:00<00:00, 821.97it/s]\n"
     ]
    },
    {
     "name": "stdout",
     "output_type": "stream",
     "text": [
      "epoch 37: train loss :: 4089016286019310080.000, dev loss :: 1904975509513785344.000, time elapsed :: 3.413257360458374\n"
     ]
    },
    {
     "name": "stderr",
     "output_type": "stream",
     "text": [
      "train-38: 100%|██████████| 938/938 [00:03<00:00, 287.74it/s]\n",
      "eval: 100%|██████████| 157/157 [00:00<00:00, 1040.31it/s]\n"
     ]
    },
    {
     "name": "stdout",
     "output_type": "stream",
     "text": [
      "epoch 38: train loss :: 4036315623536628736.000, dev loss :: 1840615033421478912.000, time elapsed :: 3.4185664653778076\n"
     ]
    },
    {
     "name": "stderr",
     "output_type": "stream",
     "text": [
      "train-39: 100%|██████████| 938/938 [00:03<00:00, 306.84it/s]\n",
      "eval: 100%|██████████| 157/157 [00:00<00:00, 899.08it/s]\n"
     ]
    },
    {
     "name": "stdout",
     "output_type": "stream",
     "text": [
      "epoch 39: train loss :: 3942341614668149760.000, dev loss :: 1786752290838148352.000, time elapsed :: 3.236565589904785\n"
     ]
    },
    {
     "name": "stderr",
     "output_type": "stream",
     "text": [
      "train-40: 100%|██████████| 938/938 [00:03<00:00, 307.27it/s]\n",
      "eval: 100%|██████████| 157/157 [00:00<00:00, 989.32it/s]\n"
     ]
    },
    {
     "name": "stdout",
     "output_type": "stream",
     "text": [
      "epoch 40: train loss :: 3882126840385821696.000, dev loss :: 1753791027165103872.000, time elapsed :: 3.217414617538452\n"
     ]
    },
    {
     "name": "stderr",
     "output_type": "stream",
     "text": [
      "train-41: 100%|██████████| 938/938 [00:03<00:00, 293.63it/s]\n",
      "eval: 100%|██████████| 157/157 [00:00<00:00, 1020.42it/s]\n"
     ]
    },
    {
     "name": "stdout",
     "output_type": "stream",
     "text": [
      "epoch 41: train loss :: 3827738900698143232.000, dev loss :: 1667614731777472512.000, time elapsed :: 3.353165864944458\n"
     ]
    },
    {
     "name": "stderr",
     "output_type": "stream",
     "text": [
      "train-42: 100%|██████████| 938/938 [00:03<00:00, 305.43it/s]\n",
      "eval: 100%|██████████| 157/157 [00:00<00:00, 1064.63it/s]\n"
     ]
    },
    {
     "name": "stdout",
     "output_type": "stream",
     "text": [
      "epoch 42: train loss :: 3735456931553334272.000, dev loss :: 1614594171847399424.000, time elapsed :: 3.2266154289245605\n"
     ]
    },
    {
     "name": "stderr",
     "output_type": "stream",
     "text": [
      "train-43: 100%|██████████| 938/938 [00:03<00:00, 297.84it/s]\n",
      "eval: 100%|██████████| 157/157 [00:00<00:00, 1037.54it/s]\n"
     ]
    },
    {
     "name": "stdout",
     "output_type": "stream",
     "text": [
      "epoch 43: train loss :: 3694890547107831808.000, dev loss :: 1564503252842765056.000, time elapsed :: 3.3066751956939697\n"
     ]
    },
    {
     "name": "stderr",
     "output_type": "stream",
     "text": [
      "train-44: 100%|██████████| 938/938 [00:03<00:00, 306.62it/s]\n",
      "eval: 100%|██████████| 157/157 [00:00<00:00, 1041.96it/s]\n"
     ]
    },
    {
     "name": "stdout",
     "output_type": "stream",
     "text": [
      "epoch 44: train loss :: 3613368831029936640.000, dev loss :: 1519427990750133504.000, time elapsed :: 3.2148590087890625\n"
     ]
    },
    {
     "name": "stderr",
     "output_type": "stream",
     "text": [
      "train-45: 100%|██████████| 938/938 [00:03<00:00, 310.02it/s]\n",
      "eval: 100%|██████████| 157/157 [00:00<00:00, 971.67it/s]\n"
     ]
    },
    {
     "name": "stdout",
     "output_type": "stream",
     "text": [
      "epoch 45: train loss :: 3539901914455790080.000, dev loss :: 1473878507380688128.000, time elapsed :: 3.1922214031219482\n"
     ]
    },
    {
     "name": "stderr",
     "output_type": "stream",
     "text": [
      "train-46: 100%|██████████| 938/938 [00:03<00:00, 292.96it/s]\n",
      "eval: 100%|██████████| 157/157 [00:00<00:00, 1013.80it/s]\n"
     ]
    },
    {
     "name": "stdout",
     "output_type": "stream",
     "text": [
      "epoch 46: train loss :: 3496221250593192960.000, dev loss :: 1432254078551564544.000, time elapsed :: 3.3620736598968506\n"
     ]
    },
    {
     "name": "stderr",
     "output_type": "stream",
     "text": [
      "train-47: 100%|██████████| 938/938 [00:03<00:00, 301.01it/s]\n",
      "eval: 100%|██████████| 157/157 [00:00<00:00, 984.22it/s] \n"
     ]
    },
    {
     "name": "stdout",
     "output_type": "stream",
     "text": [
      "epoch 47: train loss :: 3403644520751685120.000, dev loss :: 1392084854343431168.000, time elapsed :: 3.2806897163391113\n"
     ]
    },
    {
     "name": "stderr",
     "output_type": "stream",
     "text": [
      "train-48: 100%|██████████| 938/938 [00:03<00:00, 294.98it/s]\n",
      "eval: 100%|██████████| 157/157 [00:00<00:00, 1071.01it/s]\n"
     ]
    },
    {
     "name": "stdout",
     "output_type": "stream",
     "text": [
      "epoch 48: train loss :: 3356969865943060992.000, dev loss :: 1350539340241076480.000, time elapsed :: 3.332448720932007\n"
     ]
    },
    {
     "name": "stderr",
     "output_type": "stream",
     "text": [
      "train-49: 100%|██████████| 938/938 [00:03<00:00, 296.55it/s]\n",
      "eval: 100%|██████████| 157/157 [00:00<00:00, 946.37it/s]\n"
     ]
    },
    {
     "name": "stdout",
     "output_type": "stream",
     "text": [
      "epoch 49: train loss :: 2966205713149949440.000, dev loss :: 1313723817554695680.000, time elapsed :: 3.333960771560669\n"
     ]
    },
    {
     "name": "stderr",
     "output_type": "stream",
     "text": [
      "train-50: 100%|██████████| 938/938 [00:03<00:00, 292.05it/s]\n",
      "eval: 100%|██████████| 157/157 [00:00<00:00, 939.72it/s]\n"
     ]
    },
    {
     "name": "stdout",
     "output_type": "stream",
     "text": [
      "epoch 50: train loss :: 2912168630799980032.000, dev loss :: 1278591932308770048.000, time elapsed :: 3.3837976455688477\n"
     ]
    },
    {
     "name": "stderr",
     "output_type": "stream",
     "text": [
      "train-51: 100%|██████████| 938/938 [00:03<00:00, 292.47it/s]\n",
      "eval: 100%|██████████| 157/157 [00:00<00:00, 1027.44it/s]\n"
     ]
    },
    {
     "name": "stdout",
     "output_type": "stream",
     "text": [
      "epoch 51: train loss :: 2843827825991220224.000, dev loss :: 1244251088087349504.000, time elapsed :: 3.3641316890716553\n"
     ]
    },
    {
     "name": "stderr",
     "output_type": "stream",
     "text": [
      "train-52: 100%|██████████| 938/938 [00:03<00:00, 301.12it/s]\n",
      "eval: 100%|██████████| 157/157 [00:00<00:00, 982.84it/s]\n"
     ]
    },
    {
     "name": "stdout",
     "output_type": "stream",
     "text": [
      "epoch 52: train loss :: 2807465136015500288.000, dev loss :: 1213054943519256320.000, time elapsed :: 3.279846668243408\n"
     ]
    },
    {
     "name": "stderr",
     "output_type": "stream",
     "text": [
      "train-53: 100%|██████████| 938/938 [00:03<00:00, 295.09it/s]\n",
      "eval: 100%|██████████| 157/157 [00:00<00:00, 1019.02it/s]\n"
     ]
    },
    {
     "name": "stdout",
     "output_type": "stream",
     "text": [
      "epoch 53: train loss :: 2754105077226095616.000, dev loss :: 1181815191857025536.000, time elapsed :: 3.3400039672851562\n"
     ]
    },
    {
     "name": "stderr",
     "output_type": "stream",
     "text": [
      "train-54: 100%|██████████| 938/938 [00:03<00:00, 291.40it/s]\n",
      "eval: 100%|██████████| 157/157 [00:00<00:00, 1005.28it/s]\n"
     ]
    },
    {
     "name": "stdout",
     "output_type": "stream",
     "text": [
      "epoch 54: train loss :: 2703382227706112512.000, dev loss :: 1151712508643455616.000, time elapsed :: 3.3820948600769043\n"
     ]
    },
    {
     "name": "stderr",
     "output_type": "stream",
     "text": [
      "train-55: 100%|██████████| 938/938 [00:03<00:00, 298.69it/s]\n",
      "eval: 100%|██████████| 157/157 [00:00<00:00, 1088.25it/s]\n"
     ]
    },
    {
     "name": "stdout",
     "output_type": "stream",
     "text": [
      "epoch 55: train loss :: 2644168016890398208.000, dev loss :: 1122794613811950464.000, time elapsed :: 3.289783239364624\n"
     ]
    },
    {
     "name": "stderr",
     "output_type": "stream",
     "text": [
      "train-56: 100%|██████████| 938/938 [00:03<00:00, 293.47it/s]\n",
      "eval: 100%|██████████| 157/157 [00:00<00:00, 1026.23it/s]\n"
     ]
    },
    {
     "name": "stdout",
     "output_type": "stream",
     "text": [
      "epoch 56: train loss :: 2594953695647387648.000, dev loss :: 1095766341867570176.000, time elapsed :: 3.3532419204711914\n"
     ]
    },
    {
     "name": "stderr",
     "output_type": "stream",
     "text": [
      "train-57: 100%|██████████| 938/938 [00:03<00:00, 299.76it/s]\n",
      "eval: 100%|██████████| 157/157 [00:00<00:00, 904.35it/s]\n"
     ]
    },
    {
     "name": "stdout",
     "output_type": "stream",
     "text": [
      "epoch 57: train loss :: 2569207347324519424.000, dev loss :: 1069564696123296512.000, time elapsed :: 3.3096530437469482\n"
     ]
    },
    {
     "name": "stderr",
     "output_type": "stream",
     "text": [
      "train-58: 100%|██████████| 938/938 [00:03<00:00, 282.52it/s]\n",
      "eval: 100%|██████████| 157/157 [00:00<00:00, 1040.07it/s]\n"
     ]
    },
    {
     "name": "stdout",
     "output_type": "stream",
     "text": [
      "epoch 58: train loss :: 2517636758420305408.000, dev loss :: 1044109483502680960.000, time elapsed :: 3.477018117904663\n"
     ]
    },
    {
     "name": "stderr",
     "output_type": "stream",
     "text": [
      "train-59: 100%|██████████| 938/938 [00:03<00:00, 288.98it/s]\n",
      "eval: 100%|██████████| 157/157 [00:00<00:00, 990.37it/s]\n"
     ]
    },
    {
     "name": "stdout",
     "output_type": "stream",
     "text": [
      "epoch 59: train loss :: 2471945191793472000.000, dev loss :: 1019554820193009920.000, time elapsed :: 3.4093716144561768\n"
     ]
    },
    {
     "name": "stderr",
     "output_type": "stream",
     "text": [
      "train-60: 100%|██████████| 938/938 [00:03<00:00, 283.26it/s]\n",
      "eval: 100%|██████████| 157/157 [00:00<00:00, 1054.79it/s]\n"
     ]
    },
    {
     "name": "stdout",
     "output_type": "stream",
     "text": [
      "epoch 60: train loss :: 2430961526496930816.000, dev loss :: 996196347701652352.000, time elapsed :: 3.4663360118865967\n"
     ]
    },
    {
     "name": "stderr",
     "output_type": "stream",
     "text": [
      "train-61: 100%|██████████| 938/938 [00:03<00:00, 298.07it/s]\n",
      "eval: 100%|██████████| 157/157 [00:00<00:00, 1047.77it/s]\n"
     ]
    },
    {
     "name": "stdout",
     "output_type": "stream",
     "text": [
      "epoch 61: train loss :: 2381551901426732032.000, dev loss :: 973491313312425472.000, time elapsed :: 3.3046836853027344\n"
     ]
    },
    {
     "name": "stderr",
     "output_type": "stream",
     "text": [
      "train-62: 100%|██████████| 938/938 [00:03<00:00, 308.18it/s]\n",
      "eval: 100%|██████████| 157/157 [00:00<00:00, 1003.17it/s]\n"
     ]
    },
    {
     "name": "stdout",
     "output_type": "stream",
     "text": [
      "epoch 62: train loss :: 2352028600012452864.000, dev loss :: 951735667146927744.000, time elapsed :: 3.20717716217041\n"
     ]
    },
    {
     "name": "stderr",
     "output_type": "stream",
     "text": [
      "train-63: 100%|██████████| 938/938 [00:03<00:00, 301.65it/s]\n",
      "eval: 100%|██████████| 157/157 [00:00<00:00, 998.21it/s]\n"
     ]
    },
    {
     "name": "stdout",
     "output_type": "stream",
     "text": [
      "epoch 63: train loss :: 2298696434113007616.000, dev loss :: 931513830297632000.000, time elapsed :: 3.2737574577331543\n"
     ]
    },
    {
     "name": "stderr",
     "output_type": "stream",
     "text": [
      "train-64: 100%|██████████| 938/938 [00:03<00:00, 302.22it/s]\n",
      "eval: 100%|██████████| 157/157 [00:00<00:00, 976.99it/s]\n"
     ]
    },
    {
     "name": "stdout",
     "output_type": "stream",
     "text": [
      "epoch 64: train loss :: 2266952203199627008.000, dev loss :: 910612453673453824.000, time elapsed :: 3.268264055252075\n"
     ]
    },
    {
     "name": "stderr",
     "output_type": "stream",
     "text": [
      "train-65: 100%|██████████| 938/938 [00:03<00:00, 303.14it/s]\n",
      "eval: 100%|██████████| 157/157 [00:00<00:00, 1050.80it/s]\n"
     ]
    },
    {
     "name": "stdout",
     "output_type": "stream",
     "text": [
      "epoch 65: train loss :: 2215332834091859200.000, dev loss :: 890948412316966912.000, time elapsed :: 3.2488136291503906\n"
     ]
    },
    {
     "name": "stderr",
     "output_type": "stream",
     "text": [
      "train-66: 100%|██████████| 938/938 [00:03<00:00, 297.45it/s]\n",
      "eval: 100%|██████████| 157/157 [00:00<00:00, 988.07it/s]\n"
     ]
    },
    {
     "name": "stdout",
     "output_type": "stream",
     "text": [
      "epoch 66: train loss :: 2174207194204047360.000, dev loss :: 871974056493532544.000, time elapsed :: 3.318896532058716\n"
     ]
    },
    {
     "name": "stderr",
     "output_type": "stream",
     "text": [
      "train-67: 100%|██████████| 938/938 [00:03<00:00, 298.37it/s]\n",
      "eval: 100%|██████████| 157/157 [00:00<00:00, 939.39it/s] \n"
     ]
    },
    {
     "name": "stdout",
     "output_type": "stream",
     "text": [
      "epoch 67: train loss :: 2144846656394790400.000, dev loss :: 853624042456111872.000, time elapsed :: 3.3169822692871094\n"
     ]
    },
    {
     "name": "stderr",
     "output_type": "stream",
     "text": [
      "train-68: 100%|██████████| 938/938 [00:03<00:00, 304.61it/s]\n",
      "eval: 100%|██████████| 157/157 [00:00<00:00, 1045.26it/s]\n"
     ]
    },
    {
     "name": "stdout",
     "output_type": "stream",
     "text": [
      "epoch 68: train loss :: 2096574542319429632.000, dev loss :: 835730206914522368.000, time elapsed :: 3.235544204711914\n"
     ]
    },
    {
     "name": "stderr",
     "output_type": "stream",
     "text": [
      "train-69: 100%|██████████| 938/938 [00:03<00:00, 304.96it/s]\n",
      "eval: 100%|██████████| 157/157 [00:00<00:00, 993.55it/s]\n"
     ]
    },
    {
     "name": "stdout",
     "output_type": "stream",
     "text": [
      "epoch 69: train loss :: 2076875735930760192.000, dev loss :: 818196720434641920.000, time elapsed :: 3.238662004470825\n"
     ]
    },
    {
     "name": "stderr",
     "output_type": "stream",
     "text": [
      "train-70: 100%|██████████| 938/938 [00:03<00:00, 305.13it/s]\n",
      "eval: 100%|██████████| 157/157 [00:00<00:00, 984.62it/s] \n"
     ]
    },
    {
     "name": "stdout",
     "output_type": "stream",
     "text": [
      "epoch 70: train loss :: 2038030723805789440.000, dev loss :: 801337944689476864.000, time elapsed :: 3.2383501529693604\n"
     ]
    },
    {
     "name": "stderr",
     "output_type": "stream",
     "text": [
      "train-71: 100%|██████████| 938/938 [00:03<00:00, 295.33it/s]\n",
      "eval: 100%|██████████| 157/157 [00:00<00:00, 1028.26it/s]\n"
     ]
    },
    {
     "name": "stdout",
     "output_type": "stream",
     "text": [
      "epoch 71: train loss :: 1999259135921765888.000, dev loss :: 785020846967076992.000, time elapsed :: 3.335597038269043\n"
     ]
    },
    {
     "name": "stderr",
     "output_type": "stream",
     "text": [
      "train-72: 100%|██████████| 938/938 [00:03<00:00, 306.53it/s]\n",
      "eval: 100%|██████████| 157/157 [00:00<00:00, 940.90it/s]\n"
     ]
    },
    {
     "name": "stdout",
     "output_type": "stream",
     "text": [
      "epoch 72: train loss :: 1959609760222463232.000, dev loss :: 769015558863698432.000, time elapsed :: 3.231863498687744\n"
     ]
    },
    {
     "name": "stderr",
     "output_type": "stream",
     "text": [
      "train-73: 100%|██████████| 938/938 [00:03<00:00, 275.13it/s]\n",
      "eval: 100%|██████████| 157/157 [00:00<00:00, 977.76it/s] \n"
     ]
    },
    {
     "name": "stdout",
     "output_type": "stream",
     "text": [
      "epoch 73: train loss :: 1920091233979561984.000, dev loss :: 753574718101966720.000, time elapsed :: 3.5779459476470947\n"
     ]
    },
    {
     "name": "stderr",
     "output_type": "stream",
     "text": [
      "train-74: 100%|██████████| 938/938 [00:03<00:00, 257.30it/s]\n",
      "eval: 100%|██████████| 157/157 [00:00<00:00, 1063.47it/s]\n"
     ]
    },
    {
     "name": "stdout",
     "output_type": "stream",
     "text": [
      "epoch 74: train loss :: 1902049443403629824.000, dev loss :: 738662661088494976.000, time elapsed :: 3.8022401332855225\n"
     ]
    },
    {
     "name": "stderr",
     "output_type": "stream",
     "text": [
      "train-75: 100%|██████████| 938/938 [00:03<00:00, 268.52it/s]\n",
      "eval: 100%|██████████| 157/157 [00:00<00:00, 1014.33it/s]\n"
     ]
    },
    {
     "name": "stdout",
     "output_type": "stream",
     "text": [
      "epoch 75: train loss :: 1854450897165664000.000, dev loss :: 724195391539820544.000, time elapsed :: 3.6565322875976562\n"
     ]
    },
    {
     "name": "stderr",
     "output_type": "stream",
     "text": [
      "train-76: 100%|██████████| 938/938 [00:03<00:00, 244.14it/s]\n",
      "eval: 100%|██████████| 157/157 [00:00<00:00, 809.07it/s]\n"
     ]
    },
    {
     "name": "stdout",
     "output_type": "stream",
     "text": [
      "epoch 76: train loss :: 1824984844536235776.000, dev loss :: 709757469258654464.000, time elapsed :: 4.043956995010376\n"
     ]
    },
    {
     "name": "stderr",
     "output_type": "stream",
     "text": [
      "train-77: 100%|██████████| 938/938 [00:03<00:00, 264.77it/s]\n",
      "eval: 100%|██████████| 157/157 [00:00<00:00, 998.81it/s]\n"
     ]
    },
    {
     "name": "stdout",
     "output_type": "stream",
     "text": [
      "epoch 77: train loss :: 1791439648314852352.000, dev loss :: 695901696908515456.000, time elapsed :: 3.707615852355957\n"
     ]
    },
    {
     "name": "stderr",
     "output_type": "stream",
     "text": [
      "train-78: 100%|██████████| 938/938 [00:03<00:00, 297.92it/s]\n",
      "eval: 100%|██████████| 157/157 [00:00<00:00, 956.54it/s] \n"
     ]
    },
    {
     "name": "stdout",
     "output_type": "stream",
     "text": [
      "epoch 78: train loss :: 1756705978516201728.000, dev loss :: 682410033527156608.000, time elapsed :: 3.3174562454223633\n"
     ]
    },
    {
     "name": "stderr",
     "output_type": "stream",
     "text": [
      "train-79: 100%|██████████| 938/938 [00:03<00:00, 302.84it/s]\n",
      "eval: 100%|██████████| 157/157 [00:00<00:00, 1046.47it/s]\n"
     ]
    },
    {
     "name": "stdout",
     "output_type": "stream",
     "text": [
      "epoch 79: train loss :: 1730373782134530560.000, dev loss :: 669319388223635328.000, time elapsed :: 3.253478765487671\n"
     ]
    },
    {
     "name": "stderr",
     "output_type": "stream",
     "text": [
      "train-80: 100%|██████████| 938/938 [00:03<00:00, 294.70it/s]\n",
      "eval: 100%|██████████| 157/157 [00:00<00:00, 973.30it/s]\n"
     ]
    },
    {
     "name": "stdout",
     "output_type": "stream",
     "text": [
      "epoch 80: train loss :: 1705580978253230592.000, dev loss :: 656319662631590656.000, time elapsed :: 3.3510775566101074\n"
     ]
    },
    {
     "name": "stderr",
     "output_type": "stream",
     "text": [
      "train-81: 100%|██████████| 938/938 [00:03<00:00, 297.23it/s]\n",
      "eval: 100%|██████████| 157/157 [00:00<00:00, 1082.45it/s]\n"
     ]
    },
    {
     "name": "stdout",
     "output_type": "stream",
     "text": [
      "epoch 81: train loss :: 1671786076508531456.000, dev loss :: 643666528727331456.000, time elapsed :: 3.3067667484283447\n"
     ]
    },
    {
     "name": "stderr",
     "output_type": "stream",
     "text": [
      "train-82: 100%|██████████| 938/938 [00:03<00:00, 302.43it/s]\n",
      "eval: 100%|██████████| 157/157 [00:00<00:00, 1016.22it/s]\n"
     ]
    },
    {
     "name": "stdout",
     "output_type": "stream",
     "text": [
      "epoch 82: train loss :: 1648616662805640448.000, dev loss :: 631347236942084096.000, time elapsed :: 3.2629313468933105\n"
     ]
    },
    {
     "name": "stderr",
     "output_type": "stream",
     "text": [
      "train-83: 100%|██████████| 938/938 [00:03<00:00, 293.11it/s]\n",
      "eval: 100%|██████████| 157/157 [00:00<00:00, 936.50it/s]\n"
     ]
    },
    {
     "name": "stdout",
     "output_type": "stream",
     "text": [
      "epoch 83: train loss :: 1619413041353933056.000, dev loss :: 619277756159913088.000, time elapsed :: 3.3718080520629883\n"
     ]
    },
    {
     "name": "stderr",
     "output_type": "stream",
     "text": [
      "train-84: 100%|██████████| 938/938 [00:03<00:00, 301.15it/s]\n",
      "eval: 100%|██████████| 157/157 [00:00<00:00, 948.75it/s]\n"
     ]
    },
    {
     "name": "stdout",
     "output_type": "stream",
     "text": [
      "epoch 84: train loss :: 1589039497770980608.000, dev loss :: 607850967823257728.000, time elapsed :: 3.2862350940704346\n"
     ]
    },
    {
     "name": "stderr",
     "output_type": "stream",
     "text": [
      "train-85: 100%|██████████| 938/938 [00:03<00:00, 290.14it/s]\n",
      "eval: 100%|██████████| 157/157 [00:00<00:00, 1063.28it/s]\n"
     ]
    },
    {
     "name": "stdout",
     "output_type": "stream",
     "text": [
      "epoch 85: train loss :: 1563422642884306944.000, dev loss :: 596181710527698688.000, time elapsed :: 3.3855955600738525\n"
     ]
    },
    {
     "name": "stderr",
     "output_type": "stream",
     "text": [
      "train-86: 100%|██████████| 938/938 [00:03<00:00, 282.05it/s]\n",
      "eval: 100%|██████████| 157/157 [00:00<00:00, 965.71it/s]\n"
     ]
    },
    {
     "name": "stdout",
     "output_type": "stream",
     "text": [
      "epoch 86: train loss :: 1536156993874781696.000, dev loss :: 584932837154323584.000, time elapsed :: 3.4952497482299805\n"
     ]
    },
    {
     "name": "stderr",
     "output_type": "stream",
     "text": [
      "train-87: 100%|██████████| 938/938 [00:03<00:00, 287.41it/s]\n",
      "eval: 100%|██████████| 157/157 [00:00<00:00, 963.21it/s]\n"
     ]
    },
    {
     "name": "stdout",
     "output_type": "stream",
     "text": [
      "epoch 87: train loss :: 1504379089102529792.000, dev loss :: 573690742021799616.000, time elapsed :: 3.4324512481689453\n"
     ]
    },
    {
     "name": "stderr",
     "output_type": "stream",
     "text": [
      "train-88: 100%|██████████| 938/938 [00:03<00:00, 265.90it/s]\n",
      "eval: 100%|██████████| 157/157 [00:00<00:00, 1002.74it/s]\n"
     ]
    },
    {
     "name": "stdout",
     "output_type": "stream",
     "text": [
      "epoch 88: train loss :: 1479746467514592768.000, dev loss :: 563261420668010176.000, time elapsed :: 3.6892337799072266\n"
     ]
    },
    {
     "name": "stderr",
     "output_type": "stream",
     "text": [
      "train-89: 100%|██████████| 938/938 [00:03<00:00, 278.97it/s]\n",
      "eval: 100%|██████████| 157/157 [00:00<00:00, 1097.57it/s]\n"
     ]
    },
    {
     "name": "stdout",
     "output_type": "stream",
     "text": [
      "epoch 89: train loss :: 1453325288713183232.000, dev loss :: 552799066797020160.000, time elapsed :: 3.5104596614837646\n"
     ]
    },
    {
     "name": "stderr",
     "output_type": "stream",
     "text": [
      "train-90: 100%|██████████| 938/938 [00:03<00:00, 289.45it/s]\n",
      "eval: 100%|██████████| 157/157 [00:00<00:00, 982.79it/s]\n"
     ]
    },
    {
     "name": "stdout",
     "output_type": "stream",
     "text": [
      "epoch 90: train loss :: 1429952084563607296.000, dev loss :: 542615324689297408.000, time elapsed :: 3.407426118850708\n"
     ]
    },
    {
     "name": "stderr",
     "output_type": "stream",
     "text": [
      "train-91: 100%|██████████| 938/938 [00:03<00:00, 300.90it/s]\n",
      "eval: 100%|██████████| 157/157 [00:00<00:00, 1039.19it/s]\n"
     ]
    },
    {
     "name": "stdout",
     "output_type": "stream",
     "text": [
      "epoch 91: train loss :: 1399447379082779904.000, dev loss :: 532647108999862208.000, time elapsed :: 3.273550033569336\n"
     ]
    },
    {
     "name": "stderr",
     "output_type": "stream",
     "text": [
      "train-92: 100%|██████████| 938/938 [00:03<00:00, 304.68it/s]\n",
      "eval: 100%|██████████| 157/157 [00:00<00:00, 1065.48it/s]\n"
     ]
    },
    {
     "name": "stdout",
     "output_type": "stream",
     "text": [
      "epoch 92: train loss :: 1375558425309958656.000, dev loss :: 522907685265294016.000, time elapsed :: 3.230950355529785\n"
     ]
    },
    {
     "name": "stderr",
     "output_type": "stream",
     "text": [
      "train-93: 100%|██████████| 938/938 [00:03<00:00, 299.99it/s]\n",
      "eval: 100%|██████████| 157/157 [00:00<00:00, 1068.29it/s]\n"
     ]
    },
    {
     "name": "stdout",
     "output_type": "stream",
     "text": [
      "epoch 93: train loss :: 1352722905450514688.000, dev loss :: 513293104306546176.000, time elapsed :: 3.281766653060913\n"
     ]
    },
    {
     "name": "stderr",
     "output_type": "stream",
     "text": [
      "train-94: 100%|██████████| 938/938 [00:03<00:00, 305.10it/s]\n",
      "eval: 100%|██████████| 157/157 [00:00<00:00, 995.01it/s]\n"
     ]
    },
    {
     "name": "stdout",
     "output_type": "stream",
     "text": [
      "epoch 94: train loss :: 1335867991258544128.000, dev loss :: 500069141391184704.000, time elapsed :: 3.2371113300323486\n"
     ]
    },
    {
     "name": "stderr",
     "output_type": "stream",
     "text": [
      "train-95: 100%|██████████| 938/938 [00:03<00:00, 298.54it/s]\n",
      "eval: 100%|██████████| 157/157 [00:00<00:00, 997.77it/s]\n"
     ]
    },
    {
     "name": "stdout",
     "output_type": "stream",
     "text": [
      "epoch 95: train loss :: 1314412375876453632.000, dev loss :: 478451633140496768.000, time elapsed :: 3.3052241802215576\n"
     ]
    },
    {
     "name": "stderr",
     "output_type": "stream",
     "text": [
      "train-96: 100%|██████████| 938/938 [00:03<00:00, 291.38it/s]\n",
      "eval: 100%|██████████| 157/157 [00:00<00:00, 974.52it/s]\n"
     ]
    },
    {
     "name": "stdout",
     "output_type": "stream",
     "text": [
      "epoch 96: train loss :: 1284273152907831040.000, dev loss :: 458852928011931776.000, time elapsed :: 3.387242555618286\n"
     ]
    },
    {
     "name": "stderr",
     "output_type": "stream",
     "text": [
      "train-97: 100%|██████████| 938/938 [00:03<00:00, 301.42it/s]\n",
      "eval: 100%|██████████| 157/157 [00:00<00:00, 1022.22it/s]\n"
     ]
    },
    {
     "name": "stdout",
     "output_type": "stream",
     "text": [
      "epoch 97: train loss :: 1260595819607532800.000, dev loss :: 445545409411782272.000, time elapsed :: 3.270432472229004\n"
     ]
    },
    {
     "name": "stderr",
     "output_type": "stream",
     "text": [
      "train-98: 100%|██████████| 938/938 [00:03<00:00, 291.18it/s]\n",
      "eval: 100%|██████████| 157/157 [00:00<00:00, 1063.98it/s]\n"
     ]
    },
    {
     "name": "stdout",
     "output_type": "stream",
     "text": [
      "epoch 98: train loss :: 1238734862241044224.000, dev loss :: 430568178963977600.000, time elapsed :: 3.3738999366760254\n"
     ]
    },
    {
     "name": "stderr",
     "output_type": "stream",
     "text": [
      "train-99: 100%|██████████| 938/938 [00:03<00:00, 303.59it/s]\n",
      "eval: 100%|██████████| 157/157 [00:00<00:00, 965.90it/s]"
     ]
    },
    {
     "name": "stdout",
     "output_type": "stream",
     "text": [
      "epoch 99: train loss :: 1214325076835584512.000, dev loss :: 405140546319352256.000, time elapsed :: 3.2572858333587646\n",
      "training finished, total time :: 334.9129922389984\n"
     ]
    },
    {
     "name": "stderr",
     "output_type": "stream",
     "text": [
      "\n"
     ]
    }
   ],
   "source": [
    "model = VAEDense(1, (28, 28), 256, hidden_layer_sizes=[50, 100])\n",
    "train(model, train_loader, test_loader, model_dir=\"MNIST\", file_prefix=\"dense-50-100\")"
   ]
  },
  {
   "cell_type": "code",
   "execution_count": 29,
   "metadata": {},
   "outputs": [
    {
     "data": {
      "text/plain": [
       "<matplotlib.image.AxesImage at 0x148980cb0a0>"
      ]
     },
     "execution_count": 29,
     "metadata": {},
     "output_type": "execute_result"
    },
    {
     "data": {
      "image/png": "[encoded data removed]",
      "text/plain": [
       "<Figure size 640x480 with 2 Axes>"
      ]
     },
     "metadata": {},
     "output_type": "display_data"
    }
   ],
   "source": [
    "x = random.sample(list(test_loader), 1)[0][0] # 1x28x28\n",
    "y = model(x.to(model.device)).detach().cpu().numpy()[0]\n",
    "img1 = np.transpose(x.numpy(), [1, 2, 0])\n",
    "img2 = np.transpose(y, [1, 2, 0])\n",
    "plt.subplot(121)\n",
    "plt.imshow(np.squeeze(img1))\n",
    "plt.subplot(122)\n",
    "plt.imshow(np.squeeze(img2))"
   ]
  },
  {
   "cell_type": "code",
   "execution_count": 30,
   "metadata": {},
   "outputs": [
    {
     "data": {
      "text/plain": [
       "<matplotlib.image.AxesImage at 0x148980fd750>"
      ]
     },
     "execution_count": 30,
     "metadata": {},
     "output_type": "execute_result"
    },
    {
     "data": {
      "image/png": "[encoded data removed]",
      "text/plain": [
       "<Figure size 640x480 with 2 Axes>"
      ]
     },
     "metadata": {},
     "output_type": "display_data"
    }
   ],
   "source": [
    "x = random.sample(list(test_loader), 1)[0][0] # 1x28x28\n",
    "y = model(x.to(model.device)).detach().cpu().numpy()[0]\n",
    "img1 = np.transpose(x.numpy(), [1, 2, 0])\n",
    "img2 = np.transpose(y, [1, 2, 0])\n",
    "plt.subplot(121)\n",
    "plt.imshow(np.squeeze(img1))\n",
    "plt.subplot(122)\n",
    "plt.imshow(np.squeeze(img2))"
   ]
  },
  {
   "cell_type": "code",
   "execution_count": 31,
   "metadata": {},
   "outputs": [
    {
     "name": "stderr",
     "output_type": "stream",
     "text": [
      "train-0: 100%|██████████| 938/938 [00:25<00:00, 36.49it/s]\n",
      "eval: 100%|██████████| 157/157 [00:00<00:00, 218.70it/s]\n"
     ]
    },
    {
     "name": "stdout",
     "output_type": "stream",
     "text": [
      "epoch 0: train loss :: 5995.123, dev loss :: 4320.758, time elapsed :: 26.732832193374634\n"
     ]
    },
    {
     "name": "stderr",
     "output_type": "stream",
     "text": [
      "train-1: 100%|██████████| 938/938 [00:25<00:00, 36.73it/s]\n",
      "eval: 100%|██████████| 157/157 [00:00<00:00, 224.38it/s]\n"
     ]
    },
    {
     "name": "stdout",
     "output_type": "stream",
     "text": [
      "epoch 1: train loss :: 3594.682, dev loss :: 2935.015, time elapsed :: 26.51429796218872\n"
     ]
    },
    {
     "name": "stderr",
     "output_type": "stream",
     "text": [
      "train-2: 100%|██████████| 938/938 [00:25<00:00, 36.79it/s]\n",
      "eval: 100%|██████████| 157/157 [00:00<00:00, 223.22it/s]\n"
     ]
    },
    {
     "name": "stdout",
     "output_type": "stream",
     "text": [
      "epoch 2: train loss :: 2482.266, dev loss :: 2124.577, time elapsed :: 26.5229012966156\n"
     ]
    },
    {
     "name": "stderr",
     "output_type": "stream",
     "text": [
      "train-3: 100%|██████████| 938/938 [00:25<00:00, 36.62it/s]\n",
      "eval: 100%|██████████| 157/157 [00:00<00:00, 217.24it/s]\n"
     ]
    },
    {
     "name": "stdout",
     "output_type": "stream",
     "text": [
      "epoch 3: train loss :: 1941.675, dev loss :: 1761.642, time elapsed :: 26.684330224990845\n"
     ]
    },
    {
     "name": "stderr",
     "output_type": "stream",
     "text": [
      "train-4: 100%|██████████| 938/938 [00:25<00:00, 36.46it/s]\n",
      "eval: 100%|██████████| 157/157 [00:00<00:00, 219.29it/s]\n"
     ]
    },
    {
     "name": "stdout",
     "output_type": "stream",
     "text": [
      "epoch 4: train loss :: 1659.480, dev loss :: 1524.330, time elapsed :: 26.785502672195435\n"
     ]
    },
    {
     "name": "stderr",
     "output_type": "stream",
     "text": [
      "train-5: 100%|██████████| 938/938 [00:25<00:00, 36.70it/s]\n",
      "eval: 100%|██████████| 157/157 [00:00<00:00, 219.41it/s]\n"
     ]
    },
    {
     "name": "stdout",
     "output_type": "stream",
     "text": [
      "epoch 5: train loss :: 1451.790, dev loss :: 1365.500, time elapsed :: 26.60738253593445\n"
     ]
    },
    {
     "name": "stderr",
     "output_type": "stream",
     "text": [
      "train-6: 100%|██████████| 938/938 [00:25<00:00, 36.86it/s]\n",
      "eval: 100%|██████████| 157/157 [00:00<00:00, 216.48it/s]\n"
     ]
    },
    {
     "name": "stdout",
     "output_type": "stream",
     "text": [
      "epoch 6: train loss :: 1272.029, dev loss :: 1169.513, time elapsed :: 26.49039888381958\n"
     ]
    },
    {
     "name": "stderr",
     "output_type": "stream",
     "text": [
      "train-7: 100%|██████████| 938/938 [00:25<00:00, 36.80it/s]\n",
      "eval: 100%|██████████| 157/157 [00:00<00:00, 218.54it/s]\n"
     ]
    },
    {
     "name": "stdout",
     "output_type": "stream",
     "text": [
      "epoch 7: train loss :: 1116.969, dev loss :: 1030.387, time elapsed :: 26.525253772735596\n"
     ]
    },
    {
     "name": "stderr",
     "output_type": "stream",
     "text": [
      "train-8: 100%|██████████| 938/938 [00:25<00:00, 36.18it/s]\n",
      "eval: 100%|██████████| 157/157 [00:00<00:00, 217.95it/s]\n"
     ]
    },
    {
     "name": "stdout",
     "output_type": "stream",
     "text": [
      "epoch 8: train loss :: 989.748, dev loss :: 916.050, time elapsed :: 26.960748434066772\n"
     ]
    },
    {
     "name": "stderr",
     "output_type": "stream",
     "text": [
      "train-9: 100%|██████████| 938/938 [00:25<00:00, 36.68it/s]\n",
      "eval: 100%|██████████| 157/157 [00:00<00:00, 213.61it/s]\n"
     ]
    },
    {
     "name": "stdout",
     "output_type": "stream",
     "text": [
      "epoch 9: train loss :: 887.193, dev loss :: 827.128, time elapsed :: 26.61375141143799\n",
      "training finished, total time :: 266.43930864334106\n"
     ]
    }
   ],
   "source": [
    "model = VAEConv2D(1, (28, 28), 256, hidden_layer_sizes=[50, 100])\n",
    "train(model, train_loader, test_loader, model_dir=\"MNIST\", file_prefix=\"conv-50-100\", epochs=10)"
   ]
  },
  {
   "cell_type": "code",
   "execution_count": 32,
   "metadata": {},
   "outputs": [
    {
     "data": {
      "text/plain": [
       "<matplotlib.image.AxesImage at 0x14897fe4a00>"
      ]
     },
     "execution_count": 32,
     "metadata": {},
     "output_type": "execute_result"
    },
    {
     "data": {
      "image/png": "[encoded data removed]",
      "text/plain": [
       "<Figure size 640x480 with 2 Axes>"
      ]
     },
     "metadata": {},
     "output_type": "display_data"
    }
   ],
   "source": [
    "x = random.sample(list(test_loader), 1)[0][0:1] # 1x1x28x28\n",
    "y = model(x.to(model.device)).detach().cpu().numpy()[0]\n",
    "img1 = np.transpose(x.numpy()[0], [1, 2, 0])\n",
    "img2 = np.transpose(y, [1, 2, 0])\n",
    "plt.subplot(121)\n",
    "plt.imshow(np.squeeze(img1))\n",
    "plt.subplot(122)\n",
    "plt.imshow(np.squeeze(img2))"
   ]
  },
  {
   "cell_type": "code",
   "execution_count": 33,
   "metadata": {},
   "outputs": [
    {
     "data": {
      "text/plain": [
       "<matplotlib.image.AxesImage at 0x148996c3160>"
      ]
     },
     "execution_count": 33,
     "metadata": {},
     "output_type": "execute_result"
    },
    {
     "data": {
      "image/png": "[encoded data removed]",
      "text/plain": [
       "<Figure size 640x480 with 2 Axes>"
      ]
     },
     "metadata": {},
     "output_type": "display_data"
    }
   ],
   "source": [
    "x = random.sample(list(test_loader), 1)[0][0:1] # 1x1x28x28\n",
    "y = model(x.to(model.device)).detach().cpu().numpy()[0]\n",
    "img1 = np.transpose(x.numpy()[0], [1, 2, 0])\n",
    "img2 = np.transpose(y, [1, 2, 0])\n",
    "plt.subplot(121)\n",
    "plt.imshow(np.squeeze(img1))\n",
    "plt.subplot(122)\n",
    "plt.imshow(np.squeeze(img2))"
   ]
  },
  {
   "cell_type": "code",
   "execution_count": null,
   "metadata": {},
   "outputs": [],
   "source": []
  }
 ],
 "metadata": {
  "kernelspec": {
   "display_name": "Python 3",
   "language": "python",
   "name": "python3"
  },
  "language_info": {
   "codemirror_mode": {
    "name": "ipython",
    "version": 3
   },
   "file_extension": ".py",
   "mimetype": "text/x-python",
   "name": "python",
   "nbconvert_exporter": "python",
   "pygments_lexer": "ipython3",
   "version": "3.10.8"
  },
  "orig_nbformat": 4
 },
 "nbformat": 4,
 "nbformat_minor": 2
}
