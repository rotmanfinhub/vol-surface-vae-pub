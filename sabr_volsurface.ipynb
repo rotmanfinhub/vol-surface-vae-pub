{
 "cells": [
  {
   "cell_type": "code",
   "execution_count": 1,
   "metadata": {},
   "outputs": [],
   "source": [
    "import numpy as np\n",
    "from data_preproc.sabr_gen import SABRSurface"
   ]
  },
  {
   "cell_type": "code",
   "execution_count": 2,
   "metadata": {},
   "outputs": [
    {
     "name": "stdout",
     "output_type": "stream",
     "text": [
      "Generating asset price paths (SABR)\n",
      "Generating implied vol\n"
     ]
    },
    {
     "name": "stderr",
     "output_type": "stream",
     "text": [
      "d:\\Research\\RL\\vol-surface-vae\\data_preproc\\sabr_gen.py:104: RuntimeWarning: invalid value encountered in divide\n",
      "  SABRIV = np.where(F == K, vol * B / (F ** (1 - self.beta)), A * B * Phi / Chi) # (num_path, num_period)\n"
     ]
    }
   ],
   "source": [
    "surface_gen = SABRSurface()\n",
    "sabr_price, sabr_iv, realized_vol = surface_gen.get_sim_path_sabr()\n",
    "returns = np.zeros_like(sabr_price)\n",
    "returns[:, 1:] = np.log(sabr_price[:, 1:]) - np.log(sabr_price[:, :-1])"
   ]
  },
  {
   "cell_type": "code",
   "execution_count": 3,
   "metadata": {},
   "outputs": [
    {
     "name": "stdout",
     "output_type": "stream",
     "text": [
      "(10000, 31)\n",
      "(10000, 31)\n",
      "(10000, 31, 5, 5)\n"
     ]
    }
   ],
   "source": [
    "print(sabr_price.shape)\n",
    "print(returns.shape)\n",
    "print(sabr_iv.shape)"
   ]
  },
  {
   "cell_type": "code",
   "execution_count": 4,
   "metadata": {},
   "outputs": [],
   "source": [
    "np.savez(\"data/sabr_surface_with_ret.npz\", surface=sabr_iv, ret=returns, price=sabr_price, realized_vol=realized_vol)"
   ]
  },
  {
   "cell_type": "code",
   "execution_count": 5,
   "metadata": {},
   "outputs": [
    {
     "name": "stdout",
     "output_type": "stream",
     "text": [
      "['surface', 'ret', 'price']\n"
     ]
    }
   ],
   "source": [
    "data = np.load(\"data/sabr_surface_with_ret.npz\")\n",
    "print(data.files)"
   ]
  },
  {
   "cell_type": "code",
   "execution_count": null,
   "metadata": {},
   "outputs": [],
   "source": []
  }
 ],
 "metadata": {
  "kernelspec": {
   "display_name": "Python 3",
   "language": "python",
   "name": "python3"
  },
  "language_info": {
   "codemirror_mode": {
    "name": "ipython",
    "version": 3
   },
   "file_extension": ".py",
   "mimetype": "text/x-python",
   "name": "python",
   "nbconvert_exporter": "python",
   "pygments_lexer": "ipython3",
   "version": "3.10.8"
  },
  "orig_nbformat": 4
 },
 "nbformat": 4,
 "nbformat_minor": 2
}
